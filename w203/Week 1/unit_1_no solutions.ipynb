{
 "cells": [
  {
   "cell_type": "markdown",
   "metadata": {
    "solution": "hidden"
   },
   "source": [
    "<font size=5><b>Unit 1 Live Session - W203, Statistics for Data Science (Summer'20)</font>"
   ]
  },
  {
   "cell_type": "markdown",
   "metadata": {},
   "source": [
    "# 1. What's statistics? What's this class?\n",
    "\n",
    "<img src=\"https://imgs.xkcd.com/comics/correlation.png\">"
   ]
  },
  {
   "cell_type": "markdown",
   "metadata": {},
   "source": [
    "# 2. Instructor Introduction\n",
    "\n",
    "<a><img src=\"https://i.imgflip.com/30a2nn.jpg\"/></a>"
   ]
  },
  {
   "cell_type": "markdown",
   "metadata": {},
   "source": [
    "# 3. Our Students\n",
    "We will ask you for short introductions on Slack. **Question:** What does a *data scientist* look like?"
   ]
  },
  {
   "cell_type": "markdown",
   "metadata": {
    "ExecuteTime": {
     "end_time": "2020-05-03T04:26:00.499605Z",
     "start_time": "2020-05-03T04:26:00.494203Z"
    }
   },
   "source": [
    "# 4. Weekly Workflow\n",
    "\n",
    "A typical week of the course proceeds as follows:\n",
    "\n",
    "   1. Before live session: \n",
    "     1. Watch realated async content.\n",
    "     1. Complete related required readings.\n",
    "   2. In live session: \n",
    "     1. We will build upon the async to test and extend your understanding\n",
    "   3. After live session: \n",
    "     1. complete the homework for the unit (due before next live session)"
   ]
  },
  {
   "cell_type": "markdown",
   "metadata": {},
   "source": [
    "# 5. Important Resources\n",
    "- [Course Webpage](https://w203-summer-20.github.io/class)\n",
    "    - Up-to-date course policies\n",
    "    - Calendar with weekly deliverables and deadlines\n",
    "- [ISVC](https://learn.datascience.berkeley.edu/login)\n",
    "    - Platform with course videos\n",
    "    - Submit your homework/labs here\n",
    "      - One output file (either PDF or HTML)\n",
    "      - One source file (IPYNB or RMD or R)\n",
    "- [Github Org: w203-summer-20](https://github.com/w203-summer-20)\n",
    "    - Source of homework, labs, and live session documents\n",
    "    - Check an invite to our *github.org* to your iSchool email\n",
    "      - it will allow you to join with any github account you like.\n",
    "- [Slack #w203_mids_sum_20](https://ucbischool.slack.com/archives/C012FARHLJE) \n",
    "    - Our forum for questions about content, announcements, etc."
   ]
  },
  {
   "cell_type": "markdown",
   "metadata": {},
   "source": [
    "# 6. Homework (HW)\n",
    "\n",
    "* Almost weekly.\n",
    "* Access HW1 via [Github.Org](https://github.com/w203-summer-20).\n",
    "  * Open the repository `unit\\_1\\_hw`.  \n",
    "  * If you are unfamiliar with *Github*, don't worry about the details right now. Find the green button to download a zip file containing all documents.\n",
    "  *You can then open the notebook using Jupyter.\n",
    "* Submit HW1 via `ISVC>Assessments`\n",
    "  * There is a page there to upload your solution file"
   ]
  },
  {
   "cell_type": "markdown",
   "metadata": {},
   "source": [
    "# 7. How to Succeed in this Class\n",
    "\n",
    "Here are some helpful strategies:\n",
    "\n",
    "   1. Get to know your readings, esp. *Devore* and *Wooldridge* textbooks\n",
    "     1. Some questions may come directly from readings\n",
    "   2. Do your best on assignments\n",
    "   3. Strategize about the HW with friends as much as you want, but submitted work must be your individual work.\n",
    "     1. Note: do not discuss quizzes/labs with anyone else unless otherwise specified\n",
    "   4. Try each problem on your own for at least a little bit. \n",
    "     1. We don't ask plug-and-chug problems in this class. \n",
    "     1. 99% of your time will be spent connecting words in English to mathematical objects. \n",
    "     1. It's normal not to know what formula to apply - once you do, you're almost done. \n",
    "     1. If lost:\n",
    "       1. review similar examples in textbook and async videos\n",
    "       1. write down relevant definitions\n",
    "       1. draw a relevant picture/diagram\n",
    "       1. express the unknowns in terms of known variables\n",
    "     1. If stuck on a problem for 30 min, talk to a classmate, come to OH, or make a post on class forum\n",
    "       1. When posting describe your approach, but do not give out solutions (whether correct or not)\n",
    "         1. Give other students a joy of solving the problem on their own\n",
    "   1. Form study groups!\n",
    "   1. Come to office hours (OH)!  To all OH!\n",
    "     1. Instructors can prepare a specific example, if you send your in advance"
   ]
  },
  {
   "cell_type": "markdown",
   "metadata": {},
   "source": [
    "# 8. Software\n",
    "\n",
    ". | . | . | .\n",
    "- | - | - | -\n",
    "![](https://ijstokes-public.s3.amazonaws.com/dspyr/img/AnacondaCIO_Logo) | ![](https://upload.wikimedia.org/wikipedia/commons/thumb/3/38/Jupyter_logo.svg/1200px-Jupyter_logo.svg.png) | ![alt](https://cloud.r-project.org/Rlogo.svg) | ![](https://rstudio.com/wp-content/uploads/2018/10/RStudio-Logo.png)\n",
    "\n",
    "You have 3 ways to use R code interpreter:\n",
    "\n",
    "1. [R project](https://cloud.r-project.org) and [RStudio](https://www.rstudio.com/products/rstudio/download)\n",
    "  1. [Video tutorial](https://www.youtube.com/watch?v=9-RrkJQQYqY)\n",
    "1. [Anaconda, Jupyter Notebooks](https://www.youtube.com/watch?v=jZ952vChhuI) with an R kernel:\n",
    "  1. [Video tutorial for Anaconda](https://www.youtube.com/watch?v=YJC6ldI3hWk)\n",
    "    1. It contains Jupyter Server and Notebook\n",
    "  1. [Video tutorial for R Kernel](https://www.youtube.com/watch?v=SXBxKe8sK6I)\n",
    "    1. Just run a command `conda install -c r r-essentials` in [CLI](https://en.wikipedia.org/wiki/Command-line_interface) of your operating system (OS)\n",
    "1. Web-based RStudio using Berkeley's [datahub](https://r.datahub.berkeley.edu)\n",
    "  1. Convenient, if you can't install software on your PC\n",
    "  \n",
    "\n",
    "The first few weeks are heavy in math. Turn in as a **single** `.pdf` file! You can handwrite/scan or type up (preferred) your solutions with these tools:\n",
    "\n",
    "1. [LyX](https://www.lyx.org/): Visual LaTeX. Excellent tool\n",
    "1. Microsoft Word has a great formula editor\n",
    "1. Google Doc has a reasonable formula editor\n",
    "1. Any Latex editor and turn in the typesetted `.pdf`\n",
    "\n",
    "LaTeX is painful at first due to errors from failed compilations, but is useful in the long run. We will be able to use the syntax for communicating equations in the notes and chat pods.\n",
    "\n",
    "![title](images/latex_language.jpeg)"
   ]
  },
  {
   "cell_type": "markdown",
   "metadata": {},
   "source": [
    "# 9. Practical Probability Theory\n",
    "\n",
    "![title](images/Picard.jpg)"
   ]
  },
  {
   "cell_type": "markdown",
   "metadata": {},
   "source": [
    "## Exercise: Sample Space\n",
    "For each of the following experiments:\n",
    "\n",
    "1. Give example of an event\n",
    "1. Define a state space $\\Omega$ \n",
    "1. How big is $\\Omega$ (what is its cardinality, i.e. how many elements does it have?)"
   ]
  },
  {
   "cell_type": "markdown",
   "metadata": {
    "solution": "shown",
    "solution_first": true
   },
   "source": [
    "<div class=\"alert alert-block alert-warning\">\n",
    "<img style=\"float: left;\" width=100 src=\"https://upload.wikimedia.org/wikipedia/commons/thumb/7/77/Nuvola_apps_atlantik.png/100px-Nuvola_apps_atlantik.png\"><b>Exercise</b>: Rolling a 6 sided die\n",
    "</div>"
   ]
  },
  {
   "cell_type": "code",
   "execution_count": 1,
   "metadata": {},
   "outputs": [],
   "source": [
    "#Sample space contains all of the possible outcomes, so it's 6  {1, 2, 3, 4, 5, 6.}"
   ]
  },
  {
   "cell_type": "markdown",
   "metadata": {},
   "source": [
    "-----"
   ]
  },
  {
   "cell_type": "markdown",
   "metadata": {
    "solution": "shown",
    "solution_first": true
   },
   "source": [
    "Consider a standard [52-card deck](https://en.wikipedia.org/wiki/Standard_52-card_deck) with 13 ranks and 4 suits. Image source: [Wikipedia](https://en.wikipedia.org/wiki/Standard_52-card_deck)\n",
    "\n",
    "<img style=\"float: top;\" width=600 src=\"images/Playing_Cards.jpg\">\n",
    "\n",
    "<div class=\"alert alert-block alert-warning\">\n",
    "<img style=\"float: left;\" width=\"100\" src=\"https://upload.wikimedia.org/wikipedia/commons/thumb/5/58/AcetoFive.JPG/440px-AcetoFive.JPG\">\n",
    "    \n",
    "<b>Exercise:</b> Drawing a 5 Card Poker Hand\n",
    "</div>"
   ]
  },
  {
   "cell_type": "markdown",
   "metadata": {
    "solution": "shown"
   },
   "source": []
  },
  {
   "cell_type": "markdown",
   "metadata": {},
   "source": [
    "$a^2$"
   ]
  },
  {
   "cell_type": "markdown",
   "metadata": {},
   "source": [
    "<div class=\"alert alert-block alert-warning\">\n",
    "<img style=\"float: left;\" width=\"100\" src=\"images/survey.jpg\">\n",
    "    \n",
    "<b>Exercise:</b> Choosing 1000 U.S. citizens for a survey\n",
    "</div>"
   ]
  },
  {
   "cell_type": "markdown",
   "metadata": {},
   "source": [
    "-------------"
   ]
  },
  {
   "cell_type": "markdown",
   "metadata": {
    "ExecuteTime": {
     "end_time": "2020-05-03T21:47:30.235909Z",
     "start_time": "2020-05-03T21:47:30.206Z"
    }
   },
   "source": [
    "## Exercise: Compute with LTP\n",
    "<div class=\"alert alert-block alert-warning\">\n",
    "<img src=\"images/Law_of_Total_Prob_squares.jpg\">\n",
    "    </div>"
   ]
  },
  {
   "cell_type": "markdown",
   "metadata": {},
   "source": [
    "------------"
   ]
  },
  {
   "cell_type": "markdown",
   "metadata": {},
   "source": [
    "## Exercise:  Explain LTP\n",
    "\n",
    "<div class=\"alert alert-block alert-warning\">\n",
    "<img style=\"float: left;\" width=\"400\" src=\"images/diag_22.png\">\n",
    "\n",
    "Consider a partition of $\\Omega$ state space \n",
    "\n",
    "1. What would disjoint, but not mutually exclusive set of $A_i$'s would look like?\n",
    "1. What would mutually exclusive, but not disjoint set of $A_i$'s would look like?\n",
    "1. Explain what the Law of Total Probabilities (LTP) means intuitively.\n",
    "$$  P(B) = \\sum_{i=1}^N P(A_i \\cap B) = \\sum_{i=1}^N P(B|A_i) P(A_i) $$\n",
    "</div>"
   ]
  },
  {
   "cell_type": "markdown",
   "metadata": {},
   "source": [
    "------"
   ]
  },
  {
   "cell_type": "code",
   "execution_count": null,
   "metadata": {},
   "outputs": [],
   "source": []
  },
  {
   "cell_type": "markdown",
   "metadata": {},
   "source": [
    "## Exercise: Conditional Probabilities\n",
    "\n",
    "<div class=\"alert alert-block alert-warning\">\n",
    "Suppose you're taking a statistics class and that in each week you are either caught up or behind on the readings. It is difficult to incorporate a new class in to your schedule so the probability that you will be caught up in Week 1, having viewed all async and completed the pre class exercises before the live session, is 0.7. From then on, if you are caught up in a given week, the probability that you will be caught up in the next week is 0.7. If you are behind in a given week, the probability that you will be caught up in the next week is 0.4. What is the probability that you are caught up in week 3?\n",
    "\n",
    "<br>You can use a tree diagram or a formula (which one?) to solve the problem.\n",
    "</div>"
   ]
  },
  {
   "cell_type": "markdown",
   "metadata": {},
   "source": [
    "--------------------"
   ]
  },
  {
   "cell_type": "markdown",
   "metadata": {},
   "source": [
    "## Exercise\n",
    "\n",
    "<div class=\"alert alert-block alert-warning\">\n",
    "A test for certain disease is assumed to be correct 95% of the time: if a person has the disease the test will give a positive result with probability 0.95. If a person does not have disease the test will give a negative result with probability 0.95. A random person drawn from a certain population has a probability 0.001 of having the disease. Given that a person drawn at random just tested positive, what is the probability that they have the disease?\n",
    "    \n",
    "<b>Setup:</b><br>\n",
    "Similar to above, we can either build a tree or state all probabilities symbolically. Let $D$ be the event of a person having the disease, \"$+$\" is the event of the test showing positive, and \"$-$\" is the event of the test showing negative. Then we need to find $\\mathbb{P}[D|+]$\n",
    "</div>"
   ]
  },
  {
   "cell_type": "markdown",
   "metadata": {},
   "source": [
    "----------------"
   ]
  },
  {
   "cell_type": "markdown",
   "metadata": {},
   "source": [
    "# 10. Reminders\n",
    "Before next week:\n",
    "\n",
    "   1. Install Jupyter with an R kernel (or make sure you can use r.datahub.berkeley.edu)\n",
    "   2. Complete the Unit 1 homework located in our Github.org (due before next live session).\n",
    "   3. Watch all unit 2 async content"
   ]
  },
  {
   "cell_type": "code",
   "execution_count": null,
   "metadata": {},
   "outputs": [],
   "source": []
  }
 ],
 "metadata": {
  "kernelspec": {
   "display_name": "Python 3",
   "language": "python",
   "name": "python3"
  },
  "language_info": {
   "codemirror_mode": {
    "name": "ipython",
    "version": 3
   },
   "file_extension": ".py",
   "mimetype": "text/x-python",
   "name": "python",
   "nbconvert_exporter": "python",
   "pygments_lexer": "ipython3",
   "version": "3.8.2"
  },
  "latex_envs": {
   "LaTeX_envs_menu_present": true,
   "autoclose": false,
   "autocomplete": true,
   "bibliofile": "biblio.bib",
   "cite_by": "apalike",
   "current_citInitial": 1,
   "eqLabelWithNumbers": true,
   "eqNumInitial": 1,
   "hotkeys": {
    "equation": "Ctrl-E",
    "itemize": "Ctrl-I"
   },
   "labels_anchors": false,
   "latex_user_defs": false,
   "report_style_numbering": false,
   "user_envs_cfg": false
  },
  "toc": {
   "base_numbering": 1,
   "nav_menu": {},
   "number_sections": true,
   "sideBar": true,
   "skip_h1_title": false,
   "title_cell": "Table of Contents",
   "title_sidebar": "Contents",
   "toc_cell": false,
   "toc_position": {},
   "toc_section_display": true,
   "toc_window_display": true
  },
  "varInspector": {
   "cols": {
    "lenName": 16,
    "lenType": 16,
    "lenVar": 40
   },
   "kernels_config": {
    "python": {
     "delete_cmd_postfix": "",
     "delete_cmd_prefix": "del ",
     "library": "var_list.py",
     "varRefreshCmd": "print(var_dic_list())"
    },
    "r": {
     "delete_cmd_postfix": ") ",
     "delete_cmd_prefix": "rm(",
     "library": "var_list.r",
     "varRefreshCmd": "cat(var_dic_list()) "
    }
   },
   "position": {
    "height": "251.078px",
    "left": "925.375px",
    "right": "20px",
    "top": "221.986px",
    "width": "328.155px"
   },
   "types_to_exclude": [
    "module",
    "function",
    "builtin_function_or_method",
    "instance",
    "_Feature"
   ],
   "window_display": false
  }
 },
 "nbformat": 4,
 "nbformat_minor": 4
}
