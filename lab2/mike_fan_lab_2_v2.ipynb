{
 "cells": [
  {
   "cell_type": "markdown",
   "metadata": {},
   "source": [
    "# Lab 2: Comparing Means\n",
    "## w203 Statistics for Data Science\n",
    "\n",
    "## The Data\n",
    "\n",
    "The American National Election Studies (ANES) conducts surveys of voters in the United States.  While its flagship survey occurs every four years at the time of each presidential election, ANES also conducts pilot studies midway between these elections.  You are provided with data from the 2018 ANES Pilot Study.\n",
    "\n",
    "For a glimpse into some of the intricacies that go into the design of this study, take a look at the introduction to the [ANES User's Guide and Codebook](https://electionstudies.org/wp-content/uploads/2019/02/anes_pilot_2018_userguidecodebook.pdf).\n",
    "\n",
    "It is important to consider the way that the ANES sample was created.  Survery participants are taken from the YouGov panel, which is an online system in which users earn rewards for completing questionnaires.  This feature limits the extent to which results generalize to the U.S. population.\n",
    "\n",
    "To partially account for differences between the YouGov panel and the U.S. Population, ANES assigns a survey weight to each observation.  This weight estimates the degree to which a citizen with certain observed characteristics is over- or under-represented in the sample.  For the purposes of this assignment, however, you are not asked to use the survey weights.  (For groups with a strong interest in survey analysis, we recommend that you read about R's [survey package](http://r-survey.r-forge.r-project.org/survey/).  We will assign a very small number of bonus points (up to 3) to any group that correctly applies the survey weights and includes a clear explanation of how these work)."
   ]
  },
  {
   "cell_type": "code",
   "execution_count": 1,
   "metadata": {
    "scrolled": true
   },
   "outputs": [
    {
     "data": {
      "text/html": [
       "'C:/Users/micha/Desktop/lab_2-master'"
      ],
      "text/latex": [
       "'C:/Users/micha/Desktop/lab\\_2-master'"
      ],
      "text/markdown": [
       "'C:/Users/micha/Desktop/lab_2-master'"
      ],
      "text/plain": [
       "[1] \"C:/Users/micha/Desktop/lab_2-master\""
      ]
     },
     "metadata": {},
     "output_type": "display_data"
    }
   ],
   "source": [
    "getwd()"
   ]
  },
  {
   "cell_type": "code",
   "execution_count": 188,
   "metadata": {},
   "outputs": [
    {
     "name": "stderr",
     "output_type": "stream",
     "text": [
      "Warning message:\n",
      "\"package 'cowplot' was built under R version 4.0.2\"\n",
      "\n",
      "********************************************************\n",
      "\n",
      "Note: As of version 1.0.0, cowplot does not change the\n",
      "\n",
      "  default ggplot2 theme anymore. To recover the previous\n",
      "\n",
      "  behavior, execute:\n",
      "  theme_set(theme_cowplot())\n",
      "\n",
      "********************************************************\n",
      "\n",
      "\n"
     ]
    }
   ],
   "source": [
    "library(plyr)\n",
    "library(dplyr)\n",
    "library(ggplot2)\n",
    "library(summarytools)\n",
    "library(coin)\n",
    "library(effsize)\n",
    "library(tidyverse)\n",
    "library(lsr)\n",
    "library(corrplot)\n",
    "library(rstatix)\n",
    "library(BSDA)\n",
    "library(cowplot)"
   ]
  },
  {
   "cell_type": "code",
   "execution_count": 3,
   "metadata": {},
   "outputs": [
    {
     "data": {
      "text/html": [
       "<table>\n",
       "<caption>A data.frame: 6 × 767</caption>\n",
       "<thead>\n",
       "\t<tr><th></th><th scope=col>ï..version</th><th scope=col>caseid</th><th scope=col>weight</th><th scope=col>weight_spss</th><th scope=col>form</th><th scope=col>follow</th><th scope=col>addtime</th><th scope=col>reg</th><th scope=col>whenreg</th><th scope=col>howreg</th><th scope=col>...</th><th scope=col>rand_emp</th><th scope=col>rand_climate</th><th scope=col>rand_rural</th><th scope=col>rand_pk</th><th scope=col>rand_pid</th><th scope=col>starttime</th><th scope=col>endtime</th><th scope=col>duration</th><th scope=col>optintimestamp</th><th scope=col>completes</th></tr>\n",
       "\t<tr><th></th><th scope=col>&lt;chr&gt;</th><th scope=col>&lt;int&gt;</th><th scope=col>&lt;dbl&gt;</th><th scope=col>&lt;dbl&gt;</th><th scope=col>&lt;int&gt;</th><th scope=col>&lt;int&gt;</th><th scope=col>&lt;int&gt;</th><th scope=col>&lt;int&gt;</th><th scope=col>&lt;int&gt;</th><th scope=col>&lt;int&gt;</th><th scope=col>...</th><th scope=col>&lt;int&gt;</th><th scope=col>&lt;int&gt;</th><th scope=col>&lt;int&gt;</th><th scope=col>&lt;int&gt;</th><th scope=col>&lt;int&gt;</th><th scope=col>&lt;chr&gt;</th><th scope=col>&lt;chr&gt;</th><th scope=col>&lt;int&gt;</th><th scope=col>&lt;chr&gt;</th><th scope=col>&lt;int&gt;</th></tr>\n",
       "</thead>\n",
       "<tbody>\n",
       "\t<tr><th scope=row>1</th><td>ANES 2018 Pilot Study main version 20190129</td><td>1</td><td>1.2555080</td><td>0.7286969</td><td>1</td><td>4</td><td>2</td><td>1</td><td> 4</td><td>-1</td><td>...</td><td>1</td><td>2</td><td>2</td><td>1</td><td>1</td><td>12/10/2018 18:34</td><td>12/10/2018 20:00</td><td> 5152</td><td>10/15/2015</td><td> 46</td></tr>\n",
       "\t<tr><th scope=row>2</th><td>ANES 2018 Pilot Study main version 20190129</td><td>2</td><td>0.5694911</td><td>0.3305327</td><td>2</td><td>1</td><td>2</td><td>3</td><td>-1</td><td>-1</td><td>...</td><td>2</td><td>1</td><td>1</td><td>0</td><td>2</td><td>12/10/2018 19:26</td><td>12/10/2018 19:53</td><td> 1595</td><td>7/16/2016 </td><td> 55</td></tr>\n",
       "\t<tr><th scope=row>3</th><td>ANES 2018 Pilot Study main version 20190129</td><td>3</td><td>0.9720616</td><td>0.5641846</td><td>1</td><td>4</td><td>3</td><td>3</td><td>-1</td><td>-1</td><td>...</td><td>2</td><td>2</td><td>1</td><td>1</td><td>2</td><td>12/10/2018 19:48</td><td>12/10/2018 20:21</td><td> 1957</td><td>6/13/2014 </td><td>  8</td></tr>\n",
       "\t<tr><th scope=row>4</th><td>ANES 2018 Pilot Study main version 20190129</td><td>4</td><td>2.4500732</td><td>1.4220225</td><td>1</td><td>4</td><td>2</td><td>1</td><td> 4</td><td>-1</td><td>...</td><td>2</td><td>2</td><td>1</td><td>0</td><td>1</td><td>12/10/2018 19:03</td><td>12/10/2018 19:21</td><td> 1039</td><td>10/28/2015</td><td> 42</td></tr>\n",
       "\t<tr><th scope=row>5</th><td>ANES 2018 Pilot Study main version 20190129</td><td>5</td><td>1.6348200</td><td>0.9488495</td><td>2</td><td>1</td><td>3</td><td>1</td><td> 4</td><td>-1</td><td>...</td><td>2</td><td>1</td><td>2</td><td>1</td><td>2</td><td>12/10/2018 18:28</td><td>12/10/2018 18:43</td><td>  909</td><td>11/11/2015</td><td> 33</td></tr>\n",
       "\t<tr><th scope=row>6</th><td>ANES 2018 Pilot Study main version 20190129</td><td>6</td><td>1.8184054</td><td>1.0554025</td><td>1</td><td>3</td><td>2</td><td>2</td><td> 2</td><td> 2</td><td>...</td><td>1</td><td>2</td><td>1</td><td>1</td><td>2</td><td>12/10/2018 23:58</td><td>12/11/2018 5:10 </td><td>18760</td><td>5/9/2015  </td><td>185</td></tr>\n",
       "</tbody>\n",
       "</table>\n"
      ],
      "text/latex": [
       "A data.frame: 6 × 767\n",
       "\\begin{tabular}{r|lllllllllllllllllllll}\n",
       "  & ï..version & caseid & weight & weight\\_spss & form & follow & addtime & reg & whenreg & howreg & ... & rand\\_emp & rand\\_climate & rand\\_rural & rand\\_pk & rand\\_pid & starttime & endtime & duration & optintimestamp & completes\\\\\n",
       "  & <chr> & <int> & <dbl> & <dbl> & <int> & <int> & <int> & <int> & <int> & <int> & ... & <int> & <int> & <int> & <int> & <int> & <chr> & <chr> & <int> & <chr> & <int>\\\\\n",
       "\\hline\n",
       "\t1 & ANES 2018 Pilot Study main version 20190129 & 1 & 1.2555080 & 0.7286969 & 1 & 4 & 2 & 1 &  4 & -1 & ... & 1 & 2 & 2 & 1 & 1 & 12/10/2018 18:34 & 12/10/2018 20:00 &  5152 & 10/15/2015 &  46\\\\\n",
       "\t2 & ANES 2018 Pilot Study main version 20190129 & 2 & 0.5694911 & 0.3305327 & 2 & 1 & 2 & 3 & -1 & -1 & ... & 2 & 1 & 1 & 0 & 2 & 12/10/2018 19:26 & 12/10/2018 19:53 &  1595 & 7/16/2016  &  55\\\\\n",
       "\t3 & ANES 2018 Pilot Study main version 20190129 & 3 & 0.9720616 & 0.5641846 & 1 & 4 & 3 & 3 & -1 & -1 & ... & 2 & 2 & 1 & 1 & 2 & 12/10/2018 19:48 & 12/10/2018 20:21 &  1957 & 6/13/2014  &   8\\\\\n",
       "\t4 & ANES 2018 Pilot Study main version 20190129 & 4 & 2.4500732 & 1.4220225 & 1 & 4 & 2 & 1 &  4 & -1 & ... & 2 & 2 & 1 & 0 & 1 & 12/10/2018 19:03 & 12/10/2018 19:21 &  1039 & 10/28/2015 &  42\\\\\n",
       "\t5 & ANES 2018 Pilot Study main version 20190129 & 5 & 1.6348200 & 0.9488495 & 2 & 1 & 3 & 1 &  4 & -1 & ... & 2 & 1 & 2 & 1 & 2 & 12/10/2018 18:28 & 12/10/2018 18:43 &   909 & 11/11/2015 &  33\\\\\n",
       "\t6 & ANES 2018 Pilot Study main version 20190129 & 6 & 1.8184054 & 1.0554025 & 1 & 3 & 2 & 2 &  2 &  2 & ... & 1 & 2 & 1 & 1 & 2 & 12/10/2018 23:58 & 12/11/2018 5:10  & 18760 & 5/9/2015   & 185\\\\\n",
       "\\end{tabular}\n"
      ],
      "text/markdown": [
       "\n",
       "A data.frame: 6 × 767\n",
       "\n",
       "| <!--/--> | ï..version &lt;chr&gt; | caseid &lt;int&gt; | weight &lt;dbl&gt; | weight_spss &lt;dbl&gt; | form &lt;int&gt; | follow &lt;int&gt; | addtime &lt;int&gt; | reg &lt;int&gt; | whenreg &lt;int&gt; | howreg &lt;int&gt; | ... ... | rand_emp &lt;int&gt; | rand_climate &lt;int&gt; | rand_rural &lt;int&gt; | rand_pk &lt;int&gt; | rand_pid &lt;int&gt; | starttime &lt;chr&gt; | endtime &lt;chr&gt; | duration &lt;int&gt; | optintimestamp &lt;chr&gt; | completes &lt;int&gt; |\n",
       "|---|---|---|---|---|---|---|---|---|---|---|---|---|---|---|---|---|---|---|---|---|---|\n",
       "| 1 | ANES 2018 Pilot Study main version 20190129 | 1 | 1.2555080 | 0.7286969 | 1 | 4 | 2 | 1 |  4 | -1 | ... | 1 | 2 | 2 | 1 | 1 | 12/10/2018 18:34 | 12/10/2018 20:00 |  5152 | 10/15/2015 |  46 |\n",
       "| 2 | ANES 2018 Pilot Study main version 20190129 | 2 | 0.5694911 | 0.3305327 | 2 | 1 | 2 | 3 | -1 | -1 | ... | 2 | 1 | 1 | 0 | 2 | 12/10/2018 19:26 | 12/10/2018 19:53 |  1595 | 7/16/2016  |  55 |\n",
       "| 3 | ANES 2018 Pilot Study main version 20190129 | 3 | 0.9720616 | 0.5641846 | 1 | 4 | 3 | 3 | -1 | -1 | ... | 2 | 2 | 1 | 1 | 2 | 12/10/2018 19:48 | 12/10/2018 20:21 |  1957 | 6/13/2014  |   8 |\n",
       "| 4 | ANES 2018 Pilot Study main version 20190129 | 4 | 2.4500732 | 1.4220225 | 1 | 4 | 2 | 1 |  4 | -1 | ... | 2 | 2 | 1 | 0 | 1 | 12/10/2018 19:03 | 12/10/2018 19:21 |  1039 | 10/28/2015 |  42 |\n",
       "| 5 | ANES 2018 Pilot Study main version 20190129 | 5 | 1.6348200 | 0.9488495 | 2 | 1 | 3 | 1 |  4 | -1 | ... | 2 | 1 | 2 | 1 | 2 | 12/10/2018 18:28 | 12/10/2018 18:43 |   909 | 11/11/2015 |  33 |\n",
       "| 6 | ANES 2018 Pilot Study main version 20190129 | 6 | 1.8184054 | 1.0554025 | 1 | 3 | 2 | 2 |  2 |  2 | ... | 1 | 2 | 1 | 1 | 2 | 12/10/2018 23:58 | 12/11/2018 5:10  | 18760 | 5/9/2015   | 185 |\n",
       "\n"
      ],
      "text/plain": [
       "  ï..version                                  caseid weight    weight_spss form\n",
       "1 ANES 2018 Pilot Study main version 20190129 1      1.2555080 0.7286969   1   \n",
       "2 ANES 2018 Pilot Study main version 20190129 2      0.5694911 0.3305327   2   \n",
       "3 ANES 2018 Pilot Study main version 20190129 3      0.9720616 0.5641846   1   \n",
       "4 ANES 2018 Pilot Study main version 20190129 4      2.4500732 1.4220225   1   \n",
       "5 ANES 2018 Pilot Study main version 20190129 5      1.6348200 0.9488495   2   \n",
       "6 ANES 2018 Pilot Study main version 20190129 6      1.8184054 1.0554025   1   \n",
       "  follow addtime reg whenreg howreg ... rand_emp rand_climate rand_rural\n",
       "1 4      2       1    4      -1     ... 1        2            2         \n",
       "2 1      2       3   -1      -1     ... 2        1            1         \n",
       "3 4      3       3   -1      -1     ... 2        2            1         \n",
       "4 4      2       1    4      -1     ... 2        2            1         \n",
       "5 1      3       1    4      -1     ... 2        1            2         \n",
       "6 3      2       2    2       2     ... 1        2            1         \n",
       "  rand_pk rand_pid starttime        endtime          duration optintimestamp\n",
       "1 1       1        12/10/2018 18:34 12/10/2018 20:00  5152    10/15/2015    \n",
       "2 0       2        12/10/2018 19:26 12/10/2018 19:53  1595    7/16/2016     \n",
       "3 1       2        12/10/2018 19:48 12/10/2018 20:21  1957    6/13/2014     \n",
       "4 0       1        12/10/2018 19:03 12/10/2018 19:21  1039    10/28/2015    \n",
       "5 1       2        12/10/2018 18:28 12/10/2018 18:43   909    11/11/2015    \n",
       "6 1       2        12/10/2018 23:58 12/11/2018 5:10  18760    5/9/2015      \n",
       "  completes\n",
       "1  46      \n",
       "2  55      \n",
       "3   8      \n",
       "4  42      \n",
       "5  33      \n",
       "6 185      "
      ]
     },
     "metadata": {},
     "output_type": "display_data"
    },
    {
     "data": {
      "text/html": [
       "2500"
      ],
      "text/latex": [
       "2500"
      ],
      "text/markdown": [
       "2500"
      ],
      "text/plain": [
       "[1] 2500"
      ]
     },
     "metadata": {},
     "output_type": "display_data"
    }
   ],
   "source": [
    "A = read.csv(\"anes_pilot_2018.csv\")\n",
    "head(A)\n",
    "nrow(A)"
   ]
  },
  {
   "cell_type": "markdown",
   "metadata": {},
   "source": [
    "Following is an example of a question asked on the ANES survey:\n",
    "\n",
    "> How difficult was it for you to vote in this last election?\n",
    "\n",
    "The variable `votehard` records answers to this question, with the following encoding:\n",
    "\n",
    "- -1 inapplicable, legitimate skip\n",
    "- 1 Not difficult at all\n",
    "- 2 A little difficult\n",
    "- 3 Moderately difficult\n",
    "- 4 Very difficult\n",
    "- 5 Extremely difficult\n",
    "\n",
    "\n",
    "To see the precise form of each question, take a look at the [Questionnaire Specifications](https://electionstudies.org/wp-content/uploads/2018/12/anes_pilot_2018_questionnaire.pdf)."
   ]
  },
  {
   "cell_type": "markdown",
   "metadata": {},
   "source": [
    "## Assignment\n",
    "\n",
    "You will use the ANES dataset to address five research questions.  For each question, you will need to operationalize the concepts (selecting appropriate variables and possibly transforming them), conduct exploratory analysis, deal with non-response and other special codes, perform sanity checks, select an appropriate hypothesis test, conduct the test, and interpret your results.  When selecting a hypothesis test, you may choose from the tests covered in the async videos and readings.  These include both paired and unpaired t-tests, Wilcoxon rank-sum test, Wilcoxon signed-rank test, and sign test.  You may select a one-tailed or two-tailed test.\n",
    "\n",
    "Please organize your response according to the prompts in this notebook.\n",
    "\n",
    "Note that this is a group lab.  There is a **maximum of three students per team.**\n",
    "Although you may work on your own, we do not recommend this (we have found that individuals tend to do worse than teams on past labs).\n",
    "\n",
    "Please limit your submission to 5000 words, not counting code or figures.  We will use some python code like the following to perform the wordcount on your notebook or Rmd file.\n",
    "\n",
    "```\n",
    "import nbformat\n",
    "\n",
    "with open('W203_Lab_2.ipynb') as f:\n",
    "    nb = nbformat.read(f, as_version=4)\n",
    "    total_words = 0\n",
    "\n",
    "    for cell in nb['cells']:\n",
    "        if cell['cell_type'] == 'markdown':\n",
    "            total_words += len(cell['source'].split())\n",
    "    print(\"Total words:\", total_words)\n",
    "```\n"
   ]
  },
  {
   "cell_type": "markdown",
   "metadata": {},
   "source": [
    "## Submission Guidelines\n",
    "- Submit _one_ report per group.\n",
    "- Submit *both* your pdf report as well as your source file.\n",
    "- **Only analyses and comments included in your PDF report will be considered for grading.**\n",
    "- Include names of group members on the front page of the submitted report.\n",
    "- Naming structure of submitted files:\n",
    "    - PDF report: [student_surname_1]\\_[student_surname_2][\\_*]\\_lab\\_2.pdf\n",
    "    - Jupyter Notebook: [student_surname_1]\\_[student_surname_2][\\_*]\\_lab\\_2.ipynb\n"
   ]
  },
  {
   "cell_type": "markdown",
   "metadata": {},
   "source": [
    "# Research Questions"
   ]
  },
  {
   "cell_type": "markdown",
   "metadata": {},
   "source": [
    "## Question 1: Do US voters have more respect for the police or for journalists?"
   ]
  },
  {
   "cell_type": "markdown",
   "metadata": {},
   "source": [
    "### Introduce your topic briefly.  (5 points)\n",
    "Explain how your variables are operationalized.  Comment on any gaps that you can identify between your operational definitions and the concepts you are trying to study."
   ]
  },
  {
   "cell_type": "markdown",
   "metadata": {},
   "source": [
    "> For research question 1, we would like to understand the sentiment of US voters towards police/law enforcement and journalist in terms of respect. More specifically, we would like to evaluate if there are significant differences in the respect measure between the 2 occupation groups.\n",
    ">\n",
    "> First and foremost, we are interested in registered voters, since the question states \"US voters\" and the only method to determine voters from the population is through their registration status. From the survey question, we can use the **reg** (Are you registered to vote, or not?) variable to determine if the survey respondent was a registered voter or not.\n",
    ">\n",
    "> Second, there are 2 questions in the survey that prompted particpants to gauge their rating of both the police and journalists based on a likert scale of 0 to 100. The resulting variables are:\n",
    "> - **ftpolice**: How would you rate the police?\n",
    "> - **ftjournal**: How would rate journalists?\n",
    ">\n",
    "> Although the rating is not explicitly a measure of respect, but the overall favorability sentiment towards either occupation, respect can be inferred (i.e. people tend to show respect for individuals in which they look up to or revere). However, a limitation for our extrapolation is that \"rate\" could be open to different interpretations by different respondents. Thus, we don't know that if respondents are scoring police and journalists based on their effectiveness, contribution to society, as professions or by any other benchmarks.\n",
    ">\n",
    "> Additionally, the 0 - 100 likert scale is an inprecise method of measurement of respect, since 2 respondents could have the same sentiment towards a group, but resulting in different scores. This makes generalizing respect level difficult due to a varibility in respondent's personal interpretation and mapping of respect to a numeric score."
   ]
  },
  {
   "cell_type": "markdown",
   "metadata": {},
   "source": [
    "### Perform an exploratory data analysis (EDA) of the relevant variables. (5 points)\n",
    "This should include a treatment of non-response and other special codes, basic sanity checks, and a justification for any values that are removed.  Use visual tools to assess the relationship among your variables and comment on any features you find."
   ]
  },
  {
   "cell_type": "code",
   "execution_count": 4,
   "metadata": {},
   "outputs": [
    {
     "data": {
      "text/html": [
       "<table>\n",
       "<caption>A data.frame: 6 × 767</caption>\n",
       "<thead>\n",
       "\t<tr><th></th><th scope=col>ï..version</th><th scope=col>caseid</th><th scope=col>weight</th><th scope=col>weight_spss</th><th scope=col>form</th><th scope=col>follow</th><th scope=col>addtime</th><th scope=col>reg</th><th scope=col>whenreg</th><th scope=col>howreg</th><th scope=col>...</th><th scope=col>rand_emp</th><th scope=col>rand_climate</th><th scope=col>rand_rural</th><th scope=col>rand_pk</th><th scope=col>rand_pid</th><th scope=col>starttime</th><th scope=col>endtime</th><th scope=col>duration</th><th scope=col>optintimestamp</th><th scope=col>completes</th></tr>\n",
       "\t<tr><th></th><th scope=col>&lt;chr&gt;</th><th scope=col>&lt;int&gt;</th><th scope=col>&lt;dbl&gt;</th><th scope=col>&lt;dbl&gt;</th><th scope=col>&lt;int&gt;</th><th scope=col>&lt;int&gt;</th><th scope=col>&lt;int&gt;</th><th scope=col>&lt;int&gt;</th><th scope=col>&lt;int&gt;</th><th scope=col>&lt;int&gt;</th><th scope=col>...</th><th scope=col>&lt;int&gt;</th><th scope=col>&lt;int&gt;</th><th scope=col>&lt;int&gt;</th><th scope=col>&lt;int&gt;</th><th scope=col>&lt;int&gt;</th><th scope=col>&lt;chr&gt;</th><th scope=col>&lt;chr&gt;</th><th scope=col>&lt;int&gt;</th><th scope=col>&lt;chr&gt;</th><th scope=col>&lt;int&gt;</th></tr>\n",
       "</thead>\n",
       "<tbody>\n",
       "\t<tr><th scope=row>1</th><td>ANES 2018 Pilot Study main version 20190129</td><td>1</td><td>1.2555080</td><td>0.7286969</td><td>1</td><td>4</td><td>2</td><td>1</td><td> 4</td><td>-1</td><td>...</td><td>1</td><td>2</td><td>2</td><td>1</td><td>1</td><td>12/10/2018 18:34</td><td>12/10/2018 20:00</td><td> 5152</td><td>10/15/2015</td><td> 46</td></tr>\n",
       "\t<tr><th scope=row>2</th><td>ANES 2018 Pilot Study main version 20190129</td><td>2</td><td>0.5694911</td><td>0.3305327</td><td>2</td><td>1</td><td>2</td><td>3</td><td>-1</td><td>-1</td><td>...</td><td>2</td><td>1</td><td>1</td><td>0</td><td>2</td><td>12/10/2018 19:26</td><td>12/10/2018 19:53</td><td> 1595</td><td>7/16/2016 </td><td> 55</td></tr>\n",
       "\t<tr><th scope=row>3</th><td>ANES 2018 Pilot Study main version 20190129</td><td>3</td><td>0.9720616</td><td>0.5641846</td><td>1</td><td>4</td><td>3</td><td>3</td><td>-1</td><td>-1</td><td>...</td><td>2</td><td>2</td><td>1</td><td>1</td><td>2</td><td>12/10/2018 19:48</td><td>12/10/2018 20:21</td><td> 1957</td><td>6/13/2014 </td><td>  8</td></tr>\n",
       "\t<tr><th scope=row>4</th><td>ANES 2018 Pilot Study main version 20190129</td><td>4</td><td>2.4500732</td><td>1.4220225</td><td>1</td><td>4</td><td>2</td><td>1</td><td> 4</td><td>-1</td><td>...</td><td>2</td><td>2</td><td>1</td><td>0</td><td>1</td><td>12/10/2018 19:03</td><td>12/10/2018 19:21</td><td> 1039</td><td>10/28/2015</td><td> 42</td></tr>\n",
       "\t<tr><th scope=row>5</th><td>ANES 2018 Pilot Study main version 20190129</td><td>5</td><td>1.6348200</td><td>0.9488495</td><td>2</td><td>1</td><td>3</td><td>1</td><td> 4</td><td>-1</td><td>...</td><td>2</td><td>1</td><td>2</td><td>1</td><td>2</td><td>12/10/2018 18:28</td><td>12/10/2018 18:43</td><td>  909</td><td>11/11/2015</td><td> 33</td></tr>\n",
       "\t<tr><th scope=row>6</th><td>ANES 2018 Pilot Study main version 20190129</td><td>6</td><td>1.8184054</td><td>1.0554025</td><td>1</td><td>3</td><td>2</td><td>2</td><td> 2</td><td> 2</td><td>...</td><td>1</td><td>2</td><td>1</td><td>1</td><td>2</td><td>12/10/2018 23:58</td><td>12/11/2018 5:10 </td><td>18760</td><td>5/9/2015  </td><td>185</td></tr>\n",
       "</tbody>\n",
       "</table>\n"
      ],
      "text/latex": [
       "A data.frame: 6 × 767\n",
       "\\begin{tabular}{r|lllllllllllllllllllll}\n",
       "  & ï..version & caseid & weight & weight\\_spss & form & follow & addtime & reg & whenreg & howreg & ... & rand\\_emp & rand\\_climate & rand\\_rural & rand\\_pk & rand\\_pid & starttime & endtime & duration & optintimestamp & completes\\\\\n",
       "  & <chr> & <int> & <dbl> & <dbl> & <int> & <int> & <int> & <int> & <int> & <int> & ... & <int> & <int> & <int> & <int> & <int> & <chr> & <chr> & <int> & <chr> & <int>\\\\\n",
       "\\hline\n",
       "\t1 & ANES 2018 Pilot Study main version 20190129 & 1 & 1.2555080 & 0.7286969 & 1 & 4 & 2 & 1 &  4 & -1 & ... & 1 & 2 & 2 & 1 & 1 & 12/10/2018 18:34 & 12/10/2018 20:00 &  5152 & 10/15/2015 &  46\\\\\n",
       "\t2 & ANES 2018 Pilot Study main version 20190129 & 2 & 0.5694911 & 0.3305327 & 2 & 1 & 2 & 3 & -1 & -1 & ... & 2 & 1 & 1 & 0 & 2 & 12/10/2018 19:26 & 12/10/2018 19:53 &  1595 & 7/16/2016  &  55\\\\\n",
       "\t3 & ANES 2018 Pilot Study main version 20190129 & 3 & 0.9720616 & 0.5641846 & 1 & 4 & 3 & 3 & -1 & -1 & ... & 2 & 2 & 1 & 1 & 2 & 12/10/2018 19:48 & 12/10/2018 20:21 &  1957 & 6/13/2014  &   8\\\\\n",
       "\t4 & ANES 2018 Pilot Study main version 20190129 & 4 & 2.4500732 & 1.4220225 & 1 & 4 & 2 & 1 &  4 & -1 & ... & 2 & 2 & 1 & 0 & 1 & 12/10/2018 19:03 & 12/10/2018 19:21 &  1039 & 10/28/2015 &  42\\\\\n",
       "\t5 & ANES 2018 Pilot Study main version 20190129 & 5 & 1.6348200 & 0.9488495 & 2 & 1 & 3 & 1 &  4 & -1 & ... & 2 & 1 & 2 & 1 & 2 & 12/10/2018 18:28 & 12/10/2018 18:43 &   909 & 11/11/2015 &  33\\\\\n",
       "\t6 & ANES 2018 Pilot Study main version 20190129 & 6 & 1.8184054 & 1.0554025 & 1 & 3 & 2 & 2 &  2 &  2 & ... & 1 & 2 & 1 & 1 & 2 & 12/10/2018 23:58 & 12/11/2018 5:10  & 18760 & 5/9/2015   & 185\\\\\n",
       "\\end{tabular}\n"
      ],
      "text/markdown": [
       "\n",
       "A data.frame: 6 × 767\n",
       "\n",
       "| <!--/--> | ï..version &lt;chr&gt; | caseid &lt;int&gt; | weight &lt;dbl&gt; | weight_spss &lt;dbl&gt; | form &lt;int&gt; | follow &lt;int&gt; | addtime &lt;int&gt; | reg &lt;int&gt; | whenreg &lt;int&gt; | howreg &lt;int&gt; | ... ... | rand_emp &lt;int&gt; | rand_climate &lt;int&gt; | rand_rural &lt;int&gt; | rand_pk &lt;int&gt; | rand_pid &lt;int&gt; | starttime &lt;chr&gt; | endtime &lt;chr&gt; | duration &lt;int&gt; | optintimestamp &lt;chr&gt; | completes &lt;int&gt; |\n",
       "|---|---|---|---|---|---|---|---|---|---|---|---|---|---|---|---|---|---|---|---|---|---|\n",
       "| 1 | ANES 2018 Pilot Study main version 20190129 | 1 | 1.2555080 | 0.7286969 | 1 | 4 | 2 | 1 |  4 | -1 | ... | 1 | 2 | 2 | 1 | 1 | 12/10/2018 18:34 | 12/10/2018 20:00 |  5152 | 10/15/2015 |  46 |\n",
       "| 2 | ANES 2018 Pilot Study main version 20190129 | 2 | 0.5694911 | 0.3305327 | 2 | 1 | 2 | 3 | -1 | -1 | ... | 2 | 1 | 1 | 0 | 2 | 12/10/2018 19:26 | 12/10/2018 19:53 |  1595 | 7/16/2016  |  55 |\n",
       "| 3 | ANES 2018 Pilot Study main version 20190129 | 3 | 0.9720616 | 0.5641846 | 1 | 4 | 3 | 3 | -1 | -1 | ... | 2 | 2 | 1 | 1 | 2 | 12/10/2018 19:48 | 12/10/2018 20:21 |  1957 | 6/13/2014  |   8 |\n",
       "| 4 | ANES 2018 Pilot Study main version 20190129 | 4 | 2.4500732 | 1.4220225 | 1 | 4 | 2 | 1 |  4 | -1 | ... | 2 | 2 | 1 | 0 | 1 | 12/10/2018 19:03 | 12/10/2018 19:21 |  1039 | 10/28/2015 |  42 |\n",
       "| 5 | ANES 2018 Pilot Study main version 20190129 | 5 | 1.6348200 | 0.9488495 | 2 | 1 | 3 | 1 |  4 | -1 | ... | 2 | 1 | 2 | 1 | 2 | 12/10/2018 18:28 | 12/10/2018 18:43 |   909 | 11/11/2015 |  33 |\n",
       "| 6 | ANES 2018 Pilot Study main version 20190129 | 6 | 1.8184054 | 1.0554025 | 1 | 3 | 2 | 2 |  2 |  2 | ... | 1 | 2 | 1 | 1 | 2 | 12/10/2018 23:58 | 12/11/2018 5:10  | 18760 | 5/9/2015   | 185 |\n",
       "\n"
      ],
      "text/plain": [
       "  ï..version                                  caseid weight    weight_spss form\n",
       "1 ANES 2018 Pilot Study main version 20190129 1      1.2555080 0.7286969   1   \n",
       "2 ANES 2018 Pilot Study main version 20190129 2      0.5694911 0.3305327   2   \n",
       "3 ANES 2018 Pilot Study main version 20190129 3      0.9720616 0.5641846   1   \n",
       "4 ANES 2018 Pilot Study main version 20190129 4      2.4500732 1.4220225   1   \n",
       "5 ANES 2018 Pilot Study main version 20190129 5      1.6348200 0.9488495   2   \n",
       "6 ANES 2018 Pilot Study main version 20190129 6      1.8184054 1.0554025   1   \n",
       "  follow addtime reg whenreg howreg ... rand_emp rand_climate rand_rural\n",
       "1 4      2       1    4      -1     ... 1        2            2         \n",
       "2 1      2       3   -1      -1     ... 2        1            1         \n",
       "3 4      3       3   -1      -1     ... 2        2            1         \n",
       "4 4      2       1    4      -1     ... 2        2            1         \n",
       "5 1      3       1    4      -1     ... 2        1            2         \n",
       "6 3      2       2    2       2     ... 1        2            1         \n",
       "  rand_pk rand_pid starttime        endtime          duration optintimestamp\n",
       "1 1       1        12/10/2018 18:34 12/10/2018 20:00  5152    10/15/2015    \n",
       "2 0       2        12/10/2018 19:26 12/10/2018 19:53  1595    7/16/2016     \n",
       "3 1       2        12/10/2018 19:48 12/10/2018 20:21  1957    6/13/2014     \n",
       "4 0       1        12/10/2018 19:03 12/10/2018 19:21  1039    10/28/2015    \n",
       "5 1       2        12/10/2018 18:28 12/10/2018 18:43   909    11/11/2015    \n",
       "6 1       2        12/10/2018 23:58 12/11/2018 5:10  18760    5/9/2015      \n",
       "  completes\n",
       "1  46      \n",
       "2  55      \n",
       "3   8      \n",
       "4  42      \n",
       "5  33      \n",
       "6 185      "
      ]
     },
     "metadata": {},
     "output_type": "display_data"
    },
    {
     "data": {
      "text/html": [
       "2500"
      ],
      "text/latex": [
       "2500"
      ],
      "text/markdown": [
       "2500"
      ],
      "text/plain": [
       "[1] 2500"
      ]
     },
     "metadata": {},
     "output_type": "display_data"
    }
   ],
   "source": [
    "#Step 0: Make a copy of the original dataframe for further manipulation\n",
    "A1 = A\n",
    "head(A1)\n",
    "nrow(A1)"
   ]
  },
  {
   "cell_type": "code",
   "execution_count": 5,
   "metadata": {},
   "outputs": [
    {
     "data": {
      "text/plain": [
       "   Min. 1st Qu.  Median    Mean 3rd Qu.    Max. \n",
       "   0.00   47.00   70.00   64.68   90.00  100.00 "
      ]
     },
     "metadata": {},
     "output_type": "display_data"
    },
    {
     "data": {
      "text/html": [
       "100"
      ],
      "text/latex": [
       "100"
      ],
      "text/markdown": [
       "100"
      ],
      "text/plain": [
       "[1] 100"
      ]
     },
     "metadata": {},
     "output_type": "display_data"
    },
    {
     "data": {
      "text/html": [
       "0"
      ],
      "text/latex": [
       "0"
      ],
      "text/markdown": [
       "0"
      ],
      "text/plain": [
       "[1] 0"
      ]
     },
     "metadata": {},
     "output_type": "display_data"
    }
   ],
   "source": [
    "#Step 1: Check to see that all of ftpolice's values are bound between 0 and 100.\n",
    "ftp = A$ftpolice\n",
    "summary(ftp)\n",
    "\n",
    "max(ftp) #check for max value\n",
    "min(ftp) #checks for min value"
   ]
  },
  {
   "cell_type": "code",
   "execution_count": 6,
   "metadata": {},
   "outputs": [
    {
     "data": {
      "text/plain": [
       "   Min. 1st Qu.  Median    Mean 3rd Qu.    Max. \n",
       "  -7.00   21.00   52.00   52.26   82.00  100.00 "
      ]
     },
     "metadata": {},
     "output_type": "display_data"
    },
    {
     "data": {
      "text/html": [
       "100"
      ],
      "text/latex": [
       "100"
      ],
      "text/markdown": [
       "100"
      ],
      "text/plain": [
       "[1] 100"
      ]
     },
     "metadata": {},
     "output_type": "display_data"
    },
    {
     "data": {
      "text/html": [
       "-7"
      ],
      "text/latex": [
       "-7"
      ],
      "text/markdown": [
       "-7"
      ],
      "text/plain": [
       "[1] -7"
      ]
     },
     "metadata": {},
     "output_type": "display_data"
    },
    {
     "data": {
      "text/html": [
       "<style>\n",
       ".list-inline {list-style: none; margin:0; padding: 0}\n",
       ".list-inline>li {display: inline-block}\n",
       ".list-inline>li:not(:last-child)::after {content: \"\\00b7\"; padding: 0 .5ex}\n",
       "</style>\n",
       "<ol class=list-inline><li>51</li><li>597</li></ol>\n"
      ],
      "text/latex": [
       "\\begin{enumerate*}\n",
       "\\item 51\n",
       "\\item 597\n",
       "\\end{enumerate*}\n"
      ],
      "text/markdown": [
       "1. 51\n",
       "2. 597\n",
       "\n",
       "\n"
      ],
      "text/plain": [
       "[1]  51 597"
      ]
     },
     "metadata": {},
     "output_type": "display_data"
    },
    {
     "data": {
      "text/plain": [
       "   Min. 1st Qu.  Median    Mean 3rd Qu.    Max.    NA's \n",
       "   0.00   21.00   52.00   52.31   82.00  100.00       2 "
      ]
     },
     "metadata": {},
     "output_type": "display_data"
    }
   ],
   "source": [
    "#Step 2: Check to see that all of ftjournal's values are bound between 0 and 100.\n",
    "ftj = A$ftjournal\n",
    "summary(ftj) \n",
    "\n",
    "max(ftj) #check for max value\n",
    "min(ftj) #checks for min value; min value is negative and requires further investigation\n",
    "\n",
    "which(ftj == -7) #gets row number of observation in which the score was -7\n",
    "ftj[ftj==-7] = NA\n",
    "\n",
    "summary(ftj) #Rechecking all values are correctly bounded between 0 - 100. We won't use the 2 \"NA\" entries in our analysis."
   ]
  },
  {
   "cell_type": "code",
   "execution_count": 7,
   "metadata": {},
   "outputs": [],
   "source": [
    "#Step 3: Filter out non-registered voters from both the ftp and ftj vectors. Thus, we only keep respondents with a \"1\" or \"2\" to the reg variable\n",
    "A1 = A1 %>% filter(reg %in% as.numeric(1:2)) #new table with reg == 1|2\n",
    "A1$ftjournal[A1$ftjournal == -7] = NA"
   ]
  },
  {
   "cell_type": "code",
   "execution_count": 8,
   "metadata": {},
   "outputs": [
    {
     "data": {
      "text/html": [
       "<table>\n",
       "<caption>A data.frame: 6 × 2</caption>\n",
       "<thead>\n",
       "\t<tr><th></th><th scope=col>score</th><th scope=col>category</th></tr>\n",
       "\t<tr><th></th><th scope=col>&lt;int&gt;</th><th scope=col>&lt;chr&gt;</th></tr>\n",
       "</thead>\n",
       "<tbody>\n",
       "\t<tr><th scope=row>1</th><td>100</td><td>Police</td></tr>\n",
       "\t<tr><th scope=row>2</th><td> 81</td><td>Police</td></tr>\n",
       "\t<tr><th scope=row>3</th><td> 73</td><td>Police</td></tr>\n",
       "\t<tr><th scope=row>4</th><td> 38</td><td>Police</td></tr>\n",
       "\t<tr><th scope=row>5</th><td> 78</td><td>Police</td></tr>\n",
       "\t<tr><th scope=row>6</th><td> 90</td><td>Police</td></tr>\n",
       "</tbody>\n",
       "</table>\n"
      ],
      "text/latex": [
       "A data.frame: 6 × 2\n",
       "\\begin{tabular}{r|ll}\n",
       "  & score & category\\\\\n",
       "  & <int> & <chr>\\\\\n",
       "\\hline\n",
       "\t1 & 100 & Police\\\\\n",
       "\t2 &  81 & Police\\\\\n",
       "\t3 &  73 & Police\\\\\n",
       "\t4 &  38 & Police\\\\\n",
       "\t5 &  78 & Police\\\\\n",
       "\t6 &  90 & Police\\\\\n",
       "\\end{tabular}\n"
      ],
      "text/markdown": [
       "\n",
       "A data.frame: 6 × 2\n",
       "\n",
       "| <!--/--> | score &lt;int&gt; | category &lt;chr&gt; |\n",
       "|---|---|---|\n",
       "| 1 | 100 | Police |\n",
       "| 2 |  81 | Police |\n",
       "| 3 |  73 | Police |\n",
       "| 4 |  38 | Police |\n",
       "| 5 |  78 | Police |\n",
       "| 6 |  90 | Police |\n",
       "\n"
      ],
      "text/plain": [
       "  score category\n",
       "1 100   Police  \n",
       "2  81   Police  \n",
       "3  73   Police  \n",
       "4  38   Police  \n",
       "5  78   Police  \n",
       "6  90   Police  "
      ]
     },
     "metadata": {},
     "output_type": "display_data"
    }
   ],
   "source": [
    "#Step 4: create a data frame for both police and journal and then combine in order to draw a combined histogram\n",
    "dfp = data.frame(score = A1$ftpolice)\n",
    "dfj = data.frame(score = A1$ftjournal)\n",
    "\n",
    "dfp$category = \"Police\"\n",
    "dfj$category = \"Journalists\"\n",
    "\n",
    "dfc = rbind(dfp, dfj) #combined dataframe\n",
    "head(dfc)"
   ]
  },
  {
   "cell_type": "code",
   "execution_count": 9,
   "metadata": {},
   "outputs": [
    {
     "data": {
      "text/html": [
       "<table>\n",
       "<caption>A data.frame: 2 × 3</caption>\n",
       "<thead>\n",
       "\t<tr><th scope=col>category</th><th scope=col>grp.mean</th><th scope=col>grp.sd</th></tr>\n",
       "\t<tr><th scope=col>&lt;chr&gt;</th><th scope=col>&lt;dbl&gt;</th><th scope=col>&lt;dbl&gt;</th></tr>\n",
       "</thead>\n",
       "<tbody>\n",
       "\t<tr><td>Journalists</td><td>54.13310</td><td>33.46564</td></tr>\n",
       "\t<tr><td>Police     </td><td>67.61938</td><td>27.57342</td></tr>\n",
       "</tbody>\n",
       "</table>\n"
      ],
      "text/latex": [
       "A data.frame: 2 × 3\n",
       "\\begin{tabular}{lll}\n",
       " category & grp.mean & grp.sd\\\\\n",
       " <chr> & <dbl> & <dbl>\\\\\n",
       "\\hline\n",
       "\t Journalists & 54.13310 & 33.46564\\\\\n",
       "\t Police      & 67.61938 & 27.57342\\\\\n",
       "\\end{tabular}\n"
      ],
      "text/markdown": [
       "\n",
       "A data.frame: 2 × 3\n",
       "\n",
       "| category &lt;chr&gt; | grp.mean &lt;dbl&gt; | grp.sd &lt;dbl&gt; |\n",
       "|---|---|---|\n",
       "| Journalists | 54.13310 | 33.46564 |\n",
       "| Police      | 67.61938 | 27.57342 |\n",
       "\n"
      ],
      "text/plain": [
       "  category    grp.mean grp.sd  \n",
       "1 Journalists 54.13310 33.46564\n",
       "2 Police      67.61938 27.57342"
      ]
     },
     "metadata": {},
     "output_type": "display_data"
    }
   ],
   "source": [
    "#Step 4.1: Calculate the mean rating for journalists and police that will be used in our visual inspection via the histogram and density plot\n",
    "mu = ddply(dfc, \"category\", summarize, grp.mean = mean(score, na.rm = TRUE), grp.sd = sd(score, na.rm = TRUE))\n",
    "mu\n",
    "\n",
    "j_mean = mu[1,2]\n",
    "p_mean = mu[2,2]"
   ]
  },
  {
   "cell_type": "code",
   "execution_count": 269,
   "metadata": {},
   "outputs": [],
   "source": [
    "#Step 5: Overlay histogram of both occupation groups to visualize differences in rating distribution\n",
    "options(repr.plot.width = 18, repr.plot.height = 13)\n",
    "plot_theme =  theme(plot.title = element_text(size = 20, hjust = .5, face = \"bold\"), axis.text = element_text(size = 14), axis.title = element_text(size = 16), \n",
    "                    legend.title = element_text(size = 16), legend.text=element_text(size = 14), legend.position = \"top\", \n",
    "                    strip.text.y = element_text(size = 16, color = \"black\", angle = 90))\n",
    "\n",
    "histo = ggplot(dfc, aes(score, fill = category, color = category)) + \n",
    "    geom_histogram(position = \"identity\", alpha = .5, bins = 30) +\n",
    "    geom_vline(data = mu, aes(xintercept = grp.mean, color = category), linetype = \"dashed\", size = 1) +\n",
    "    annotate(geom = \"text\", x = j_mean-5, y = 200, label = paste(\"Mean:\", round(j_mean, 0)), color = \"#F8766D\", size = 7) +\n",
    "    annotate(geom = \"text\", x = p_mean + 5, y = 200, label = paste(\"Mean:\", round(p_mean, 0)), color = \"#00BFC4\", size = 7 ) +\n",
    "    labs(title = \"Distribution of Police and Journalist Sentiment Ratings by Registered US Voters\", x = \"Rating\", y = \"Number of Voters\") + \n",
    "    plot_theme"
   ]
  },
  {
   "cell_type": "code",
   "execution_count": 296,
   "metadata": {},
   "outputs": [],
   "source": [
    "#Facet histogram: Alternative to overlaid histogram above\n",
    "faceted = ggplot(dfc, aes(score, fill = category, color = category)) + \n",
    "    geom_histogram(position = \"identity\", alpha = .5, bins = 30) +\n",
    "    facet_grid(category ~ .) + \n",
    "    geom_vline(data = mu, aes(xintercept = grp.mean, color = category), linetype = \"dashed\", size = 1) +\n",
    "    labs(title = \"Distribution of Police and Journalist Sentiment Ratings by Registered US Voters\", x = \"Age\", y = \"Number of Voters\") + \n",
    "    plot_theme"
   ]
  },
  {
   "cell_type": "code",
   "execution_count": 267,
   "metadata": {},
   "outputs": [],
   "source": [
    "#Step 6: Create a density plot to compare distribution shape agnostic of bin sizes\n",
    "dens = ggplot(dfc, aes(score, fill = category, color = category)) + \n",
    "    geom_density(position = \"identity\", alpha = .5) +\n",
    "    labs(title = \"Density Curve of Police and Journalist Sentiment Ratings by Registered US Voters\", x = \"Rating\", y = \"Density\") +\n",
    "    plot_theme"
   ]
  },
  {
   "cell_type": "code",
   "execution_count": 291,
   "metadata": {},
   "outputs": [
    {
     "name": "stderr",
     "output_type": "stream",
     "text": [
      "Warning message:\n",
      "\"Removed 2 rows containing non-finite values (stat_bin).\"\n",
      "Warning message:\n",
      "\"Removed 2 rows containing non-finite values (stat_density).\"\n"
     ]
    },
    {
     "data": {
      "image/png": "[encoded data removed]",
      "text/plain": [
       "plot without title"
      ]
     },
     "metadata": {
      "image/png": {
       "height": 780,
       "width": 1080
      }
     },
     "output_type": "display_data"
    }
   ],
   "source": [
    "#Side by side plots of count and proportion in categories\n",
    "plot_grid(histo, NULL, dens, ncol = 1, align = \"h\", rel_heights = c(2, .1, 2))"
   ]
  },
  {
   "cell_type": "markdown",
   "metadata": {},
   "source": [
    ">From the histogram, we can observe that there is a higher concentration of lower ratings for journalists than there are for police. Similarily, police possess a greater concentration of high scores than journalists. Moreover, the mean (dashed vertical lines) rating for police officiers is approximately 14 points higher than it is for journalists. \n",
    ">\n",
    "> While the histogram shows the frequency distribution of ratings and can be sensitive to the bin size, a complementary visualization that can help us evaluate differences in respondents' rating is by plotting the density curve of both occupation.  \n",
    ">\n",
    ">The peaks of each density plot helps us identify where ratings are concentrated over the range. Thus, journalist ratings have 3 local peaks without much differentiation. One such interpretation is that respondents were categorically divided in their perception of journalists; low, moderate and high regard. On the contrary, police ratings are left skewed with the peak towards the high end of the range, indicating that a large proportion of respondents held police officers with high regard. \n",
    ">\n",
    ">Although both the histogram and density plot provided quick assessment of the rating distribution between police and journalists, it doesn't provide precise details such as the comparison of its mean, median, and the spread. So, we will review our last plot of our EDA, the notched boxplot."
   ]
  },
  {
   "cell_type": "code",
   "execution_count": 13,
   "metadata": {},
   "outputs": [
    {
     "name": "stderr",
     "output_type": "stream",
     "text": [
      "Warning message:\n",
      "\"Removed 2 rows containing non-finite values (stat_boxplot).\"\n",
      "Warning message:\n",
      "\"Removed 2 rows containing non-finite values (stat_summary).\"\n"
     ]
    },
    {
     "data": {
      "image/png": "[encoded data removed]",
      "text/plain": [
       "plot without title"
      ]
     },
     "metadata": {
      "image/png": {
       "height": 780,
       "width": 1080
      }
     },
     "output_type": "display_data"
    }
   ],
   "source": [
    "#Step 7: Create notched boxplot to get a more precise reading of the rating score per occupation\n",
    "box_p = ggplot(dfc, aes(y = score, x = category, fill = category, color = category)) + \n",
    "    geom_boxplot(alpha = .5, outlier.color = \"black\", notch = TRUE) + \n",
    "    labs(title = \"Boxplot of Police and Journalist Sentiment Ratings by Registered US Voters\", x = \"Occupation\", y = \"Rating\") + \n",
    "    plot_theme\n",
    "\n",
    "box_p  = box_p + stat_summary(fun = mean, geom = \"point\", shape = 23, size = 4, fill = \"black\")\n",
    "box_p"
   ]
  },
  {
   "cell_type": "markdown",
   "metadata": {},
   "source": [
    ">The notched boxplot not only conveys a higher concentration of higher scores for police, it also shows the distribution is more right skewed than journalists. Additonally, because the notch (displays the confidence interval around the median which is normally based on the median +/- 1.58*IQR/sqrt(n) and used to compare groups) for police is higher than journalists, there is strong evidence that the medians differ.\n",
    ">\n",
    ">Note: The black diamond point represent the mean for each group."
   ]
  },
  {
   "cell_type": "markdown",
   "metadata": {},
   "source": [
    "### Based on your EDA, select an appropriate hypothesis test.  (5 points)\n",
    "Explain why your test is the most appropriate choice.  List and evaluate all assumptions for your test."
   ]
  },
  {
   "cell_type": "markdown",
   "metadata": {},
   "source": [
    ">We will apply a non-parametic Wilcoxon Signed Rank test to compare means across both occupation groups in lieu of a t-test for 2 reasons:\n",
    ">1. Both variables are from the same sample\n",
    ">2. The underlying data are ordinal, which is not apprproriate for a T-test, since ordinal data doesn't have a normal distribution. Thus, means and variances are arbitrary with ordinal data, and hence the t-statistic is also arbitrary. hence, with Likert scale data, the t-test is inappropriate and uninterpretable.\n",
    ">\n",
    ">Null hypothesis:\n",
    "> - $H_{0}: \\mu_{police} = \\mu_{journalist}$; there is no difference in terms of favorability between police officers and journalists\n",
    "> \n",
    ">Alternative hypothesis:\n",
    "> - $H_{a}: \\mu_{police} \\ne \\mu_{journalist}$; there is a difference in terms of favorability between police officers and journalists"
   ]
  },
  {
   "cell_type": "markdown",
   "metadata": {},
   "source": [
    "### Conduct your test. (5 points)\n",
    "Explain (1) the statistical significance of your result, and (2) the practical significance of your result.  Make sure you relate your findings to the original research question."
   ]
  },
  {
   "cell_type": "code",
   "execution_count": 97,
   "metadata": {},
   "outputs": [
    {
     "data": {
      "text/plain": [
       "\n",
       "\tWilcoxon signed rank test with continuity correction\n",
       "\n",
       "data:  police_v and journalist_v\n",
       "V = 1241481, p-value < 2.2e-16\n",
       "alternative hypothesis: true location shift is not equal to 0\n",
       "95 percent confidence interval:\n",
       " 10.99996 15.99997\n",
       "sample estimates:\n",
       "(pseudo)median \n",
       "      13.49995 \n"
      ]
     },
     "metadata": {},
     "output_type": "display_data"
    }
   ],
   "source": [
    "#Statistical significance\n",
    "police_v = dfp$score\n",
    "journalist_v = dfj$score\n",
    "\n",
    "wilcox.test(police_v, journalist_v, paired = TRUE, conf.int = TRUE)"
   ]
  },
  {
   "cell_type": "markdown",
   "metadata": {},
   "source": [
    ">To compute the practical significance or the effect size, we will need to obtain the Z score of the Wilcoxon Signed-rank test. Because this is not reported in the default wilcox.test function, we will use the test from the coin package to obtain the Z value. The effect size formula is as follows:\n",
    ">\n",
    "> $$r = \\frac{Z}{\\sqrt{N}}$$\n",
    ">\n",
    "> We will also be using the below table to interpret the computed effect size:\n",
    ">\n",
    ">| R | Effect Size  |\n",
    ">|---|---|\n",
    ">|0.1   | Small  |\n",
    ">|0.3  | Medium |\n",
    ">|0.5   | Large   |"
   ]
  },
  {
   "cell_type": "code",
   "execution_count": 77,
   "metadata": {},
   "outputs": [
    {
     "data": {
      "text/plain": [
       "\n",
       "\tAsymptotic Wilcoxon-Pratt Signed-Rank Test\n",
       "\n",
       "data:  y by x (pos, neg) \n",
       "\t stratified by block\n",
       "Z = 10.739, p-value < 2.2e-16\n",
       "alternative hypothesis: true mu is not equal to 0\n"
      ]
     },
     "metadata": {},
     "output_type": "display_data"
    }
   ],
   "source": [
    "#Practical significance \n",
    "wilcoxsign_test(police_v ~ journalist_v, paired = TRUE) #using the coin package"
   ]
  },
  {
   "cell_type": "code",
   "execution_count": 16,
   "metadata": {},
   "outputs": [
    {
     "data": {
      "text/html": [
       "'Effect size: 0.23876'"
      ],
      "text/latex": [
       "'Effect size: 0.23876'"
      ],
      "text/markdown": [
       "'Effect size: 0.23876'"
      ],
      "text/plain": [
       "[1] \"Effect size: 0.23876\""
      ]
     },
     "metadata": {},
     "output_type": "display_data"
    }
   ],
   "source": [
    "r = 10.739 / sqrt(nrow(dfp))\n",
    "paste(\"Effect size:\", round(r, 5))"
   ]
  },
  {
   "cell_type": "markdown",
   "metadata": {},
   "source": [
    "> #### Q1 Results Interpretation\n",
    ">- **Statistical significance:** Because the computed p-value (2.2e-16) is very small, we can safely reject the null hypothesis and accept the alternative hypothesis there is a difference in terms of favorability between police officers and journalists\n",
    ">\n",
    ">- **Practical significance:** Because the computed effect size (0.23876) is between small and medium, we can conclude that magnitude of the difference between police and journalists are relatively minor. \n",
    ">\n",
    ">In conclusion, while the exploratory data analysis coupled with the Wilcoxon Signed Rank test indicate that we can extrapolate that in general voters have a higher opinion (more respect) of police than they do of journalists. However, given the small effect size, the result should be taken with caution as it has limited practical significance."
   ]
  },
  {
   "cell_type": "markdown",
   "metadata": {},
   "source": [
    "## Question 2: Are Republican voters older or younger than Democratic voters?"
   ]
  },
  {
   "cell_type": "markdown",
   "metadata": {},
   "source": [
    "### Introduce your topic briefly.  (5 points)\n",
    "Explain how your variables are operationalized.  Comment on any gaps that you can identify between your operational definitions and the concepts you are trying to study."
   ]
  },
  {
   "cell_type": "markdown",
   "metadata": {},
   "source": [
    ">Our goal is to compare the mean age of Republican voters against Democratic voters and assess if the difference is statisically significant or not. In order to accomplish this, we must operationalize 2 variables of interest:\n",
    ">- Voter's age: According to the ANES user code book, there is a **birthyr** variable used to capture the birthyear of each respondent as part the profile data. Given that the study was conducted in December 2018, we can calculate a new variable called age by subtracting 'birthyr' from 2018. Additonally, we will also validate each voter's age to make sure the minimum is 18, since it's the minimum voting age in the United States.\n",
    ">-Party affliation: There are a 2 types of data that we can use to determine party affliation: \n",
    ">    1. Voting record such as senate18p (For the US senate, what was the party affliation of the candidate you voted for?), gov18p (For the governor of your state, what was the the party affliation of the candidate you voted for?) and vote16 (In the 2016 presidential election, who did you vote for?) \n",
    ">    2. Self-identified through variables such as **pid1d** or **pid1r** (Generally speaking, do you usually think of yourself as a Democrat, a Republican or another political affliation?). Both variables prompt the same question, but is dynamically selected with main the difference in which party (Democrat or Republican) is mentioned first in the question as well as in the response. The coding also differs (1 maps to Democrat in pid1d while 2 maps to Democrat in pid1r). Thus, we need to analyze and combine both variables to operationalize the responses in our analysis. \n",
    ">\n",
    "> While it may be intuitive to use historical voting records to determine party affliation, but just because a voter voted for a Republican candidate in 2016 or 2018 does not provide enough data points to determine them as a \"Republican\" voter, especially when we encounter differences in voting pattern in different election years and at different election levels. Thus, to avoid having to make potentially errorneous judgement calls, we decided to use self-identification to determine party affliation."
   ]
  },
  {
   "cell_type": "markdown",
   "metadata": {},
   "source": [
    "### Perform an exploratory data analysis (EDA) of the relevant variables. (5 points)\n",
    "This should include a treatment of non-response and other special codes, basic sanity checks, and a justification for any values that are removed.  Use visual tools to assess the relationship among your variables and comment on any features you find."
   ]
  },
  {
   "cell_type": "markdown",
   "metadata": {},
   "source": [
    "> #### Age\n",
    ">\n",
    ">- Data: Subtract **birthyr** from 2018.\n",
    ">- Sanity check: Minimum value should be 18, since it's the minimum voting age in the US.\n",
    ">\n",
    "> #### Political Party\n",
    ">- Data: Since the question had two formats, which stated either \"Democrat\" or \"Republican\" first in the question statement, we need to look at both fields \"pid1d\" and \"pid1r.\"\n",
    ">- Sanity check: We check to see that only one of either \"pid1d\" or \"pid1r\" was answered (i.e. a respondent should not have a 1 or 2 in both columns). "
   ]
  },
  {
   "cell_type": "code",
   "execution_count": 17,
   "metadata": {},
   "outputs": [],
   "source": [
    "#create a copy of the original dataframe\n",
    "A2 = A"
   ]
  },
  {
   "cell_type": "code",
   "execution_count": 18,
   "metadata": {},
   "outputs": [
    {
     "data": {
      "text/html": [
       "<table>\n",
       "<caption>A data.frame: 6 × 2</caption>\n",
       "<thead>\n",
       "\t<tr><th></th><th scope=col>party</th><th scope=col>age</th></tr>\n",
       "\t<tr><th></th><th scope=col>&lt;chr&gt;</th><th scope=col>&lt;dbl&gt;</th></tr>\n",
       "</thead>\n",
       "<tbody>\n",
       "\t<tr><th scope=row>1</th><td>Democrat  </td><td>46</td></tr>\n",
       "\t<tr><th scope=row>2</th><td>Democrat  </td><td>29</td></tr>\n",
       "\t<tr><th scope=row>3</th><td>Republican</td><td>26</td></tr>\n",
       "\t<tr><th scope=row>4</th><td>Democrat  </td><td>56</td></tr>\n",
       "\t<tr><th scope=row>5</th><td>Democrat  </td><td>40</td></tr>\n",
       "\t<tr><th scope=row>6</th><td>Democrat  </td><td>67</td></tr>\n",
       "</tbody>\n",
       "</table>\n"
      ],
      "text/latex": [
       "A data.frame: 6 × 2\n",
       "\\begin{tabular}{r|ll}\n",
       "  & party & age\\\\\n",
       "  & <chr> & <dbl>\\\\\n",
       "\\hline\n",
       "\t1 & Democrat   & 46\\\\\n",
       "\t2 & Democrat   & 29\\\\\n",
       "\t3 & Republican & 26\\\\\n",
       "\t4 & Democrat   & 56\\\\\n",
       "\t5 & Democrat   & 40\\\\\n",
       "\t6 & Democrat   & 67\\\\\n",
       "\\end{tabular}\n"
      ],
      "text/markdown": [
       "\n",
       "A data.frame: 6 × 2\n",
       "\n",
       "| <!--/--> | party &lt;chr&gt; | age &lt;dbl&gt; |\n",
       "|---|---|---|\n",
       "| 1 | Democrat   | 46 |\n",
       "| 2 | Democrat   | 29 |\n",
       "| 3 | Republican | 26 |\n",
       "| 4 | Democrat   | 56 |\n",
       "| 5 | Democrat   | 40 |\n",
       "| 6 | Democrat   | 67 |\n",
       "\n"
      ],
      "text/plain": [
       "  party      age\n",
       "1 Democrat   46 \n",
       "2 Democrat   29 \n",
       "3 Republican 26 \n",
       "4 Democrat   56 \n",
       "5 Democrat   40 \n",
       "6 Democrat   67 "
      ]
     },
     "metadata": {},
     "output_type": "display_data"
    },
    {
     "data": {
      "text/html": [
       "708"
      ],
      "text/latex": [
       "708"
      ],
      "text/markdown": [
       "708"
      ],
      "text/plain": [
       "[1] 708"
      ]
     },
     "metadata": {},
     "output_type": "display_data"
    }
   ],
   "source": [
    "#Data transformation from pid1r responses\n",
    "df_r = select(A2, birthyr, pid1r) #pulls birthyr and pid1r values\n",
    "df_r$age = 2018 - A2$birthyr #computes age\n",
    "df_r$pid1r = replace(df_r$pid1r, A2$pid1r == 1, \"Republican\") #replaces 1 with Republican\n",
    "df_r$pid1r = replace(df_r$pid1r, A2$pid1r == 2, \"Democrat\") #replaces 2 with Democrat\n",
    "df_r = df_r %>% filter(pid1r == \"Republican\" | pid1r == \"Democrat\") #filter out all non Democrat and Republican values in pid1r\n",
    "names(df_r)[names(df_r) == \"pid1r\"] = \"party\" #renames pid1r with party\n",
    "df_r = subset(df_r, select = -c(birthyr)) #drop birthyr since it's no longer needed\n",
    "head(df_r)\n",
    "nrow(df_r)"
   ]
  },
  {
   "cell_type": "code",
   "execution_count": 19,
   "metadata": {},
   "outputs": [
    {
     "data": {
      "text/html": [
       "<table>\n",
       "<caption>A data.frame: 6 × 2</caption>\n",
       "<thead>\n",
       "\t<tr><th></th><th scope=col>party</th><th scope=col>age</th></tr>\n",
       "\t<tr><th></th><th scope=col>&lt;chr&gt;</th><th scope=col>&lt;dbl&gt;</th></tr>\n",
       "</thead>\n",
       "<tbody>\n",
       "\t<tr><th scope=row>1</th><td>Republican</td><td>32</td></tr>\n",
       "\t<tr><th scope=row>2</th><td>Democrat  </td><td>61</td></tr>\n",
       "\t<tr><th scope=row>3</th><td>Democrat  </td><td>50</td></tr>\n",
       "\t<tr><th scope=row>4</th><td>Republican</td><td>31</td></tr>\n",
       "\t<tr><th scope=row>5</th><td>Democrat  </td><td>66</td></tr>\n",
       "\t<tr><th scope=row>6</th><td>Democrat  </td><td>38</td></tr>\n",
       "</tbody>\n",
       "</table>\n"
      ],
      "text/latex": [
       "A data.frame: 6 × 2\n",
       "\\begin{tabular}{r|ll}\n",
       "  & party & age\\\\\n",
       "  & <chr> & <dbl>\\\\\n",
       "\\hline\n",
       "\t1 & Republican & 32\\\\\n",
       "\t2 & Democrat   & 61\\\\\n",
       "\t3 & Democrat   & 50\\\\\n",
       "\t4 & Republican & 31\\\\\n",
       "\t5 & Democrat   & 66\\\\\n",
       "\t6 & Democrat   & 38\\\\\n",
       "\\end{tabular}\n"
      ],
      "text/markdown": [
       "\n",
       "A data.frame: 6 × 2\n",
       "\n",
       "| <!--/--> | party &lt;chr&gt; | age &lt;dbl&gt; |\n",
       "|---|---|---|\n",
       "| 1 | Republican | 32 |\n",
       "| 2 | Democrat   | 61 |\n",
       "| 3 | Democrat   | 50 |\n",
       "| 4 | Republican | 31 |\n",
       "| 5 | Democrat   | 66 |\n",
       "| 6 | Democrat   | 38 |\n",
       "\n"
      ],
      "text/plain": [
       "  party      age\n",
       "1 Republican 32 \n",
       "2 Democrat   61 \n",
       "3 Democrat   50 \n",
       "4 Republican 31 \n",
       "5 Democrat   66 \n",
       "6 Democrat   38 "
      ]
     },
     "metadata": {},
     "output_type": "display_data"
    },
    {
     "data": {
      "text/html": [
       "758"
      ],
      "text/latex": [
       "758"
      ],
      "text/markdown": [
       "758"
      ],
      "text/plain": [
       "[1] 758"
      ]
     },
     "metadata": {},
     "output_type": "display_data"
    }
   ],
   "source": [
    "#Data transformation from pid1d responses\n",
    "df_d = select(A2, birthyr, pid1d) #pulls birthyr and pid1d values\n",
    "df_d$age = 2018 - A$birthyr #computes age\n",
    "df_d$pid1d = replace(df_d$pid1d, A2$pid1d == 2, \"Republican\") #replaces 2 with Republican\n",
    "df_d$pid1d = replace(df_d$pid1d, A2$pid1d == 1, \"Democrat\") #replaces 1 with Democrat\n",
    "df_d = df_d %>% filter(pid1d == \"Republican\" | pid1d == \"Democrat\") #filter out all non Democrat and Republican values in pid1d\n",
    "names(df_d)[names(df_d) == \"pid1d\"] = \"party\" #renames pid1d with party\n",
    "df_d = subset(df_d, select = -c(birthyr)) #drop birthyr since it's no longer needed\n",
    "head(df_d)\n",
    "nrow(df_d)"
   ]
  },
  {
   "cell_type": "code",
   "execution_count": 20,
   "metadata": {},
   "outputs": [
    {
     "data": {
      "text/html": [
       "1466"
      ],
      "text/latex": [
       "1466"
      ],
      "text/markdown": [
       "1466"
      ],
      "text/plain": [
       "[1] 1466"
      ]
     },
     "metadata": {},
     "output_type": "display_data"
    },
    {
     "data": {
      "text/html": [
       "751"
      ],
      "text/latex": [
       "751"
      ],
      "text/markdown": [
       "751"
      ],
      "text/plain": [
       "[1] 751"
      ]
     },
     "metadata": {},
     "output_type": "display_data"
    },
    {
     "data": {
      "text/html": [
       "715"
      ],
      "text/latex": [
       "715"
      ],
      "text/markdown": [
       "715"
      ],
      "text/plain": [
       "[1] 715"
      ]
     },
     "metadata": {},
     "output_type": "display_data"
    },
    {
     "data": {
      "text/html": [
       "TRUE"
      ],
      "text/latex": [
       "TRUE"
      ],
      "text/markdown": [
       "TRUE"
      ],
      "text/plain": [
       "[1] TRUE"
      ]
     },
     "metadata": {},
     "output_type": "display_data"
    }
   ],
   "source": [
    "#combine df_r and df_d\n",
    "df_p = rbind(df_d, df_r)\n",
    "nrow(df_p)\n",
    "\n",
    "#create vector for each party\n",
    "repub = filter(df_p, party == \"Republican\")\n",
    "demo = filter(df_p, party == \"Democrat\")\n",
    "\n",
    "nrow(repub) #sanity check that we have the correct total number of self-identified Republicans\n",
    "nrow(demo)  #sanity check that we have the correct total number of self-identified Democrats\n",
    "nrow(repub) + nrow(demo) == nrow(df_p)"
   ]
  },
  {
   "cell_type": "code",
   "execution_count": 21,
   "metadata": {},
   "outputs": [
    {
     "data": {
      "text/html": [
       "<table>\n",
       "<caption>A data.frame: 2 × 3</caption>\n",
       "<thead>\n",
       "\t<tr><th scope=col>party</th><th scope=col>mean_age</th><th scope=col>sd_age</th></tr>\n",
       "\t<tr><th scope=col>&lt;chr&gt;</th><th scope=col>&lt;dbl&gt;</th><th scope=col>&lt;dbl&gt;</th></tr>\n",
       "</thead>\n",
       "<tbody>\n",
       "\t<tr><td>Democrat  </td><td>51.90909</td><td>16.62383</td></tr>\n",
       "\t<tr><td>Republican</td><td>50.76431</td><td>17.11036</td></tr>\n",
       "</tbody>\n",
       "</table>\n"
      ],
      "text/latex": [
       "A data.frame: 2 × 3\n",
       "\\begin{tabular}{lll}\n",
       " party & mean\\_age & sd\\_age\\\\\n",
       " <chr> & <dbl> & <dbl>\\\\\n",
       "\\hline\n",
       "\t Democrat   & 51.90909 & 16.62383\\\\\n",
       "\t Republican & 50.76431 & 17.11036\\\\\n",
       "\\end{tabular}\n"
      ],
      "text/markdown": [
       "\n",
       "A data.frame: 2 × 3\n",
       "\n",
       "| party &lt;chr&gt; | mean_age &lt;dbl&gt; | sd_age &lt;dbl&gt; |\n",
       "|---|---|---|\n",
       "| Democrat   | 51.90909 | 16.62383 |\n",
       "| Republican | 50.76431 | 17.11036 |\n",
       "\n"
      ],
      "text/plain": [
       "  party      mean_age sd_age  \n",
       "1 Democrat   51.90909 16.62383\n",
       "2 Republican 50.76431 17.11036"
      ]
     },
     "metadata": {},
     "output_type": "display_data"
    }
   ],
   "source": [
    "#computes the mean and standard deviation of age by party\n",
    "mu2 = ddply(df_p, \"party\", summarize, mean_age = mean(age, na.rm = TRUE), sd_age = sd(age, na.rm = TRUE))\n",
    "mu2\n",
    "\n",
    "demo_mean = mu2[1,2]\n",
    "repub_mean = mu2[2,2]"
   ]
  },
  {
   "cell_type": "markdown",
   "metadata": {},
   "source": [
    ">Initial review of the mean and standard deviation of age doesn't not seem to suggest there are major differences between the 2 parties.\n",
    "Next, we will provide a similar set of visualizations as the previous question to visually inspect the distribution."
   ]
  },
  {
   "cell_type": "code",
   "execution_count": 292,
   "metadata": {},
   "outputs": [],
   "source": [
    "#Histogram\n",
    "#options(repr.plot.width = 18, repr.plot.height = 13)\n",
    "\n",
    "histo2 = ggplot(df_p, aes(age, fill = party, color = party)) + \n",
    "    geom_histogram(position = \"identity\", alpha = .5, bins = 30) +\n",
    "    geom_vline(data = mu2, aes(xintercept = mean_age, color = party), linetype = \"dashed\", size = 1) +\n",
    "    annotate(geom = \"text\", x = demo_mean + 4, y = 64, label = paste(\"Mean:\", round(demo_mean, 1)), color = \"#F8766D\", size = 7) +\n",
    "    annotate(geom = \"text\", x = repub_mean - 4, y = 64, label = paste(\"Mean:\", round(repub_mean, 1)), color = \"#00BFC4\", size = 7 ) +\n",
    "    labs(title = \"Distribution of Voter Age by Party Affliation (Self-Identified)\", x = \"Age\", y = \"Number of Voters\") + \n",
    "    plot_theme"
   ]
  },
  {
   "cell_type": "code",
   "execution_count": 295,
   "metadata": {},
   "outputs": [],
   "source": [
    "#Facet histogram: Alternative to overlaid histogram\n",
    "histo_f = ggplot(df_p, aes(age, fill = party, color = party)) + \n",
    "    geom_histogram(position = \"identity\", alpha = .5, bins = 30) +\n",
    "    geom_vline(data = mu2, aes(xintercept = mean_age, color = party), linetype = \"dashed\", size = 1) +\n",
    "    labs(title = \"Distribution of Voter Age by Party Affliation (Self-Identified)\", x = \"Age\", y = \"Number of Voters\") + \n",
    "    facet_grid(party ~ .) +\n",
    "    plot_theme"
   ]
  },
  {
   "cell_type": "code",
   "execution_count": 293,
   "metadata": {},
   "outputs": [],
   "source": [
    "#Density plot\n",
    "dens2 = ggplot(df_p, aes(age, fill = party, color = party)) + \n",
    "    geom_density(position = \"identity\", alpha = .5) +\n",
    "    labs(title = \"Density Curve of Voter Age by Party Affliation (Self-Identified)\", x = \"Age\", y = \"Density\") +\n",
    "    plot_theme"
   ]
  },
  {
   "cell_type": "code",
   "execution_count": 294,
   "metadata": {},
   "outputs": [
    {
     "data": {
      "image/png": "[encoded data removed]",
      "text/plain": [
       "plot without title"
      ]
     },
     "metadata": {
      "image/png": {
       "height": 780,
       "width": 1080
      }
     },
     "output_type": "display_data"
    }
   ],
   "source": [
    "#histogram and density plot side by side\n",
    "plot_grid(histo2, NULL, dens2, ncol = 1, align = \"h\", rel_heights = c(2, .1, 2))"
   ]
  },
  {
   "cell_type": "code",
   "execution_count": 25,
   "metadata": {},
   "outputs": [
    {
     "data": {
      "image/png": "[encoded data removed]",
      "text/plain": [
       "plot without title"
      ]
     },
     "metadata": {
      "image/png": {
       "height": 780,
       "width": 1080
      }
     },
     "output_type": "display_data"
    }
   ],
   "source": [
    "#Notched boxplot\n",
    "box_p2 = ggplot(df_p, aes(y = age, x = party, fill = party, color = party)) + \n",
    "    geom_boxplot(alpha = .5, outlier.color = \"black\", notch = TRUE) + \n",
    "    labs(title = \"Boxplot of Voter Age by Party Affliation (Self-Identified)\", x = \"Political Party\", y = \"Age\") + \n",
    "    plot_theme\n",
    "\n",
    "box_p2  = box_p2 + stat_summary(fun = mean, geom = \"point\", shape = 23, size = 4, fill = \"black\")\n",
    "box_p2"
   ]
  },
  {
   "cell_type": "markdown",
   "metadata": {},
   "source": [
    ">From the histogram, density plot and boxplot, the distribution of voter age between Democrats and Republicans exhibit similar shape with the average age of Democrat voters slightly higher than Republican voters. Additionally, the mean, median, and range of of voter age between the 2 parties are similar."
   ]
  },
  {
   "cell_type": "markdown",
   "metadata": {},
   "source": [
    "### Based on your EDA, select an appropriate hypothesis test.  (5 points)\n",
    "Explain why your test is the most appropriate choice.  List and evaluate all assumptions for your test."
   ]
  },
  {
   "cell_type": "markdown",
   "metadata": {},
   "source": [
    "> We believe a two sided, two sample T-test is appropriate for 5 reasons:\n",
    ">\n",
    ">1. We're interested in knowing whether there is a difference between 2 populations (self-professed Republicans and Democrats)\n",
    ">2. Each observation is a random sample (independently and identically distributed) from the population meaning that each observation is independent of one another\n",
    ">3. Both distribution shows signs of normality\n",
    ">4. We have over 700 observations for each party, well over the n > 30 minimum requirement to invoke the Central Limit Theorem\n",
    ">5. The dependent variable, age, is continious\n",
    ">\n",
    ">Thus, we will conduct an independent two sample T-test to determine if the difference in mean voter age between self-identified Republicans and Democrats are statistically significant or not.\n",
    ">\n",
    ">Null hypothesis:\n",
    "> - $H_{0}: \\mu_{DemocratAge} = \\mu_{RepublicanAge}$; there is no difference in mean age of Democrats and Republicans\n",
    "> \n",
    ">Alternative hypothesis:\n",
    "> - $H_{a}: \\mu_{DemocratAge} \\ne \\mu_{DemocratAge}$; there is no difference in mean age of Democrats and Republicans"
   ]
  },
  {
   "cell_type": "markdown",
   "metadata": {},
   "source": [
    "### Conduct your test. (5 points)\n",
    "Explain (1) the statistical significance of your result, and (2) the practical significance of your result.  Make sure you relate your findings to the original research question."
   ]
  },
  {
   "cell_type": "code",
   "execution_count": 26,
   "metadata": {},
   "outputs": [
    {
     "data": {
      "text/plain": [
       "\n",
       "\tWelch Two Sample t-test\n",
       "\n",
       "data:  age by party\n",
       "t = 1.2993, df = 1463.4, p-value = 0.1941\n",
       "alternative hypothesis: true difference in means is not equal to 0\n",
       "95 percent confidence interval:\n",
       " -0.5835786  2.8731319\n",
       "sample estimates:\n",
       "  mean in group Democrat mean in group Republican \n",
       "                51.90909                 50.76431 \n"
      ]
     },
     "metadata": {},
     "output_type": "display_data"
    }
   ],
   "source": [
    "#Two sample T-test to assess statistical significance\n",
    "t.test(age ~ party, data = df_p)"
   ]
  },
  {
   "cell_type": "markdown",
   "metadata": {},
   "source": [
    ">To assess for practical significance or the effect size, we will use Cohen's d, since the 2 groups have similar standard deviations and similar samples.\n",
    ">\n",
    "> We will also be using the below table to interpret the computed effect size of the d-value:\n",
    ">\n",
    ">| d | Effect Size  |\n",
    ">|---|---|\n",
    ">|0.2   | Small  |\n",
    ">|0.5  | Medium |\n",
    ">|0.8   | Large   |"
   ]
  },
  {
   "cell_type": "code",
   "execution_count": 27,
   "metadata": {},
   "outputs": [
    {
     "data": {
      "text/plain": [
       "\n",
       "Cohen's d\n",
       "\n",
       "d estimate: 0.06783931 (negligible)\n",
       "95 percent confidence interval:\n",
       "      lower       upper \n",
       "-0.03468482  0.17036344 \n"
      ]
     },
     "metadata": {},
     "output_type": "display_data"
    }
   ],
   "source": [
    "#Cohen's d to assess practical significance\n",
    "cohen.d(age ~ party, data = df_p)"
   ]
  },
  {
   "cell_type": "markdown",
   "metadata": {},
   "source": [
    "> #### Q2 Results Interpretation\n",
    ">- **Statistical significance:** Because the two sample T-test's p-value (0.1941) is bigger than .05, we cannot reject the null hypothesis (there is no difference in mean age of Democrats and Republicans) \n",
    ">\n",
    ">- **Practical significance:** Because the computed d-value is 0.06783931, the practical significance is negligible. Thus, we can conclude that magnitude of the difference between the age of Democrats and Replublicans are minor. \n",
    ">\n",
    ">In conclusion, the exploratory data analysis coupled with the T-test as well as Cohen's d provide strong evidence that the age difference between self-identified Democrats and Republicans are not significant, from both a statistical and practical perspective."
   ]
  },
  {
   "cell_type": "markdown",
   "metadata": {},
   "source": [
    "## Question 3: Do a majority of independent voters believe that the federal investigations of Russian election interference are baseless?"
   ]
  },
  {
   "cell_type": "markdown",
   "metadata": {},
   "source": [
    "### Introduce your topic briefly.  (5 points)\n",
    "Explain how your variables are operationalized.  Comment on any gaps that you can identify between your operational definitions and the concepts you are trying to study."
   ]
  },
  {
   "cell_type": "markdown",
   "metadata": {},
   "source": [
    ">Our goal is to determine if a majority of independent voters believe the Russian election inteference are baseless. In order to accomplish this, we need to define 3 parameters to conduct the analysis:\n",
    ">1. **Majority definition:** We define a majority to be over 50% (i.e. simple majority)\n",
    ">2. **Party identification:** For the same rationale as Question 2, we believe self-identification provides the strongest and cleanest indicator of respondent's political party affliation\n",
    ">3. **Belief that the Federal investigations of Russian election inteference are baseless:** The federal investigations into Russian election inteference were  pursued separately by the US House of Representatives, Senate and Department of Justice to determine:\n",
    ">   - Whether or not the Russians interfered in the 2016 presidential election (**russia16**)\n",
    ">   - Whether Donald Trump's 2016 campaign coordinated with the Russian government (**coord16**)\n",
    ">\n",
    ">Since the question asks about federal investigations of election interference in general instead of a specific candidate's campaign ties to the Russian government, we will focus our examination and analysis on whether or not the Russians interfered in the 2016 presidential election instead of assessing Donald Trump's association with the Russian government in his bid for the presidency. As such, we use the variable russia16, which asks respondents if they \"think the Russian government probably interfered in the 2016 presidential election to try to help Donald Trump win, or do you think this probably did not happen?\" \n",
    ">\n",
    ">Because the response is coded as a **1** for \"Russia probably interfered\" and **2** for \"This probably did not happen\", we will recode the response to 0 (Russia probably interfered) and 1 (This probably did not happen), respectively. "
   ]
  },
  {
   "cell_type": "markdown",
   "metadata": {},
   "source": [
    "### Perform an exploratory data analysis (EDA) of the relevant variables. (5 points)\n",
    "This should include a treatment of non-response and other special codes, basic sanity checks, and a justification for any values that are removed.  Use visual tools to assess the relationship among your variables and comment on any features you find."
   ]
  },
  {
   "cell_type": "markdown",
   "metadata": {},
   "source": [
    "### Using mullerinv variable in lieu of russ16"
   ]
  },
  {
   "cell_type": "markdown",
   "metadata": {},
   "source": [
    "> #### Party Identification\n",
    ">\n",
    ">- Data: Use similar method as in Question 2 to extract independent voters (response = 3) from both the pid1d and pid1r variables\n",
    ">- Sanity check: We check to see that only one of either \"pid1d\" or \"pid1r\" was answered (i.e. a respondent should not have a 1 or 2 in both columns). \n",
    ">\n",
    "> #### Sentiment Towards Robert Mueller's Investigation\n",
    ">- Data: Changed integer (1-7) values into ordinal. For hypothesis tests, recode Approve to a 1 and Disapprove to a 0.\n",
    ">- Sanity check: We should only observe allowable response codes (-7, 1:7) under muellerinv"
   ]
  },
  {
   "cell_type": "code",
   "execution_count": 28,
   "metadata": {},
   "outputs": [],
   "source": [
    "#create a copy of the original dataframe\n",
    "A3a = A"
   ]
  },
  {
   "cell_type": "code",
   "execution_count": 29,
   "metadata": {},
   "outputs": [
    {
     "data": {
      "text/html": [
       "411"
      ],
      "text/latex": [
       "411"
      ],
      "text/markdown": [
       "411"
      ],
      "text/plain": [
       "[1] 411"
      ]
     },
     "metadata": {},
     "output_type": "display_data"
    },
    {
     "data": {
      "text/html": [
       "<table>\n",
       "<caption>A data.frame: 6 × 2</caption>\n",
       "<thead>\n",
       "\t<tr><th></th><th scope=col>inv_rating</th><th scope=col>party</th></tr>\n",
       "\t<tr><th></th><th scope=col>&lt;int&gt;</th><th scope=col>&lt;chr&gt;</th></tr>\n",
       "</thead>\n",
       "<tbody>\n",
       "\t<tr><th scope=row>1</th><td>5</td><td>Independent</td></tr>\n",
       "\t<tr><th scope=row>2</th><td>1</td><td>Independent</td></tr>\n",
       "\t<tr><th scope=row>3</th><td>7</td><td>Independent</td></tr>\n",
       "\t<tr><th scope=row>4</th><td>1</td><td>Independent</td></tr>\n",
       "\t<tr><th scope=row>5</th><td>2</td><td>Independent</td></tr>\n",
       "\t<tr><th scope=row>6</th><td>4</td><td>Independent</td></tr>\n",
       "</tbody>\n",
       "</table>\n"
      ],
      "text/latex": [
       "A data.frame: 6 × 2\n",
       "\\begin{tabular}{r|ll}\n",
       "  & inv\\_rating & party\\\\\n",
       "  & <int> & <chr>\\\\\n",
       "\\hline\n",
       "\t1 & 5 & Independent\\\\\n",
       "\t2 & 1 & Independent\\\\\n",
       "\t3 & 7 & Independent\\\\\n",
       "\t4 & 1 & Independent\\\\\n",
       "\t5 & 2 & Independent\\\\\n",
       "\t6 & 4 & Independent\\\\\n",
       "\\end{tabular}\n"
      ],
      "text/markdown": [
       "\n",
       "A data.frame: 6 × 2\n",
       "\n",
       "| <!--/--> | inv_rating &lt;int&gt; | party &lt;chr&gt; |\n",
       "|---|---|---|\n",
       "| 1 | 5 | Independent |\n",
       "| 2 | 1 | Independent |\n",
       "| 3 | 7 | Independent |\n",
       "| 4 | 1 | Independent |\n",
       "| 5 | 2 | Independent |\n",
       "| 6 | 4 | Independent |\n",
       "\n"
      ],
      "text/plain": [
       "  inv_rating party      \n",
       "1 5          Independent\n",
       "2 1          Independent\n",
       "3 7          Independent\n",
       "4 1          Independent\n",
       "5 2          Independent\n",
       "6 4          Independent"
      ]
     },
     "metadata": {},
     "output_type": "display_data"
    }
   ],
   "source": [
    "#data extraction and manipulation from muellerinv and pid1r variables\n",
    "df_muel_r = select(A3a, muellerinv, pid1r)\n",
    "df_muel_r$pid1r = replace(df_muel_r$pid1r, df_muel_r$pid1r == 3, \"Independent\") #replaces 3 with Independent\n",
    "df_muel_r = df_muel_r %>% filter(pid1r == \"Independent\") #filter out all non 3 values in pid1r\n",
    "names(df_muel_r)[names(df_muel_r) == \"pid1r\"] = \"party\" #renames pid1r with party\n",
    "names(df_muel_r)[names(df_muel_r) == \"muellerinv\"] = \"inv_rating\" #renames muellerinv with inv_rating (investigation rating)\n",
    "#df_emo$anger = factor(df_emo$anger, levels = 1:5, labels = c(\"Not at all\", \"A little\", \"Somewhat\", \"Very\", \"Extremely\"), ordered = TRUE) #factorize integer values to 5 emotion levels\n",
    "\n",
    "nrow(df_muel_r)\n",
    "head(df_muel_r)"
   ]
  },
  {
   "cell_type": "code",
   "execution_count": 30,
   "metadata": {},
   "outputs": [
    {
     "data": {
      "text/html": [
       "356"
      ],
      "text/latex": [
       "356"
      ],
      "text/markdown": [
       "356"
      ],
      "text/plain": [
       "[1] 356"
      ]
     },
     "metadata": {},
     "output_type": "display_data"
    },
    {
     "data": {
      "text/html": [
       "<table>\n",
       "<caption>A data.frame: 6 × 2</caption>\n",
       "<thead>\n",
       "\t<tr><th></th><th scope=col>inv_rating</th><th scope=col>party</th></tr>\n",
       "\t<tr><th></th><th scope=col>&lt;int&gt;</th><th scope=col>&lt;chr&gt;</th></tr>\n",
       "</thead>\n",
       "<tbody>\n",
       "\t<tr><th scope=row>1</th><td>4</td><td>Independent</td></tr>\n",
       "\t<tr><th scope=row>2</th><td>7</td><td>Independent</td></tr>\n",
       "\t<tr><th scope=row>3</th><td>1</td><td>Independent</td></tr>\n",
       "\t<tr><th scope=row>4</th><td>1</td><td>Independent</td></tr>\n",
       "\t<tr><th scope=row>5</th><td>4</td><td>Independent</td></tr>\n",
       "\t<tr><th scope=row>6</th><td>1</td><td>Independent</td></tr>\n",
       "</tbody>\n",
       "</table>\n"
      ],
      "text/latex": [
       "A data.frame: 6 × 2\n",
       "\\begin{tabular}{r|ll}\n",
       "  & inv\\_rating & party\\\\\n",
       "  & <int> & <chr>\\\\\n",
       "\\hline\n",
       "\t1 & 4 & Independent\\\\\n",
       "\t2 & 7 & Independent\\\\\n",
       "\t3 & 1 & Independent\\\\\n",
       "\t4 & 1 & Independent\\\\\n",
       "\t5 & 4 & Independent\\\\\n",
       "\t6 & 1 & Independent\\\\\n",
       "\\end{tabular}\n"
      ],
      "text/markdown": [
       "\n",
       "A data.frame: 6 × 2\n",
       "\n",
       "| <!--/--> | inv_rating &lt;int&gt; | party &lt;chr&gt; |\n",
       "|---|---|---|\n",
       "| 1 | 4 | Independent |\n",
       "| 2 | 7 | Independent |\n",
       "| 3 | 1 | Independent |\n",
       "| 4 | 1 | Independent |\n",
       "| 5 | 4 | Independent |\n",
       "| 6 | 1 | Independent |\n",
       "\n"
      ],
      "text/plain": [
       "  inv_rating party      \n",
       "1 4          Independent\n",
       "2 7          Independent\n",
       "3 1          Independent\n",
       "4 1          Independent\n",
       "5 4          Independent\n",
       "6 1          Independent"
      ]
     },
     "metadata": {},
     "output_type": "display_data"
    }
   ],
   "source": [
    "#data extraction and manipulation from muellerinv and pid1d variables\n",
    "df_muel_d = select(A3a, muellerinv, pid1d)\n",
    "df_muel_d$pid1d = replace(df_muel_d$pid1d, df_muel_d$pid1d == 3, \"Independent\") #replaces 3 with Independent\n",
    "df_muel_d = df_muel_d %>% filter(pid1d == \"Independent\") #filter out all non 3 values in pid1r\n",
    "names(df_muel_d)[names(df_muel_d) == \"pid1d\"] = \"party\" #renames pid1r with party\n",
    "names(df_muel_d)[names(df_muel_d) == \"muellerinv\"] = \"inv_rating\" #renames muellerinv with inv_rating (investigation rating)\n",
    "\n",
    "nrow(df_muel_d)\n",
    "head(df_muel_d)"
   ]
  },
  {
   "cell_type": "code",
   "execution_count": 31,
   "metadata": {},
   "outputs": [
    {
     "data": {
      "text/html": [
       "<style>\n",
       ".list-inline {list-style: none; margin:0; padding: 0}\n",
       ".list-inline>li {display: inline-block}\n",
       ".list-inline>li:not(:last-child)::after {content: \"\\00b7\"; padding: 0 .5ex}\n",
       "</style>\n",
       "<ol class=list-inline><li>5</li><li>1</li><li>7</li><li>2</li><li>4</li><li>3</li><li>6</li></ol>\n",
       "\n",
       "<details>\n",
       "\t<summary style=display:list-item;cursor:pointer>\n",
       "\t\t<strong>Levels</strong>:\n",
       "\t</summary>\n",
       "\t<style>\n",
       "\t.list-inline {list-style: none; margin:0; padding: 0}\n",
       "\t.list-inline>li {display: inline-block}\n",
       "\t.list-inline>li:not(:last-child)::after {content: \"\\00b7\"; padding: 0 .5ex}\n",
       "\t</style>\n",
       "\t<ol class=list-inline><li>'1'</li><li>'2'</li><li>'3'</li><li>'4'</li><li>'5'</li><li>'6'</li><li>'7'</li></ol>\n",
       "</details>"
      ],
      "text/latex": [
       "\\begin{enumerate*}\n",
       "\\item 5\n",
       "\\item 1\n",
       "\\item 7\n",
       "\\item 2\n",
       "\\item 4\n",
       "\\item 3\n",
       "\\item 6\n",
       "\\end{enumerate*}\n",
       "\n",
       "\\emph{Levels}: \\begin{enumerate*}\n",
       "\\item '1'\n",
       "\\item '2'\n",
       "\\item '3'\n",
       "\\item '4'\n",
       "\\item '5'\n",
       "\\item '6'\n",
       "\\item '7'\n",
       "\\end{enumerate*}\n"
      ],
      "text/markdown": [
       "1. 5\n",
       "2. 1\n",
       "3. 7\n",
       "4. 2\n",
       "5. 4\n",
       "6. 3\n",
       "7. 6\n",
       "\n",
       "\n",
       "\n",
       "**Levels**: 1. '1'\n",
       "2. '2'\n",
       "3. '3'\n",
       "4. '4'\n",
       "5. '5'\n",
       "6. '6'\n",
       "7. '7'\n",
       "\n",
       "\n"
      ],
      "text/plain": [
       "[1] 5 1 7 2 4 3 6\n",
       "Levels: 1 < 2 < 3 < 4 < 5 < 6 < 7"
      ]
     },
     "metadata": {},
     "output_type": "display_data"
    },
    {
     "data": {
      "text/html": [
       "'Independent'"
      ],
      "text/latex": [
       "'Independent'"
      ],
      "text/markdown": [
       "'Independent'"
      ],
      "text/plain": [
       "[1] \"Independent\""
      ]
     },
     "metadata": {},
     "output_type": "display_data"
    },
    {
     "data": {
      "text/html": [
       "767"
      ],
      "text/latex": [
       "767"
      ],
      "text/markdown": [
       "767"
      ],
      "text/plain": [
       "[1] 767"
      ]
     },
     "metadata": {},
     "output_type": "display_data"
    },
    {
     "data": {
      "text/html": [
       "<table>\n",
       "<caption>A data.frame: 6 × 4</caption>\n",
       "<thead>\n",
       "\t<tr><th></th><th scope=col>party</th><th scope=col>inv_rating</th><th scope=col>inv_scale</th><th scope=col>sentiment</th></tr>\n",
       "\t<tr><th></th><th scope=col>&lt;chr&gt;</th><th scope=col>&lt;ord&gt;</th><th scope=col>&lt;ord&gt;</th><th scope=col>&lt;ord&gt;</th></tr>\n",
       "</thead>\n",
       "<tbody>\n",
       "\t<tr><th scope=row>1</th><td>Independent</td><td>5</td><td>Disapprove slightly           </td><td>Disapprove</td></tr>\n",
       "\t<tr><th scope=row>2</th><td>Independent</td><td>1</td><td>Approve extremely strongly    </td><td>Approve   </td></tr>\n",
       "\t<tr><th scope=row>3</th><td>Independent</td><td>7</td><td> Disapprove extremely strongly</td><td>Disapprove</td></tr>\n",
       "\t<tr><th scope=row>4</th><td>Independent</td><td>1</td><td>Approve extremely strongly    </td><td>Approve   </td></tr>\n",
       "\t<tr><th scope=row>5</th><td>Independent</td><td>2</td><td>Approve moderately strongly   </td><td>Approve   </td></tr>\n",
       "\t<tr><th scope=row>6</th><td>Independent</td><td>4</td><td>Neither approve nor disapprove</td><td>Neutral   </td></tr>\n",
       "</tbody>\n",
       "</table>\n"
      ],
      "text/latex": [
       "A data.frame: 6 × 4\n",
       "\\begin{tabular}{r|llll}\n",
       "  & party & inv\\_rating & inv\\_scale & sentiment\\\\\n",
       "  & <chr> & <ord> & <ord> & <ord>\\\\\n",
       "\\hline\n",
       "\t1 & Independent & 5 & Disapprove slightly            & Disapprove\\\\\n",
       "\t2 & Independent & 1 & Approve extremely strongly     & Approve   \\\\\n",
       "\t3 & Independent & 7 &  Disapprove extremely strongly & Disapprove\\\\\n",
       "\t4 & Independent & 1 & Approve extremely strongly     & Approve   \\\\\n",
       "\t5 & Independent & 2 & Approve moderately strongly    & Approve   \\\\\n",
       "\t6 & Independent & 4 & Neither approve nor disapprove & Neutral   \\\\\n",
       "\\end{tabular}\n"
      ],
      "text/markdown": [
       "\n",
       "A data.frame: 6 × 4\n",
       "\n",
       "| <!--/--> | party &lt;chr&gt; | inv_rating &lt;ord&gt; | inv_scale &lt;ord&gt; | sentiment &lt;ord&gt; |\n",
       "|---|---|---|---|---|\n",
       "| 1 | Independent | 5 | Disapprove slightly            | Disapprove |\n",
       "| 2 | Independent | 1 | Approve extremely strongly     | Approve    |\n",
       "| 3 | Independent | 7 |  Disapprove extremely strongly | Disapprove |\n",
       "| 4 | Independent | 1 | Approve extremely strongly     | Approve    |\n",
       "| 5 | Independent | 2 | Approve moderately strongly    | Approve    |\n",
       "| 6 | Independent | 4 | Neither approve nor disapprove | Neutral    |\n",
       "\n"
      ],
      "text/plain": [
       "  party       inv_rating inv_scale                      sentiment \n",
       "1 Independent 5          Disapprove slightly            Disapprove\n",
       "2 Independent 1          Approve extremely strongly     Approve   \n",
       "3 Independent 7           Disapprove extremely strongly Disapprove\n",
       "4 Independent 1          Approve extremely strongly     Approve   \n",
       "5 Independent 2          Approve moderately strongly    Approve   \n",
       "6 Independent 4          Neither approve nor disapprove Neutral   "
      ]
     },
     "metadata": {},
     "output_type": "display_data"
    }
   ],
   "source": [
    "#combine df_muel_r and df_muel_d\n",
    "df_mueller = rbind(df_muel_r, df_muel_d)\n",
    "df_mueller$inv_rating[df_mueller$inv_rating == -7] = NA #recode no answers (-7 value) to NA\n",
    "df_mueller$inv_scale = cut(df_mueller$inv_rating, c(0,1,2,3,4,5,6,7), c(\"Approve extremely strongly\", \"Approve moderately strongly\", \"Approve slightly\", \"Neither approve nor disapprove\", \n",
    "                                    \"Disapprove slightly\", \"Disapprove moderately strongly\", \" Disapprove extremely strongly\"), ordered = TRUE) #add an ordered response scale column\n",
    "df_mueller$sentiment = cut(df_mueller$inv_rating, c(0,3,4,7), c(\"Approve\", \"Neutral\", \"Disapprove\"), ordered = TRUE) #maps 1:3 response value to \"Approved,\" 4 to \"Neutral\" and 5:7 to \"Disapprove\"\n",
    "df_mueller$inv_rating = factor(df_mueller$inv_rating, levels = 1:7, ordered = TRUE) #factorize integer values ordered levels\n",
    "df_mueller = df_mueller[c(2,1,3,4)] #reoders column index\n",
    "\n",
    "unique(df_mueller$inv_rating) #sanity check to make sure there values 1:7 exist\n",
    "unique(df_mueller$party) #sanity check that only Independent value should be present\n",
    "\n",
    "nrow(df_mueller)\n",
    "head(df_mueller)"
   ]
  },
  {
   "cell_type": "code",
   "execution_count": 32,
   "metadata": {},
   "outputs": [
    {
     "data": {
      "text/html": [
       "767"
      ],
      "text/latex": [
       "767"
      ],
      "text/markdown": [
       "767"
      ],
      "text/plain": [
       "[1] 767"
      ]
     },
     "metadata": {},
     "output_type": "display_data"
    },
    {
     "data": {
      "text/html": [
       "100"
      ],
      "text/latex": [
       "100"
      ],
      "text/markdown": [
       "100"
      ],
      "text/plain": [
       "[1] 100"
      ]
     },
     "metadata": {},
     "output_type": "display_data"
    },
    {
     "data": {
      "text/html": [
       "<table>\n",
       "<caption>A grouped_df: 7 × 3</caption>\n",
       "<thead>\n",
       "\t<tr><th scope=col>inv_scale</th><th scope=col>count</th><th scope=col>perc</th></tr>\n",
       "\t<tr><th scope=col>&lt;ord&gt;</th><th scope=col>&lt;int&gt;</th><th scope=col>&lt;dbl&gt;</th></tr>\n",
       "</thead>\n",
       "<tbody>\n",
       "\t<tr><td>Approve extremely strongly    </td><td>218</td><td>28.422425</td></tr>\n",
       "\t<tr><td>Approve moderately strongly   </td><td> 67</td><td> 8.735332</td></tr>\n",
       "\t<tr><td>Approve slightly              </td><td> 53</td><td> 6.910039</td></tr>\n",
       "\t<tr><td>Neither approve nor disapprove</td><td>205</td><td>26.727510</td></tr>\n",
       "\t<tr><td>Disapprove slightly           </td><td> 38</td><td> 4.954368</td></tr>\n",
       "\t<tr><td>Disapprove moderately strongly</td><td> 47</td><td> 6.127771</td></tr>\n",
       "\t<tr><td> Disapprove extremely strongly</td><td>139</td><td>18.122555</td></tr>\n",
       "</tbody>\n",
       "</table>\n"
      ],
      "text/latex": [
       "A grouped\\_df: 7 × 3\n",
       "\\begin{tabular}{lll}\n",
       " inv\\_scale & count & perc\\\\\n",
       " <ord> & <int> & <dbl>\\\\\n",
       "\\hline\n",
       "\t Approve extremely strongly     & 218 & 28.422425\\\\\n",
       "\t Approve moderately strongly    &  67 &  8.735332\\\\\n",
       "\t Approve slightly               &  53 &  6.910039\\\\\n",
       "\t Neither approve nor disapprove & 205 & 26.727510\\\\\n",
       "\t Disapprove slightly            &  38 &  4.954368\\\\\n",
       "\t Disapprove moderately strongly &  47 &  6.127771\\\\\n",
       "\t  Disapprove extremely strongly & 139 & 18.122555\\\\\n",
       "\\end{tabular}\n"
      ],
      "text/markdown": [
       "\n",
       "A grouped_df: 7 × 3\n",
       "\n",
       "| inv_scale &lt;ord&gt; | count &lt;int&gt; | perc &lt;dbl&gt; |\n",
       "|---|---|---|\n",
       "| Approve extremely strongly     | 218 | 28.422425 |\n",
       "| Approve moderately strongly    |  67 |  8.735332 |\n",
       "| Approve slightly               |  53 |  6.910039 |\n",
       "| Neither approve nor disapprove | 205 | 26.727510 |\n",
       "| Disapprove slightly            |  38 |  4.954368 |\n",
       "| Disapprove moderately strongly |  47 |  6.127771 |\n",
       "|  Disapprove extremely strongly | 139 | 18.122555 |\n",
       "\n"
      ],
      "text/plain": [
       "  inv_scale                      count perc     \n",
       "1 Approve extremely strongly     218   28.422425\n",
       "2 Approve moderately strongly     67    8.735332\n",
       "3 Approve slightly                53    6.910039\n",
       "4 Neither approve nor disapprove 205   26.727510\n",
       "5 Disapprove slightly             38    4.954368\n",
       "6 Disapprove moderately strongly  47    6.127771\n",
       "7  Disapprove extremely strongly 139   18.122555"
      ]
     },
     "metadata": {},
     "output_type": "display_data"
    }
   ],
   "source": [
    "#scale specific data frame to plot out the distribution \n",
    "df_mueller_scale = df_mueller %>%\n",
    "    group_by(inv_scale) %>%\n",
    "    tally() %>%\n",
    "    mutate(perc = n / sum(n) * 100) %>%\n",
    "    group_by(inv_scale)\n",
    "names(df_mueller_scale)[names(df_mueller_scale) == \"n\"] = \"count\" #renames n to count\n",
    "\n",
    "sum(df_mueller_scale$count) #sanity check to make sure sum of count equals to 767\n",
    "sum(df_mueller_scale$perc) #sanity check to make sure sum of perc equals to 100%\n",
    "df_mueller_scale"
   ]
  },
  {
   "cell_type": "code",
   "execution_count": 212,
   "metadata": {},
   "outputs": [],
   "source": [
    "#histogram of response sentiment by count\n",
    "muel_count = ggplot(df_mueller_scale, aes(x = inv_scale, y = count, fill = inv_scale)) +\n",
    "    geom_bar(stat = \"identity\") +\n",
    "    geom_text(aes(label = count), hjust = -0.3, size = 6) + \n",
    "    coord_flip() + \n",
    "    labs(title = \"Sentiment Towards Robert Mueller's Investigation of Russian Interference in the 2016 Election\", x = \"Sentiment Scale\", y = \"Number of Independent Respondents\") +\n",
    "    plot_theme\n",
    "muel_count = muel_count + scale_fill_discrete(name = \"Sentiment Scale\")"
   ]
  },
  {
   "cell_type": "code",
   "execution_count": 213,
   "metadata": {},
   "outputs": [],
   "source": [
    "#histogram of response sentiment by proportion\n",
    "options(repr.plot.width = 22, repr.plot.height = 13) \n",
    "muel_prop = ggplot(df_mueller_scale, aes(x = inv_scale, y = perc, fill = inv_scale)) +\n",
    "    geom_bar(stat = \"identity\") +\n",
    "    geom_text(aes(label = paste(round(perc,1),\"%\")), hjust = -0.05, size = 6) + \n",
    "    coord_flip() + \n",
    "    labs(title = \"Sentiment Towards Robert Mueller's Investigation of Russian Interference in the 2016 Election\", x = \"Sentiment Scale\", y = \"Percent of Total Independent Respondents\") +\n",
    "    plot_theme\n",
    "muel_prop = muel_prop + scale_fill_discrete(name = \"Sentiment Scale\")"
   ]
  },
  {
   "cell_type": "code",
   "execution_count": 297,
   "metadata": {},
   "outputs": [
    {
     "data": {
      "image/png": "[encoded data removed]",
      "text/plain": [
       "plot without title"
      ]
     },
     "metadata": {
      "image/png": {
       "height": 780,
       "width": 1080
      }
     },
     "output_type": "display_data"
    }
   ],
   "source": [
    "#Side by side plots of count and proportion\n",
    "plot_grid(muel_count, NULL, muel_prop, ncol = 1, align = \"v\", rel_heights = c(1, .15, 1), labels = c(\"By Count\", \"\", \"By Proportion\"), label_size = 20, label_colour = \"blue\")"
   ]
  },
  {
   "cell_type": "markdown",
   "metadata": {},
   "source": [
    ">From the distribution of both count and sentiment plots, there are 2 spikes that can be observed:\n",
    ">1. Almost 23% of respondents had a neutral sentiment\n",
    ">2. Approximately 43% of Independent respondents approved Robert Mueller's investigation, with 66% (28.4 / 43) of the total from the \"Approve extremely strongly\" category\n",
    ">\n",
    ">From the visualization alone, there is evidence to indicate Independent respondents are split in their overall sentiment towards how well Robert Mueller and the FBI executed the investigation of Russian interference in the 2016 Presidential election. \n",
    ">\n",
    ">Next, we will collapse the different sentiment scale into 3 overall buckets (Approve, Neutral, Disapprove) to gain a better understanding of the overall belief, which will also be used to test both the statistical and practical significance of whether a majority of Independent voters believe that the federal investigations of Russian election interference are baseless. Specifically, the mapping ofsentiment scale to category is:\n",
    ">- **Approve** = Approve extremely strongly (1) or Approve moderately strongly (2) or Approve slightly (3)\n",
    ">- **Neutral** = Neither approve nor disapprove (4)\n",
    ">- **Disapprove** = Disapprove slightly (5) or Disapprove moderately strongly (6) or Disapprove extremely strongly (7)"
   ]
  },
  {
   "cell_type": "code",
   "execution_count": 35,
   "metadata": {},
   "outputs": [
    {
     "data": {
      "text/html": [
       "767"
      ],
      "text/latex": [
       "767"
      ],
      "text/markdown": [
       "767"
      ],
      "text/plain": [
       "[1] 767"
      ]
     },
     "metadata": {},
     "output_type": "display_data"
    },
    {
     "data": {
      "text/html": [
       "100"
      ],
      "text/latex": [
       "100"
      ],
      "text/markdown": [
       "100"
      ],
      "text/plain": [
       "[1] 100"
      ]
     },
     "metadata": {},
     "output_type": "display_data"
    },
    {
     "data": {
      "text/html": [
       "<table>\n",
       "<caption>A grouped_df: 3 × 3</caption>\n",
       "<thead>\n",
       "\t<tr><th scope=col>sentiment</th><th scope=col>count</th><th scope=col>perc</th></tr>\n",
       "\t<tr><th scope=col>&lt;ord&gt;</th><th scope=col>&lt;int&gt;</th><th scope=col>&lt;dbl&gt;</th></tr>\n",
       "</thead>\n",
       "<tbody>\n",
       "\t<tr><td>Approve   </td><td>338</td><td>44.06780</td></tr>\n",
       "\t<tr><td>Neutral   </td><td>205</td><td>26.72751</td></tr>\n",
       "\t<tr><td>Disapprove</td><td>224</td><td>29.20469</td></tr>\n",
       "</tbody>\n",
       "</table>\n"
      ],
      "text/latex": [
       "A grouped\\_df: 3 × 3\n",
       "\\begin{tabular}{lll}\n",
       " sentiment & count & perc\\\\\n",
       " <ord> & <int> & <dbl>\\\\\n",
       "\\hline\n",
       "\t Approve    & 338 & 44.06780\\\\\n",
       "\t Neutral    & 205 & 26.72751\\\\\n",
       "\t Disapprove & 224 & 29.20469\\\\\n",
       "\\end{tabular}\n"
      ],
      "text/markdown": [
       "\n",
       "A grouped_df: 3 × 3\n",
       "\n",
       "| sentiment &lt;ord&gt; | count &lt;int&gt; | perc &lt;dbl&gt; |\n",
       "|---|---|---|\n",
       "| Approve    | 338 | 44.06780 |\n",
       "| Neutral    | 205 | 26.72751 |\n",
       "| Disapprove | 224 | 29.20469 |\n",
       "\n"
      ],
      "text/plain": [
       "  sentiment  count perc    \n",
       "1 Approve    338   44.06780\n",
       "2 Neutral    205   26.72751\n",
       "3 Disapprove 224   29.20469"
      ]
     },
     "metadata": {},
     "output_type": "display_data"
    }
   ],
   "source": [
    "#category data frame to plot out the distribution \n",
    "df_mueller_cat = df_mueller %>%\n",
    "    group_by(sentiment) %>%\n",
    "    tally() %>%\n",
    "    mutate(perc = n / sum(n) * 100) %>%\n",
    "    group_by(sentiment)\n",
    "names(df_mueller_cat)[names(df_mueller_cat) == \"n\"] = \"count\" #renames n to count\n",
    "\n",
    "sum(df_mueller_cat$count) #sanity check to make sure sum of count equals to 767\n",
    "sum(df_mueller_cat$perc) #sanity check to make sure sum of perc equals to 100%\n",
    "df_mueller_cat"
   ]
  },
  {
   "cell_type": "code",
   "execution_count": 214,
   "metadata": {},
   "outputs": [],
   "source": [
    "#histogram of sentiment category by count\n",
    "muel_count_cat = ggplot(df_mueller_cat, aes(x = sentiment, y = count, fill = sentiment)) +\n",
    "    geom_bar(stat = \"identity\") +\n",
    "    geom_text(aes(label = count), hjust = -0.3, size = 6) + \n",
    "    coord_flip() + \n",
    "    labs(title = \"Sentiment Towards Robert Mueller's Investigation of Russian Interference in the 2016 Election\", x = \"Sentiment Category\", y = \"Number of Independent Respondents\") +\n",
    "    plot_theme\n",
    "muel_count_cat = muel_count_cat + scale_fill_discrete(name = \"Sentiment Category\")"
   ]
  },
  {
   "cell_type": "code",
   "execution_count": 215,
   "metadata": {},
   "outputs": [],
   "source": [
    "#histogram of response category by proportion\n",
    "#options(repr.plot.width = 22, repr.plot.height = 13) \n",
    "muel_prop_cat = ggplot(df_mueller_cat, aes(x = sentiment, y = perc, fill = sentiment)) +\n",
    "    geom_bar(stat = \"identity\") +\n",
    "    geom_text(aes(label = paste(round(perc,1),\"%\")), hjust = -0.05, size = 6) + \n",
    "    coord_flip() + \n",
    "    labs(title = \"Sentiment Towards Robert Mueller's Investigation of Russian Interference in the 2016 Election\", x = \"Sentiment Category\", y = \"Percent of Total Independent Respondents\") +\n",
    "    plot_theme\n",
    "muel_prop_cat = muel_prop_cat + scale_fill_discrete(name = \"Sentiment Category\")"
   ]
  },
  {
   "cell_type": "code",
   "execution_count": 327,
   "metadata": {},
   "outputs": [
    {
     "data": {
      "image/png": "[encoded data removed]",
      "text/plain": [
       "plot without title"
      ]
     },
     "metadata": {
      "image/png": {
       "height": 780,
       "width": 1080
      }
     },
     "output_type": "display_data"
    }
   ],
   "source": [
    "#Side by side plots of count and proportion in categories\n",
    "plot_grid(muel_count_cat, NULL, muel_prop_cat, ncol = 1, align = \"v\", rel_heights = c(1, .15, 1), labels = c(\"By Count\", \"\", \"By Proportion\"), label_size = 20, label_colour = \"blue\")"
   ]
  },
  {
   "cell_type": "markdown",
   "metadata": {},
   "source": [
    ">After collapsing individual sentiment scales into their respective categories, it should be unsuprising that 44% of Independent respondents approve of Robert Mueller's handling of the Russian intereference investigation."
   ]
  },
  {
   "cell_type": "markdown",
   "metadata": {},
   "source": [
    "### Based on your EDA, select an appropriate hypothesis test.  (5 points)\n",
    "Explain why your test is the most appropriate choice.  List and evaluate all assumptions for your test."
   ]
  },
  {
   "cell_type": "markdown",
   "metadata": {},
   "source": [
    ">We will apply the one sample Wilcoxon Signed Rank test to determine if the median sentiment value of Independents is different than the neutral rating of a 4. We're taking a non-parametric approach in lieu of a T-test because the underlying data are ordinal, which is not apprproriate for a T-test, since ordinal data doesn't have a normal distribution. Thus, means and variances are arbitrary with ordinal data, and hence the t-statistic is also arbitrary. hence, with Likert scale data, the T-test is inappropriate and uninterpretable.\n",
    ">\n",
    ">Null hypothesis:\n",
    "> - $H_{0}: \\mu = 4$; there is no difference in the sentiment (neutral) of Independent voters on their view of how the Russian interference investigation was handled\n",
    "> \n",
    ">Alternative hypothesis:\n",
    "> - $H_{a}: \\mu \\ne 4$; there is a difference in the sentiment (non-neutral) of Independent voters on their view of how the Russian interference investigation was handled"
   ]
  },
  {
   "cell_type": "markdown",
   "metadata": {},
   "source": [
    "### Conduct your test. (5 points)\n",
    "Explain (1) the statistical significance of your result, and (2) the practical significance of your result.  Make sure you relate your findings to the original research question."
   ]
  },
  {
   "cell_type": "code",
   "execution_count": 180,
   "metadata": {},
   "outputs": [
    {
     "data": {
      "text/html": [
       "<table>\n",
       "<caption>A rstatix_test: 1 × 12</caption>\n",
       "<thead>\n",
       "\t<tr><th scope=col>estimate</th><th scope=col>.y.</th><th scope=col>group1</th><th scope=col>group2</th><th scope=col>n</th><th scope=col>statistic</th><th scope=col>p</th><th scope=col>conf.low</th><th scope=col>conf.high</th><th scope=col>method</th><th scope=col>alternative</th><th scope=col>p.signif</th></tr>\n",
       "\t<tr><th scope=col>&lt;dbl&gt;</th><th scope=col>&lt;chr&gt;</th><th scope=col>&lt;chr&gt;</th><th scope=col>&lt;chr&gt;</th><th scope=col>&lt;int&gt;</th><th scope=col>&lt;dbl&gt;</th><th scope=col>&lt;dbl&gt;</th><th scope=col>&lt;dbl&gt;</th><th scope=col>&lt;dbl&gt;</th><th scope=col>&lt;chr&gt;</th><th scope=col>&lt;chr&gt;</th><th scope=col>&lt;chr&gt;</th></tr>\n",
       "</thead>\n",
       "<tbody>\n",
       "\t<tr><td>3.999955</td><td>inv_rating</td><td>1</td><td>null model</td><td>767</td><td>62103.5</td><td>4.89e-06</td><td>3.499971</td><td>3.999939</td><td>Wilcoxon</td><td>two.sided</td><td>****</td></tr>\n",
       "</tbody>\n",
       "</table>\n"
      ],
      "text/latex": [
       "A rstatix\\_test: 1 × 12\n",
       "\\begin{tabular}{llllllllllll}\n",
       " estimate & .y. & group1 & group2 & n & statistic & p & conf.low & conf.high & method & alternative & p.signif\\\\\n",
       " <dbl> & <chr> & <chr> & <chr> & <int> & <dbl> & <dbl> & <dbl> & <dbl> & <chr> & <chr> & <chr>\\\\\n",
       "\\hline\n",
       "\t 3.999955 & inv\\_rating & 1 & null model & 767 & 62103.5 & 4.89e-06 & 3.499971 & 3.999939 & Wilcoxon & two.sided & ****\\\\\n",
       "\\end{tabular}\n"
      ],
      "text/markdown": [
       "\n",
       "A rstatix_test: 1 × 12\n",
       "\n",
       "| estimate &lt;dbl&gt; | .y. &lt;chr&gt; | group1 &lt;chr&gt; | group2 &lt;chr&gt; | n &lt;int&gt; | statistic &lt;dbl&gt; | p &lt;dbl&gt; | conf.low &lt;dbl&gt; | conf.high &lt;dbl&gt; | method &lt;chr&gt; | alternative &lt;chr&gt; | p.signif &lt;chr&gt; |\n",
       "|---|---|---|---|---|---|---|---|---|---|---|---|\n",
       "| 3.999955 | inv_rating | 1 | null model | 767 | 62103.5 | 4.89e-06 | 3.499971 | 3.999939 | Wilcoxon | two.sided | **** |\n",
       "\n"
      ],
      "text/plain": [
       "  estimate .y.        group1 group2     n   statistic p        conf.low\n",
       "1 3.999955 inv_rating 1      null model 767 62103.5   4.89e-06 3.499971\n",
       "  conf.high method   alternative p.signif\n",
       "1 3.999939  Wilcoxon two.sided   ****    "
      ]
     },
     "metadata": {},
     "output_type": "display_data"
    }
   ],
   "source": [
    "#one sample Wilcoxon Signed Ranked test to test against median = 4 (neutral sentiment) and the 95% CI falls between (3.5, 4). Rating of 1-3 = Approve\n",
    "df_sign = select(df_mueller, party, inv_rating)\n",
    "df_sign$inv_rating = as.numeric(df_sign$inv_rating)\n",
    "\n",
    "df_sign %>% wilcox_test(inv_rating ~ 1, mu = 4, detailed = TRUE) %>% add_significance() #using wilcox_test function from rstatix package which allows us to pipe in the data"
   ]
  },
  {
   "cell_type": "markdown",
   "metadata": {},
   "source": [
    ">We will also be using the below table to interpret the computed effect size:\n",
    ">\n",
    ">| R | Effect Size  |\n",
    ">|---|---|\n",
    ">|0.1   | Small  |\n",
    ">|0.3  | Medium |\n",
    ">|0.5   | Large   |"
   ]
  },
  {
   "cell_type": "code",
   "execution_count": 182,
   "metadata": {},
   "outputs": [
    {
     "data": {
      "text/html": [
       "<table>\n",
       "<caption>A rstatix_test: 1 × 6</caption>\n",
       "<thead>\n",
       "\t<tr><th></th><th scope=col>.y.</th><th scope=col>group1</th><th scope=col>group2</th><th scope=col>effsize</th><th scope=col>n</th><th scope=col>magnitude</th></tr>\n",
       "\t<tr><th></th><th scope=col>&lt;chr&gt;</th><th scope=col>&lt;chr&gt;</th><th scope=col>&lt;chr&gt;</th><th scope=col>&lt;dbl&gt;</th><th scope=col>&lt;int&gt;</th><th scope=col>&lt;ord&gt;</th></tr>\n",
       "</thead>\n",
       "<tbody>\n",
       "\t<tr><th scope=row>1</th><td>inv_rating</td><td>1</td><td>null model</td><td>0.1727161</td><td>767</td><td>small</td></tr>\n",
       "</tbody>\n",
       "</table>\n"
      ],
      "text/latex": [
       "A rstatix\\_test: 1 × 6\n",
       "\\begin{tabular}{r|llllll}\n",
       "  & .y. & group1 & group2 & effsize & n & magnitude\\\\\n",
       "  & <chr> & <chr> & <chr> & <dbl> & <int> & <ord>\\\\\n",
       "\\hline\n",
       "\t1 & inv\\_rating & 1 & null model & 0.1727161 & 767 & small\\\\\n",
       "\\end{tabular}\n"
      ],
      "text/markdown": [
       "\n",
       "A rstatix_test: 1 × 6\n",
       "\n",
       "| <!--/--> | .y. &lt;chr&gt; | group1 &lt;chr&gt; | group2 &lt;chr&gt; | effsize &lt;dbl&gt; | n &lt;int&gt; | magnitude &lt;ord&gt; |\n",
       "|---|---|---|---|---|---|---|\n",
       "| 1 | inv_rating | 1 | null model | 0.1727161 | 767 | small |\n",
       "\n"
      ],
      "text/plain": [
       "  .y.        group1 group2     effsize   n   magnitude\n",
       "1 inv_rating 1      null model 0.1727161 767 small    "
      ]
     },
     "metadata": {},
     "output_type": "display_data"
    }
   ],
   "source": [
    "#effect size by assessing the r value\n",
    "df_sign %>% wilcox_effsize(inv_rating ~ 1, mu  = 4) #using wilcox_effsize function from rstatix package which allows us to pipe in the data"
   ]
  },
  {
   "cell_type": "code",
   "execution_count": 183,
   "metadata": {},
   "outputs": [
    {
     "data": {
      "text/plain": [
       "\n",
       "\tOne-sample Sign-Test\n",
       "\n",
       "data:  df_sign$inv_rating\n",
       "s = 224, p-value = 1.734e-06\n",
       "alternative hypothesis: true median is not equal to 4\n",
       "95 percent confidence interval:\n",
       " 4 4\n",
       "sample estimates:\n",
       "median of x \n",
       "          4 \n",
       "\n",
       "Achieved and Interpolated Confidence Intervals: \n",
       "\n",
       "                  Conf.Level L.E.pt U.E.pt\n",
       "Lower Achieved CI     0.9489      4      4\n",
       "Interpolated CI       0.9500      4      4\n",
       "Upper Achieved CI     0.9569      4      4\n"
      ]
     },
     "metadata": {},
     "output_type": "display_data"
    }
   ],
   "source": [
    "#Two sided sign test\n",
    "#When the data is not symmetrically distributed, we could perform a sign test instead of Wilcoxon signed-rank test\n",
    "#The sign test does not make the assumption of a symmetrically-shaped distribution. However, it will most likely be less powerful compared to the Wilcoxon test\n",
    "\n",
    "SIGN.test(df_sign$inv_rating, y= NULL, md = 4, alternative = \"two.sided\", conf.level = .95, conf.int = TRUE) #from BSDA package"
   ]
  },
  {
   "cell_type": "code",
   "execution_count": 184,
   "metadata": {},
   "outputs": [
    {
     "data": {
      "text/plain": [
       "\n",
       "\tOne-sample Sign-Test\n",
       "\n",
       "data:  df_sign$inv_rating\n",
       "s = 224, p-value = 1\n",
       "alternative hypothesis: true median is greater than 4\n",
       "95 percent confidence interval:\n",
       "   4 Inf\n",
       "sample estimates:\n",
       "median of x \n",
       "          4 \n",
       "\n",
       "Achieved and Interpolated Confidence Intervals: \n",
       "\n",
       "                  Conf.Level L.E.pt U.E.pt\n",
       "Lower Achieved CI     0.9440      4    Inf\n",
       "Interpolated CI       0.9500      4    Inf\n",
       "Upper Achieved CI     0.9517      4    Inf\n"
      ]
     },
     "metadata": {},
     "output_type": "display_data"
    }
   ],
   "source": [
    "#one sided sign test (greater means a majority of Independent voters rated a response higher than 4, which means they disapproved the investigation)\n",
    "#p-value is higher than alpha of .05, so we can't reject the null and can't support the claim that a majority of Independent voters disapprove Mueller's investigation\n",
    "SIGN.test(df_sign$inv_rating, y= NULL, md = 4, alternative = \"greater\", conf.level = .95, conf.int = TRUE)"
   ]
  },
  {
   "cell_type": "markdown",
   "metadata": {},
   "source": [
    "> #### Q3 Results Interpretation\n",
    ">- **Statistical significance:** Because the one sample Wilcoxon Signed Ranked test returned a p-value of 4.89e-06 against our median of 4 (neutral sentiment) that's much smaller than our alpha of .05, we can reject the null hypothesis. Additionally, based on the 95% confidence interval of ~(3.5, 4), the true population sentiment of Independent voters is that they slightly approve Mueller's investigation but borders on neutral (neither approve or disapprove). However, we cannot say that a majority of Independent voters believed the investigation was baseless.\n",
    ">\n",
    ">- **Practical significance:** Because the computed r value is 0.1727161, the practical significance is small. Thus, we can conclude that magnitude of the difference between Independent voter's belief regarding Russian interference in the 2016 presidential election is negligible. \n",
    ">\n",
    ">In conclusion, while there is a difference in belief, among self-identified Independent voters, of approval sentiments of Mueller's invesitgation of the 2016 presidential election, we cannot claim that a majority of the self-identified Independents believe the investigation was baseless."
   ]
  },
  {
   "cell_type": "markdown",
   "metadata": {},
   "source": [
    "## Question 4: Was anger or fear more effective at driving increases in voter turnout from 2016 to 2018?"
   ]
  },
  {
   "cell_type": "markdown",
   "metadata": {},
   "source": [
    "### Introduce your topic briefly.  (5 points)\n",
    "Explain how your variables are operationalized.  Comment on any gaps that you can identify between your operational definitions and the concepts you are trying to study."
   ]
  },
  {
   "cell_type": "markdown",
   "metadata": {},
   "source": [
    ">Our goal is to understand levels of voter fear and anger as a measure of influence to voter turnout. Specifically, we wish to determine which of the 2 emotions play a more contributing factor to voter turnout. To conduct the analysis, we will need to operationalize 3 variables:\n",
    ">1. Anger\n",
    ">2. Fear\n",
    ">3. Voter turnout\n",
    ">\n",
    ">From the ANES survey, there is a question called Global Emotion Battery (GEB) that prompts respondents to rank their sentiment towards a specific emotion with respect to the way things are going in the country these days. Two of the emotions listed are anger (geangry) and fear (geafraid), which will use for the analysis. There is also another question that asks respondents to rate the same set of emotions towards Donald Trump and his actions in office. While anger and fear against Donald Trump may factor into increased turnout, it most likely only applies on the Democratic side and the same logic may not apply to Republicans. Thus, we will only use the anger and fear variable from the GEB question (both variables are Likert data or ordinal data on a ranked scale).\n",
    ">\n",
    ">We operationalize the definition of increased turnout sample to include those respondents that voted in 2018 versus those who did not vote. We are not comparing voters in 2018 with 2016 to deduce this because we are not arguing whether increased turnout happened in this research, but rather taking it on face value that it did and relying on other research that has shown the 2018 off-cycle election did indeed have higher turnout (also known as a wave election). Moreover, we would also need the same GEB question and response data for the 2016 election as a baseline if we wish to understand which of the 2 emotions _caused_ the increase in voter turnout. However, that data is unavailable. Thus, we make the assumption that turnout was higher and evaluate which emotion, anger or fear, was a more influential driver of voter turout in 2018. The variable of interest and its associated prompt is:\n",
    ">- **turnout18:** In the election held on November 6, did you definitely vote in person on election day, vote in person before Nov 6, vote by mail, did you definitely not vote, or are you not completely sure whether you voted in that election?\n",
    ">\n",
    "> For respondents that were not sure if they voted in 2018, they were asked: \"If you had to guess, would you say that you probably did vote in the election held on\n",
    "November 6, or probably did not vote in that election?\" This is an example of a leading question and forces the user to recall from memory, which has been shown to cause memory error or the incorrect recall of information. For this reason, we have excluded any \"Probably did vote\" responses to minimize contamination of unreliable data into the analysis."
   ]
  },
  {
   "cell_type": "markdown",
   "metadata": {},
   "source": [
    "### Perform an exploratory data analysis (EDA) of the relevant variables. (5 points)\n",
    "This should include a treatment of non-response and other special codes, basic sanity checks, and a justification for any values that are removed.  Use visual tools to assess the relationship among your variables and comment on any features you find."
   ]
  },
  {
   "cell_type": "code",
   "execution_count": 89,
   "metadata": {},
   "outputs": [],
   "source": [
    "#create a copy of the original dataframe\n",
    "A4 = A"
   ]
  },
  {
   "cell_type": "code",
   "execution_count": 55,
   "metadata": {},
   "outputs": [
    {
     "data": {
      "text/plain": [
       "        anger            afraid         voted18    \n",
       " Not at all:527   Not at all:607   Voted    :1842  \n",
       " A little  :470   A little  :572   Not Voted: 658  \n",
       " Somewhat  :576   Somewhat  :602                   \n",
       " Very      :469   Very      :426                   \n",
       " Extremely :455   Extremely :287                   \n",
       " NA's      :  3   NA's      :  6                   "
      ]
     },
     "metadata": {},
     "output_type": "display_data"
    },
    {
     "data": {
      "text/html": [
       "<table>\n",
       "<caption>A data.frame: 10 × 3</caption>\n",
       "<thead>\n",
       "\t<tr><th></th><th scope=col>anger</th><th scope=col>afraid</th><th scope=col>voted18</th></tr>\n",
       "\t<tr><th></th><th scope=col>&lt;ord&gt;</th><th scope=col>&lt;ord&gt;</th><th scope=col>&lt;ord&gt;</th></tr>\n",
       "</thead>\n",
       "<tbody>\n",
       "\t<tr><th scope=row>1</th><td>A little  </td><td>A little  </td><td>Voted    </td></tr>\n",
       "\t<tr><th scope=row>2</th><td>Somewhat  </td><td>Extremely </td><td>Not Voted</td></tr>\n",
       "\t<tr><th scope=row>3</th><td>Somewhat  </td><td>A little  </td><td>Not Voted</td></tr>\n",
       "\t<tr><th scope=row>4</th><td>Not at all</td><td>Not at all</td><td>Not Voted</td></tr>\n",
       "\t<tr><th scope=row>5</th><td>A little  </td><td>Somewhat  </td><td>Voted    </td></tr>\n",
       "\t<tr><th scope=row>6</th><td>Somewhat  </td><td>Somewhat  </td><td>Voted    </td></tr>\n",
       "\t<tr><th scope=row>7</th><td>Not at all</td><td>Very      </td><td>Voted    </td></tr>\n",
       "\t<tr><th scope=row>8</th><td>Not at all</td><td>Somewhat  </td><td>Voted    </td></tr>\n",
       "\t<tr><th scope=row>9</th><td>Somewhat  </td><td>Somewhat  </td><td>Not Voted</td></tr>\n",
       "\t<tr><th scope=row>10</th><td>Very      </td><td>Very      </td><td>Voted    </td></tr>\n",
       "</tbody>\n",
       "</table>\n"
      ],
      "text/latex": [
       "A data.frame: 10 × 3\n",
       "\\begin{tabular}{r|lll}\n",
       "  & anger & afraid & voted18\\\\\n",
       "  & <ord> & <ord> & <ord>\\\\\n",
       "\\hline\n",
       "\t1 & A little   & A little   & Voted    \\\\\n",
       "\t2 & Somewhat   & Extremely  & Not Voted\\\\\n",
       "\t3 & Somewhat   & A little   & Not Voted\\\\\n",
       "\t4 & Not at all & Not at all & Not Voted\\\\\n",
       "\t5 & A little   & Somewhat   & Voted    \\\\\n",
       "\t6 & Somewhat   & Somewhat   & Voted    \\\\\n",
       "\t7 & Not at all & Very       & Voted    \\\\\n",
       "\t8 & Not at all & Somewhat   & Voted    \\\\\n",
       "\t9 & Somewhat   & Somewhat   & Not Voted\\\\\n",
       "\t10 & Very       & Very       & Voted    \\\\\n",
       "\\end{tabular}\n"
      ],
      "text/markdown": [
       "\n",
       "A data.frame: 10 × 3\n",
       "\n",
       "| <!--/--> | anger &lt;ord&gt; | afraid &lt;ord&gt; | voted18 &lt;ord&gt; |\n",
       "|---|---|---|---|\n",
       "| 1 | A little   | A little   | Voted     |\n",
       "| 2 | Somewhat   | Extremely  | Not Voted |\n",
       "| 3 | Somewhat   | A little   | Not Voted |\n",
       "| 4 | Not at all | Not at all | Not Voted |\n",
       "| 5 | A little   | Somewhat   | Voted     |\n",
       "| 6 | Somewhat   | Somewhat   | Voted     |\n",
       "| 7 | Not at all | Very       | Voted     |\n",
       "| 8 | Not at all | Somewhat   | Voted     |\n",
       "| 9 | Somewhat   | Somewhat   | Not Voted |\n",
       "| 10 | Very       | Very       | Voted     |\n",
       "\n"
      ],
      "text/plain": [
       "   anger      afraid     voted18  \n",
       "1  A little   A little   Voted    \n",
       "2  Somewhat   Extremely  Not Voted\n",
       "3  Somewhat   A little   Not Voted\n",
       "4  Not at all Not at all Not Voted\n",
       "5  A little   Somewhat   Voted    \n",
       "6  Somewhat   Somewhat   Voted    \n",
       "7  Not at all Very       Voted    \n",
       "8  Not at all Somewhat   Voted    \n",
       "9  Somewhat   Somewhat   Not Voted\n",
       "10 Very       Very       Voted    "
      ]
     },
     "metadata": {},
     "output_type": "display_data"
    }
   ],
   "source": [
    "#Create a new dataframe with geangry, geafraid and turnout18 variables/columns\n",
    "df_emo = select(A4, geangry, geafraid, turnout18)\n",
    "names(df_emo)[names(df_emo) == \"geangry\"] = \"anger\" #renames geangry to anger\n",
    "names(df_emo)[names(df_emo) == \"geafraid\"] = \"afraid\" #renames geafraid to fear\n",
    "names(df_emo)[names(df_emo) == \"turnout18\"] = \"voted18\" #renames turnout18 to voted18\n",
    "df_emo$anger[df_emo$anger == -7] = NA #recode no answers (-7 value) to NA\n",
    "df_emo$afraid[df_emo$afraid == -7] = NA #recode no answers (-7 value) to NA\n",
    "df_emo$anger = factor(df_emo$anger, levels = 1:5, labels = c(\"Not at all\", \"A little\", \"Somewhat\", \"Very\", \"Extremely\"), ordered = TRUE) #factorize integer values to 5 emotion levels\n",
    "df_emo$afraid = factor(df_emo$afraid, levels = 1:5, labels = c(\"Not at all\", \"A little\", \"Somewhat\", \"Very\", \"Extremely\"), ordered = TRUE) #factorize integer values into 5 emotion levels\n",
    "df_emo$voted18 = ifelse(df_emo$voted18 %in% 1:3, \"Voted\", \"Not Voted\" ) #response value of 1:3 indicates the respondent voted in 2018\n",
    "df_emo$voted18 = factor(df_emo$voted18, levels = c(\"Voted\", \"Not Voted\"), ordered = TRUE) #factorize values into 2 levels (voted and not voted)\n",
    "\n",
    "summary(df_emo)\n",
    "head(df_emo, 10)"
   ]
  },
  {
   "cell_type": "code",
   "execution_count": 56,
   "metadata": {},
   "outputs": [
    {
     "data": {
      "text/html": [
       "5000"
      ],
      "text/latex": [
       "5000"
      ],
      "text/markdown": [
       "5000"
      ],
      "text/plain": [
       "[1] 5000"
      ]
     },
     "metadata": {},
     "output_type": "display_data"
    },
    {
     "data": {
      "text/html": [
       "<table>\n",
       "<caption>A data.frame: 6 × 3</caption>\n",
       "<thead>\n",
       "\t<tr><th></th><th scope=col>voted18</th><th scope=col>emotion_type</th><th scope=col>scale</th></tr>\n",
       "\t<tr><th></th><th scope=col>&lt;ord&gt;</th><th scope=col>&lt;fct&gt;</th><th scope=col>&lt;ord&gt;</th></tr>\n",
       "</thead>\n",
       "<tbody>\n",
       "\t<tr><th scope=row>1</th><td>Voted    </td><td>anger</td><td>A little  </td></tr>\n",
       "\t<tr><th scope=row>2</th><td>Not Voted</td><td>anger</td><td>Somewhat  </td></tr>\n",
       "\t<tr><th scope=row>3</th><td>Not Voted</td><td>anger</td><td>Somewhat  </td></tr>\n",
       "\t<tr><th scope=row>4</th><td>Not Voted</td><td>anger</td><td>Not at all</td></tr>\n",
       "\t<tr><th scope=row>5</th><td>Voted    </td><td>anger</td><td>A little  </td></tr>\n",
       "\t<tr><th scope=row>6</th><td>Voted    </td><td>anger</td><td>Somewhat  </td></tr>\n",
       "</tbody>\n",
       "</table>\n"
      ],
      "text/latex": [
       "A data.frame: 6 × 3\n",
       "\\begin{tabular}{r|lll}\n",
       "  & voted18 & emotion\\_type & scale\\\\\n",
       "  & <ord> & <fct> & <ord>\\\\\n",
       "\\hline\n",
       "\t1 & Voted     & anger & A little  \\\\\n",
       "\t2 & Not Voted & anger & Somewhat  \\\\\n",
       "\t3 & Not Voted & anger & Somewhat  \\\\\n",
       "\t4 & Not Voted & anger & Not at all\\\\\n",
       "\t5 & Voted     & anger & A little  \\\\\n",
       "\t6 & Voted     & anger & Somewhat  \\\\\n",
       "\\end{tabular}\n"
      ],
      "text/markdown": [
       "\n",
       "A data.frame: 6 × 3\n",
       "\n",
       "| <!--/--> | voted18 &lt;ord&gt; | emotion_type &lt;fct&gt; | scale &lt;ord&gt; |\n",
       "|---|---|---|---|\n",
       "| 1 | Voted     | anger | A little   |\n",
       "| 2 | Not Voted | anger | Somewhat   |\n",
       "| 3 | Not Voted | anger | Somewhat   |\n",
       "| 4 | Not Voted | anger | Not at all |\n",
       "| 5 | Voted     | anger | A little   |\n",
       "| 6 | Voted     | anger | Somewhat   |\n",
       "\n"
      ],
      "text/plain": [
       "  voted18   emotion_type scale     \n",
       "1 Voted     anger        A little  \n",
       "2 Not Voted anger        Somewhat  \n",
       "3 Not Voted anger        Somewhat  \n",
       "4 Not Voted anger        Not at all\n",
       "5 Voted     anger        A little  \n",
       "6 Voted     anger        Somewhat  "
      ]
     },
     "metadata": {},
     "output_type": "display_data"
    }
   ],
   "source": [
    "#Change wide format into long format by collapsing fear and afraid into a single variable called \"emotion_type\"\n",
    "df_emo2 = df_emo %>% gather(emotion_type, scale, 1:2, factor_key = TRUE)\n",
    "df_emo2$scale = factor(df_emo2$scale, levels = c(\"Not at all\", \"A little\", \"Somewhat\", \"Very\", \"Extremely\"), ordered = TRUE) #factorize values into 2 levels (voted and not voted)\n",
    "\n",
    "nrow(df_emo2) #sanity check to make sure there are 5000 rows (2500 * 2)\n",
    "head(df_emo2)"
   ]
  },
  {
   "cell_type": "code",
   "execution_count": 57,
   "metadata": {},
   "outputs": [
    {
     "data": {
      "text/html": [
       "2500"
      ],
      "text/latex": [
       "2500"
      ],
      "text/markdown": [
       "2500"
      ],
      "text/plain": [
       "[1] 2500"
      ]
     },
     "metadata": {},
     "output_type": "display_data"
    },
    {
     "data": {
      "text/html": [
       "200"
      ],
      "text/latex": [
       "200"
      ],
      "text/markdown": [
       "200"
      ],
      "text/plain": [
       "[1] 200"
      ]
     },
     "metadata": {},
     "output_type": "display_data"
    },
    {
     "data": {
      "text/html": [
       "<table>\n",
       "<caption>A grouped_df: 12 × 5</caption>\n",
       "<thead>\n",
       "\t<tr><th scope=col>emo</th><th scope=col>voted18</th><th scope=col>scale</th><th scope=col>count</th><th scope=col>percent</th></tr>\n",
       "\t<tr><th scope=col>&lt;chr&gt;</th><th scope=col>&lt;ord&gt;</th><th scope=col>&lt;ord&gt;</th><th scope=col>&lt;int&gt;</th><th scope=col>&lt;dbl&gt;</th></tr>\n",
       "</thead>\n",
       "<tbody>\n",
       "\t<tr><td>Anger</td><td>Voted    </td><td>Not at all</td><td>342</td><td>18.5667752</td></tr>\n",
       "\t<tr><td>Anger</td><td>Voted    </td><td>A little  </td><td>346</td><td>18.7839305</td></tr>\n",
       "\t<tr><td>Anger</td><td>Voted    </td><td>Somewhat  </td><td>393</td><td>21.3355049</td></tr>\n",
       "\t<tr><td>Anger</td><td>Voted    </td><td>Very      </td><td>379</td><td>20.5754615</td></tr>\n",
       "\t<tr><td>Anger</td><td>Voted    </td><td>Extremely </td><td>380</td><td>20.6297503</td></tr>\n",
       "\t<tr><td>Anger</td><td>Voted    </td><td>NA        </td><td>  2</td><td> 0.1085776</td></tr>\n",
       "\t<tr><td>Anger</td><td>Not Voted</td><td>Not at all</td><td>185</td><td>28.1155015</td></tr>\n",
       "\t<tr><td>Anger</td><td>Not Voted</td><td>A little  </td><td>124</td><td>18.8449848</td></tr>\n",
       "\t<tr><td>Anger</td><td>Not Voted</td><td>Somewhat  </td><td>183</td><td>27.8115502</td></tr>\n",
       "\t<tr><td>Anger</td><td>Not Voted</td><td>Very      </td><td> 90</td><td>13.6778116</td></tr>\n",
       "\t<tr><td>Anger</td><td>Not Voted</td><td>Extremely </td><td> 75</td><td>11.3981763</td></tr>\n",
       "\t<tr><td>Anger</td><td>Not Voted</td><td>NA        </td><td>  1</td><td> 0.1519757</td></tr>\n",
       "</tbody>\n",
       "</table>\n"
      ],
      "text/latex": [
       "A grouped\\_df: 12 × 5\n",
       "\\begin{tabular}{lllll}\n",
       " emo & voted18 & scale & count & percent\\\\\n",
       " <chr> & <ord> & <ord> & <int> & <dbl>\\\\\n",
       "\\hline\n",
       "\t Anger & Voted     & Not at all & 342 & 18.5667752\\\\\n",
       "\t Anger & Voted     & A little   & 346 & 18.7839305\\\\\n",
       "\t Anger & Voted     & Somewhat   & 393 & 21.3355049\\\\\n",
       "\t Anger & Voted     & Very       & 379 & 20.5754615\\\\\n",
       "\t Anger & Voted     & Extremely  & 380 & 20.6297503\\\\\n",
       "\t Anger & Voted     & NA         &   2 &  0.1085776\\\\\n",
       "\t Anger & Not Voted & Not at all & 185 & 28.1155015\\\\\n",
       "\t Anger & Not Voted & A little   & 124 & 18.8449848\\\\\n",
       "\t Anger & Not Voted & Somewhat   & 183 & 27.8115502\\\\\n",
       "\t Anger & Not Voted & Very       &  90 & 13.6778116\\\\\n",
       "\t Anger & Not Voted & Extremely  &  75 & 11.3981763\\\\\n",
       "\t Anger & Not Voted & NA         &   1 &  0.1519757\\\\\n",
       "\\end{tabular}\n"
      ],
      "text/markdown": [
       "\n",
       "A grouped_df: 12 × 5\n",
       "\n",
       "| emo &lt;chr&gt; | voted18 &lt;ord&gt; | scale &lt;ord&gt; | count &lt;int&gt; | percent &lt;dbl&gt; |\n",
       "|---|---|---|---|---|\n",
       "| Anger | Voted     | Not at all | 342 | 18.5667752 |\n",
       "| Anger | Voted     | A little   | 346 | 18.7839305 |\n",
       "| Anger | Voted     | Somewhat   | 393 | 21.3355049 |\n",
       "| Anger | Voted     | Very       | 379 | 20.5754615 |\n",
       "| Anger | Voted     | Extremely  | 380 | 20.6297503 |\n",
       "| Anger | Voted     | NA         |   2 |  0.1085776 |\n",
       "| Anger | Not Voted | Not at all | 185 | 28.1155015 |\n",
       "| Anger | Not Voted | A little   | 124 | 18.8449848 |\n",
       "| Anger | Not Voted | Somewhat   | 183 | 27.8115502 |\n",
       "| Anger | Not Voted | Very       |  90 | 13.6778116 |\n",
       "| Anger | Not Voted | Extremely  |  75 | 11.3981763 |\n",
       "| Anger | Not Voted | NA         |   1 |  0.1519757 |\n",
       "\n"
      ],
      "text/plain": [
       "   emo   voted18   scale      count percent   \n",
       "1  Anger Voted     Not at all 342   18.5667752\n",
       "2  Anger Voted     A little   346   18.7839305\n",
       "3  Anger Voted     Somewhat   393   21.3355049\n",
       "4  Anger Voted     Very       379   20.5754615\n",
       "5  Anger Voted     Extremely  380   20.6297503\n",
       "6  Anger Voted     NA           2    0.1085776\n",
       "7  Anger Not Voted Not at all 185   28.1155015\n",
       "8  Anger Not Voted A little   124   18.8449848\n",
       "9  Anger Not Voted Somewhat   183   27.8115502\n",
       "10 Anger Not Voted Very        90   13.6778116\n",
       "11 Anger Not Voted Extremely   75   11.3981763\n",
       "12 Anger Not Voted NA           1    0.1519757"
      ]
     },
     "metadata": {},
     "output_type": "display_data"
    }
   ],
   "source": [
    "#create an \"anger\" specific datafram with relative proportion between voters and non-voters\n",
    "df_angry_voted = df_emo2 %>% #voters df\n",
    "    filter(emotion_type == \"anger\" & voted18 == \"Voted\") %>%\n",
    "    group_by(scale, voted18) %>%\n",
    "    tally() %>% #counts the number of responses\n",
    "    group_by(voted18) %>%\n",
    "    mutate(percent = n/sum(n) * 100) %>%\n",
    "    arrange(voted18)\n",
    "\n",
    "df_angry_not_voted = df_emo2 %>% #non voters df\n",
    "    filter(emotion_type == \"anger\" & voted18 == \"Not Voted\") %>%\n",
    "    group_by(scale, voted18) %>%\n",
    "    tally() %>% #counts the number of responses\n",
    "    group_by(voted18) %>%\n",
    "    mutate(percent = n/sum(n) * 100) %>%\n",
    "    arrange(voted18)\n",
    "\n",
    "df_angry = rbind(df_angry_voted, df_angry_not_voted)\n",
    "names(df_angry)[names(df_angry) == \"n\"] = \"count\" #renames n to count\n",
    "df_angry$emo = \"Anger\"\n",
    "df_angry = df_angry[c(5, 2,1,3,4)] #reoders column index\n",
    "\n",
    "sum(df_angry$count) #sanity check total adds up to 2500\n",
    "sum(df_angry$percent) #sanity check that total percent adds up to 100\n",
    "df_angry"
   ]
  },
  {
   "cell_type": "code",
   "execution_count": 58,
   "metadata": {},
   "outputs": [
    {
     "data": {
      "text/html": [
       "2500"
      ],
      "text/latex": [
       "2500"
      ],
      "text/markdown": [
       "2500"
      ],
      "text/plain": [
       "[1] 2500"
      ]
     },
     "metadata": {},
     "output_type": "display_data"
    },
    {
     "data": {
      "text/html": [
       "200"
      ],
      "text/latex": [
       "200"
      ],
      "text/markdown": [
       "200"
      ],
      "text/plain": [
       "[1] 200"
      ]
     },
     "metadata": {},
     "output_type": "display_data"
    },
    {
     "data": {
      "text/html": [
       "<table>\n",
       "<caption>A grouped_df: 12 × 5</caption>\n",
       "<thead>\n",
       "\t<tr><th scope=col>emo</th><th scope=col>voted18</th><th scope=col>scale</th><th scope=col>count</th><th scope=col>percent</th></tr>\n",
       "\t<tr><th scope=col>&lt;chr&gt;</th><th scope=col>&lt;ord&gt;</th><th scope=col>&lt;ord&gt;</th><th scope=col>&lt;int&gt;</th><th scope=col>&lt;dbl&gt;</th></tr>\n",
       "</thead>\n",
       "<tbody>\n",
       "\t<tr><td>Afraid</td><td>Voted    </td><td>Not at all</td><td>418</td><td>22.6927253</td></tr>\n",
       "\t<tr><td>Afraid</td><td>Voted    </td><td>A little  </td><td>423</td><td>22.9641694</td></tr>\n",
       "\t<tr><td>Afraid</td><td>Voted    </td><td>Somewhat  </td><td>433</td><td>23.5070575</td></tr>\n",
       "\t<tr><td>Afraid</td><td>Voted    </td><td>Very      </td><td>343</td><td>18.6210641</td></tr>\n",
       "\t<tr><td>Afraid</td><td>Voted    </td><td>Extremely </td><td>221</td><td>11.9978284</td></tr>\n",
       "\t<tr><td>Afraid</td><td>Voted    </td><td>NA        </td><td>  4</td><td> 0.2171553</td></tr>\n",
       "\t<tr><td>Afraid</td><td>Not Voted</td><td>Not at all</td><td>189</td><td>28.7234043</td></tr>\n",
       "\t<tr><td>Afraid</td><td>Not Voted</td><td>A little  </td><td>149</td><td>22.6443769</td></tr>\n",
       "\t<tr><td>Afraid</td><td>Not Voted</td><td>Somewhat  </td><td>169</td><td>25.6838906</td></tr>\n",
       "\t<tr><td>Afraid</td><td>Not Voted</td><td>Very      </td><td> 83</td><td>12.6139818</td></tr>\n",
       "\t<tr><td>Afraid</td><td>Not Voted</td><td>Extremely </td><td> 66</td><td>10.0303951</td></tr>\n",
       "\t<tr><td>Afraid</td><td>Not Voted</td><td>NA        </td><td>  2</td><td> 0.3039514</td></tr>\n",
       "</tbody>\n",
       "</table>\n"
      ],
      "text/latex": [
       "A grouped\\_df: 12 × 5\n",
       "\\begin{tabular}{lllll}\n",
       " emo & voted18 & scale & count & percent\\\\\n",
       " <chr> & <ord> & <ord> & <int> & <dbl>\\\\\n",
       "\\hline\n",
       "\t Afraid & Voted     & Not at all & 418 & 22.6927253\\\\\n",
       "\t Afraid & Voted     & A little   & 423 & 22.9641694\\\\\n",
       "\t Afraid & Voted     & Somewhat   & 433 & 23.5070575\\\\\n",
       "\t Afraid & Voted     & Very       & 343 & 18.6210641\\\\\n",
       "\t Afraid & Voted     & Extremely  & 221 & 11.9978284\\\\\n",
       "\t Afraid & Voted     & NA         &   4 &  0.2171553\\\\\n",
       "\t Afraid & Not Voted & Not at all & 189 & 28.7234043\\\\\n",
       "\t Afraid & Not Voted & A little   & 149 & 22.6443769\\\\\n",
       "\t Afraid & Not Voted & Somewhat   & 169 & 25.6838906\\\\\n",
       "\t Afraid & Not Voted & Very       &  83 & 12.6139818\\\\\n",
       "\t Afraid & Not Voted & Extremely  &  66 & 10.0303951\\\\\n",
       "\t Afraid & Not Voted & NA         &   2 &  0.3039514\\\\\n",
       "\\end{tabular}\n"
      ],
      "text/markdown": [
       "\n",
       "A grouped_df: 12 × 5\n",
       "\n",
       "| emo &lt;chr&gt; | voted18 &lt;ord&gt; | scale &lt;ord&gt; | count &lt;int&gt; | percent &lt;dbl&gt; |\n",
       "|---|---|---|---|---|\n",
       "| Afraid | Voted     | Not at all | 418 | 22.6927253 |\n",
       "| Afraid | Voted     | A little   | 423 | 22.9641694 |\n",
       "| Afraid | Voted     | Somewhat   | 433 | 23.5070575 |\n",
       "| Afraid | Voted     | Very       | 343 | 18.6210641 |\n",
       "| Afraid | Voted     | Extremely  | 221 | 11.9978284 |\n",
       "| Afraid | Voted     | NA         |   4 |  0.2171553 |\n",
       "| Afraid | Not Voted | Not at all | 189 | 28.7234043 |\n",
       "| Afraid | Not Voted | A little   | 149 | 22.6443769 |\n",
       "| Afraid | Not Voted | Somewhat   | 169 | 25.6838906 |\n",
       "| Afraid | Not Voted | Very       |  83 | 12.6139818 |\n",
       "| Afraid | Not Voted | Extremely  |  66 | 10.0303951 |\n",
       "| Afraid | Not Voted | NA         |   2 |  0.3039514 |\n",
       "\n"
      ],
      "text/plain": [
       "   emo    voted18   scale      count percent   \n",
       "1  Afraid Voted     Not at all 418   22.6927253\n",
       "2  Afraid Voted     A little   423   22.9641694\n",
       "3  Afraid Voted     Somewhat   433   23.5070575\n",
       "4  Afraid Voted     Very       343   18.6210641\n",
       "5  Afraid Voted     Extremely  221   11.9978284\n",
       "6  Afraid Voted     NA           4    0.2171553\n",
       "7  Afraid Not Voted Not at all 189   28.7234043\n",
       "8  Afraid Not Voted A little   149   22.6443769\n",
       "9  Afraid Not Voted Somewhat   169   25.6838906\n",
       "10 Afraid Not Voted Very        83   12.6139818\n",
       "11 Afraid Not Voted Extremely   66   10.0303951\n",
       "12 Afraid Not Voted NA           2    0.3039514"
      ]
     },
     "metadata": {},
     "output_type": "display_data"
    }
   ],
   "source": [
    "#create an \"afraid\" specific datafram with relative proportion between voters and non-voters\n",
    "df_afraid_voted = df_emo2 %>% #voters df\n",
    "    filter(emotion_type == \"afraid\" & voted18 == \"Voted\") %>%\n",
    "    group_by(scale, voted18) %>%\n",
    "    tally() %>% #counts the number of responses\n",
    "    group_by(voted18) %>%\n",
    "    mutate(percent = n/sum(n) * 100) %>%\n",
    "    arrange(voted18)\n",
    "\n",
    "df_afraid_not_voted = df_emo2 %>% #non voters df\n",
    "    filter(emotion_type == \"afraid\" & voted18 == \"Not Voted\") %>%\n",
    "    group_by(scale, voted18) %>%\n",
    "    tally() %>% #counts the number of responses\n",
    "    group_by(voted18) %>%\n",
    "    mutate(percent = n/sum(n) * 100) %>%\n",
    "    arrange(voted18)\n",
    "\n",
    "df_afraid = rbind(df_afraid_voted, df_afraid_not_voted)\n",
    "names(df_afraid)[names(df_afraid) == \"n\"] = \"count\" #renames n to count\n",
    "df_afraid$emo = \"Afraid\"\n",
    "df_afraid = df_afraid[c(5,2,1,3,4)] #reoders column index\n",
    "\n",
    "sum(df_afraid$count) #sanity check total adds up to 2500\n",
    "sum(df_afraid$percent) #sanity check that total percent adds up to 100\n",
    "df_afraid"
   ]
  },
  {
   "cell_type": "code",
   "execution_count": 59,
   "metadata": {},
   "outputs": [
    {
     "data": {
      "text/html": [
       "5000"
      ],
      "text/latex": [
       "5000"
      ],
      "text/markdown": [
       "5000"
      ],
      "text/plain": [
       "[1] 5000"
      ]
     },
     "metadata": {},
     "output_type": "display_data"
    },
    {
     "data": {
      "text/html": [
       "400"
      ],
      "text/latex": [
       "400"
      ],
      "text/markdown": [
       "400"
      ],
      "text/plain": [
       "[1] 400"
      ]
     },
     "metadata": {},
     "output_type": "display_data"
    },
    {
     "data": {
      "text/html": [
       "<table>\n",
       "<caption>A grouped_df: 24 × 5</caption>\n",
       "<thead>\n",
       "\t<tr><th scope=col>emo</th><th scope=col>voted18</th><th scope=col>scale</th><th scope=col>count</th><th scope=col>percent</th></tr>\n",
       "\t<tr><th scope=col>&lt;ord&gt;</th><th scope=col>&lt;ord&gt;</th><th scope=col>&lt;ord&gt;</th><th scope=col>&lt;int&gt;</th><th scope=col>&lt;dbl&gt;</th></tr>\n",
       "</thead>\n",
       "<tbody>\n",
       "\t<tr><td>Afraid</td><td>Voted    </td><td>Not at all</td><td>418</td><td>22.6927253</td></tr>\n",
       "\t<tr><td>Afraid</td><td>Voted    </td><td>A little  </td><td>423</td><td>22.9641694</td></tr>\n",
       "\t<tr><td>Afraid</td><td>Voted    </td><td>Somewhat  </td><td>433</td><td>23.5070575</td></tr>\n",
       "\t<tr><td>Afraid</td><td>Voted    </td><td>Very      </td><td>343</td><td>18.6210641</td></tr>\n",
       "\t<tr><td>Afraid</td><td>Voted    </td><td>Extremely </td><td>221</td><td>11.9978284</td></tr>\n",
       "\t<tr><td>Afraid</td><td>Voted    </td><td>NA        </td><td>  4</td><td> 0.2171553</td></tr>\n",
       "\t<tr><td>Afraid</td><td>Not Voted</td><td>Not at all</td><td>189</td><td>28.7234043</td></tr>\n",
       "\t<tr><td>Afraid</td><td>Not Voted</td><td>A little  </td><td>149</td><td>22.6443769</td></tr>\n",
       "\t<tr><td>Afraid</td><td>Not Voted</td><td>Somewhat  </td><td>169</td><td>25.6838906</td></tr>\n",
       "\t<tr><td>Afraid</td><td>Not Voted</td><td>Very      </td><td> 83</td><td>12.6139818</td></tr>\n",
       "\t<tr><td>Afraid</td><td>Not Voted</td><td>Extremely </td><td> 66</td><td>10.0303951</td></tr>\n",
       "\t<tr><td>Afraid</td><td>Not Voted</td><td>NA        </td><td>  2</td><td> 0.3039514</td></tr>\n",
       "\t<tr><td>Anger </td><td>Voted    </td><td>Not at all</td><td>342</td><td>18.5667752</td></tr>\n",
       "\t<tr><td>Anger </td><td>Voted    </td><td>A little  </td><td>346</td><td>18.7839305</td></tr>\n",
       "\t<tr><td>Anger </td><td>Voted    </td><td>Somewhat  </td><td>393</td><td>21.3355049</td></tr>\n",
       "\t<tr><td>Anger </td><td>Voted    </td><td>Very      </td><td>379</td><td>20.5754615</td></tr>\n",
       "\t<tr><td>Anger </td><td>Voted    </td><td>Extremely </td><td>380</td><td>20.6297503</td></tr>\n",
       "\t<tr><td>Anger </td><td>Voted    </td><td>NA        </td><td>  2</td><td> 0.1085776</td></tr>\n",
       "\t<tr><td>Anger </td><td>Not Voted</td><td>Not at all</td><td>185</td><td>28.1155015</td></tr>\n",
       "\t<tr><td>Anger </td><td>Not Voted</td><td>A little  </td><td>124</td><td>18.8449848</td></tr>\n",
       "\t<tr><td>Anger </td><td>Not Voted</td><td>Somewhat  </td><td>183</td><td>27.8115502</td></tr>\n",
       "\t<tr><td>Anger </td><td>Not Voted</td><td>Very      </td><td> 90</td><td>13.6778116</td></tr>\n",
       "\t<tr><td>Anger </td><td>Not Voted</td><td>Extremely </td><td> 75</td><td>11.3981763</td></tr>\n",
       "\t<tr><td>Anger </td><td>Not Voted</td><td>NA        </td><td>  1</td><td> 0.1519757</td></tr>\n",
       "</tbody>\n",
       "</table>\n"
      ],
      "text/latex": [
       "A grouped\\_df: 24 × 5\n",
       "\\begin{tabular}{lllll}\n",
       " emo & voted18 & scale & count & percent\\\\\n",
       " <ord> & <ord> & <ord> & <int> & <dbl>\\\\\n",
       "\\hline\n",
       "\t Afraid & Voted     & Not at all & 418 & 22.6927253\\\\\n",
       "\t Afraid & Voted     & A little   & 423 & 22.9641694\\\\\n",
       "\t Afraid & Voted     & Somewhat   & 433 & 23.5070575\\\\\n",
       "\t Afraid & Voted     & Very       & 343 & 18.6210641\\\\\n",
       "\t Afraid & Voted     & Extremely  & 221 & 11.9978284\\\\\n",
       "\t Afraid & Voted     & NA         &   4 &  0.2171553\\\\\n",
       "\t Afraid & Not Voted & Not at all & 189 & 28.7234043\\\\\n",
       "\t Afraid & Not Voted & A little   & 149 & 22.6443769\\\\\n",
       "\t Afraid & Not Voted & Somewhat   & 169 & 25.6838906\\\\\n",
       "\t Afraid & Not Voted & Very       &  83 & 12.6139818\\\\\n",
       "\t Afraid & Not Voted & Extremely  &  66 & 10.0303951\\\\\n",
       "\t Afraid & Not Voted & NA         &   2 &  0.3039514\\\\\n",
       "\t Anger  & Voted     & Not at all & 342 & 18.5667752\\\\\n",
       "\t Anger  & Voted     & A little   & 346 & 18.7839305\\\\\n",
       "\t Anger  & Voted     & Somewhat   & 393 & 21.3355049\\\\\n",
       "\t Anger  & Voted     & Very       & 379 & 20.5754615\\\\\n",
       "\t Anger  & Voted     & Extremely  & 380 & 20.6297503\\\\\n",
       "\t Anger  & Voted     & NA         &   2 &  0.1085776\\\\\n",
       "\t Anger  & Not Voted & Not at all & 185 & 28.1155015\\\\\n",
       "\t Anger  & Not Voted & A little   & 124 & 18.8449848\\\\\n",
       "\t Anger  & Not Voted & Somewhat   & 183 & 27.8115502\\\\\n",
       "\t Anger  & Not Voted & Very       &  90 & 13.6778116\\\\\n",
       "\t Anger  & Not Voted & Extremely  &  75 & 11.3981763\\\\\n",
       "\t Anger  & Not Voted & NA         &   1 &  0.1519757\\\\\n",
       "\\end{tabular}\n"
      ],
      "text/markdown": [
       "\n",
       "A grouped_df: 24 × 5\n",
       "\n",
       "| emo &lt;ord&gt; | voted18 &lt;ord&gt; | scale &lt;ord&gt; | count &lt;int&gt; | percent &lt;dbl&gt; |\n",
       "|---|---|---|---|---|\n",
       "| Afraid | Voted     | Not at all | 418 | 22.6927253 |\n",
       "| Afraid | Voted     | A little   | 423 | 22.9641694 |\n",
       "| Afraid | Voted     | Somewhat   | 433 | 23.5070575 |\n",
       "| Afraid | Voted     | Very       | 343 | 18.6210641 |\n",
       "| Afraid | Voted     | Extremely  | 221 | 11.9978284 |\n",
       "| Afraid | Voted     | NA         |   4 |  0.2171553 |\n",
       "| Afraid | Not Voted | Not at all | 189 | 28.7234043 |\n",
       "| Afraid | Not Voted | A little   | 149 | 22.6443769 |\n",
       "| Afraid | Not Voted | Somewhat   | 169 | 25.6838906 |\n",
       "| Afraid | Not Voted | Very       |  83 | 12.6139818 |\n",
       "| Afraid | Not Voted | Extremely  |  66 | 10.0303951 |\n",
       "| Afraid | Not Voted | NA         |   2 |  0.3039514 |\n",
       "| Anger  | Voted     | Not at all | 342 | 18.5667752 |\n",
       "| Anger  | Voted     | A little   | 346 | 18.7839305 |\n",
       "| Anger  | Voted     | Somewhat   | 393 | 21.3355049 |\n",
       "| Anger  | Voted     | Very       | 379 | 20.5754615 |\n",
       "| Anger  | Voted     | Extremely  | 380 | 20.6297503 |\n",
       "| Anger  | Voted     | NA         |   2 |  0.1085776 |\n",
       "| Anger  | Not Voted | Not at all | 185 | 28.1155015 |\n",
       "| Anger  | Not Voted | A little   | 124 | 18.8449848 |\n",
       "| Anger  | Not Voted | Somewhat   | 183 | 27.8115502 |\n",
       "| Anger  | Not Voted | Very       |  90 | 13.6778116 |\n",
       "| Anger  | Not Voted | Extremely  |  75 | 11.3981763 |\n",
       "| Anger  | Not Voted | NA         |   1 |  0.1519757 |\n",
       "\n"
      ],
      "text/plain": [
       "   emo    voted18   scale      count percent   \n",
       "1  Afraid Voted     Not at all 418   22.6927253\n",
       "2  Afraid Voted     A little   423   22.9641694\n",
       "3  Afraid Voted     Somewhat   433   23.5070575\n",
       "4  Afraid Voted     Very       343   18.6210641\n",
       "5  Afraid Voted     Extremely  221   11.9978284\n",
       "6  Afraid Voted     NA           4    0.2171553\n",
       "7  Afraid Not Voted Not at all 189   28.7234043\n",
       "8  Afraid Not Voted A little   149   22.6443769\n",
       "9  Afraid Not Voted Somewhat   169   25.6838906\n",
       "10 Afraid Not Voted Very        83   12.6139818\n",
       "11 Afraid Not Voted Extremely   66   10.0303951\n",
       "12 Afraid Not Voted NA           2    0.3039514\n",
       "13 Anger  Voted     Not at all 342   18.5667752\n",
       "14 Anger  Voted     A little   346   18.7839305\n",
       "15 Anger  Voted     Somewhat   393   21.3355049\n",
       "16 Anger  Voted     Very       379   20.5754615\n",
       "17 Anger  Voted     Extremely  380   20.6297503\n",
       "18 Anger  Voted     NA           2    0.1085776\n",
       "19 Anger  Not Voted Not at all 185   28.1155015\n",
       "20 Anger  Not Voted A little   124   18.8449848\n",
       "21 Anger  Not Voted Somewhat   183   27.8115502\n",
       "22 Anger  Not Voted Very        90   13.6778116\n",
       "23 Anger  Not Voted Extremely   75   11.3981763\n",
       "24 Anger  Not Voted NA           1    0.1519757"
      ]
     },
     "metadata": {},
     "output_type": "display_data"
    }
   ],
   "source": [
    "#combine both df_angry and df_afraid into a single dataframe for visualization and analysis\n",
    "df_all = rbind(df_afraid, df_angry)\n",
    "df_all$emo = factor(df_all$emo, levels = c(\"Anger\", \"Afraid\"), ordered = TRUE) #factorize values into 2 levels (voted and not voted)\n",
    "sum(df_all$count) #sanity check to make sure it adds up to 5000 (2500 * 2 df)\n",
    "sum(df_all$percent) #sanity check to make sure the percent adds up to 200 (100 * 2 df)\n",
    "df_all"
   ]
  },
  {
   "cell_type": "code",
   "execution_count": 310,
   "metadata": {},
   "outputs": [],
   "source": [
    "#Response count by emotion and scale\n",
    "emo_c = ggplot(df_all, mapping = aes(x = voted18, y = count, fill = scale)) +\n",
    "    facet_wrap(~ emo) + \n",
    "    geom_col() +\n",
    "    geom_text(aes(label = count, y = count), size = 5, position = position_stack(vjust = 0.5), color = \"white\") +\n",
    "    stat_summary(fun = sum, aes(label = ..y.., group = voted18), size = 5, geom = \"text\", vjust = -.25) +\n",
    "    annotate(geom = \"text\", x = 2, y =1800, label = \"Total: 2,500\", color = \"blue\", size = 6) +\n",
    "    labs(title=\"Emotional Battery Response\", y = \"Number of Responses\", x = \"Did You Vote in 2018?\") +\n",
    "    theme(strip.text.x = element_text(size = 18, color = \"black\")) +\n",
    "    plot_theme\n",
    "emo_c = emo_c + scale_fill_discrete(name = \"Emotional Scale\")"
   ]
  },
  {
   "cell_type": "code",
   "execution_count": 319,
   "metadata": {},
   "outputs": [],
   "source": [
    "#Response proprotion by emotion and scale\n",
    "emo_p = ggplot(df_all, mapping = aes(x = voted18, y = percent, fill = scale)) +\n",
    "    facet_wrap(~ emo) + \n",
    "    geom_col() +\n",
    "    geom_text(aes(label = paste(round(percent,1),\"%\")), size = 5, position = position_stack(vjust = 0.5), color = \"white\") +\n",
    "    #annotate(geom = \"text\", x = 1.5, y =105, label = \"Total : 2,500\", color = \"blue\", size = 6) +\n",
    "    labs(title = \"Emotional Battery Response\", y = \"Percent of Responses\", x = \"Did You Vote in 2018?\") +\n",
    "    theme(strip.text.x = element_text(size = 18, color = \"black\")) + \n",
    "    plot_theme\n",
    "emo_p = emo_p + scale_fill_discrete(name = \"Emotional Scale\")"
   ]
  },
  {
   "cell_type": "code",
   "execution_count": 325,
   "metadata": {},
   "outputs": [
    {
     "data": {
      "image/png": "[encoded data removed]",
      "text/plain": [
       "plot without title"
      ]
     },
     "metadata": {
      "image/png": {
       "height": 780,
       "width": 1080
      }
     },
     "output_type": "display_data"
    }
   ],
   "source": [
    "#Side by side plots of count and proportion in categories\n",
    "plot_grid(emo_c, NULL, emo_p, nrow = 1, align = \"v\", rel_widths = c(2, .1, 2), labels = c(\"By Count\", \"\", \"By Proportion\"), label_size = 16, label_colour = \"blue\")"
   ]
  },
  {
   "cell_type": "markdown",
   "metadata": {},
   "source": [
    ">First and foremost, there were disproportionately more voters than non-voters in the 2018 election by almost 3 factor. When we examine the scale of emotional response with respect to both anger and fear (afraid), it seems that voters were more emotionally charged than non-voters. For example, over 40% of voters said they felt extremely or very angry with the way things were going in 2018 while only 25% of non-voters felt the same way. Similarily, over 30% voters stated that they were extremely or very fearful of how things were in 2018 while less than 23% of non-voters responded with the same emotional degree. An interesting hypothesis to this phenomenon is that qualified voters who had an extreme representation of their emotional state were more compelled to vote in 2018 thinking that their action would bring about meaningful change that would help dissipate what they were feeling at the time."
   ]
  },
  {
   "cell_type": "markdown",
   "metadata": {},
   "source": [
    "### Based on your EDA, select an appropriate hypothesis test.  (5 points)\n",
    "Explain why your test is the most appropriate choice.  List and evaluate all assumptions for your test."
   ]
  },
  {
   "cell_type": "markdown",
   "metadata": {},
   "source": [
    ">Due to the way the Emotional Battery Response data are formatted (i.e. ordinal data and with factors), the assumptions of conventional parametric statistical analysis are often violated. Additionally, since we are dealing with categorical variables, the chi-square test of independence is the most approriate. Specifically, we will use the chi-square test to conduct two separate tests to determine if there are any significant relationships between either emotion of interest (anger and fear) with voter turnout in 2018. The chi-square tests will be used to  used to compare the distribution our categorical variables  of anger and fear in a sample . If the distribution of the anger or fear is not much different over different groups (voters and non-voters), we can conclude the distribution of the anger and fear categorical variables are not related to the different groups. Or we can say the categorical variable and groups are independent. In the event that both anger and fear are related to either groups, then we will use the effect size to determine which emotion is more influential. Thus, there are 2 tests that we will conduct one for each emotion variable.\n",
    ">\n",
    ">**Anger**\n",
    ">\n",
    ">Null hypothesis:\n",
    ">\n",
    ">- $H_0{anger}:$ Distribution of responses for both voters and non-voters are those stated in the percent column of df_anger; no association between anger and voter turnout\n",
    ">\n",
    ">Alternative hypothesis:\n",
    ">\n",
    ">- $H_a{anger}:$ Distribution of responses for both voters and non-voters are dffierent than those stated in the percent column of df_anger; association between anger and voter turnout\n",
    ">\n",
    ">**Fear (Afraid)**\n",
    ">\n",
    ">Null hypothesis:\n",
    ">\n",
    ">- $H_0{fear}:$ Distribution of responses for both voters and non-voters are those stated in the percent column of df_afraid; no association between fear and voter turnout\n",
    ">\n",
    ">Alternative hypothesis:\n",
    ">\n",
    ">- $H_a{fear}:$ Distribution of responses for both voters and non-voters are dffierent than those stated in the percent column of df_afraid; association between fear and voter turnout\n",
    "\n"
   ]
  },
  {
   "cell_type": "markdown",
   "metadata": {},
   "source": [
    "### Conduct your test. (5 points)\n",
    "Explain (1) the statistical significance of your result, and (2) the practical significance of your result.  Make sure you relate your findings to the original research question."
   ]
  },
  {
   "cell_type": "code",
   "execution_count": 62,
   "metadata": {},
   "outputs": [
    {
     "data": {
      "text/html": [
       "<table>\n",
       "<caption>A tibble: 5 × 3</caption>\n",
       "<thead>\n",
       "\t<tr><th scope=col>scale</th><th scope=col>Voted</th><th scope=col>Not Voted</th></tr>\n",
       "\t<tr><th scope=col>&lt;ord&gt;</th><th scope=col>&lt;int&gt;</th><th scope=col>&lt;int&gt;</th></tr>\n",
       "</thead>\n",
       "<tbody>\n",
       "\t<tr><td>Not at all</td><td>342</td><td>185</td></tr>\n",
       "\t<tr><td>A little  </td><td>346</td><td>124</td></tr>\n",
       "\t<tr><td>Somewhat  </td><td>393</td><td>183</td></tr>\n",
       "\t<tr><td>Very      </td><td>379</td><td> 90</td></tr>\n",
       "\t<tr><td>Extremely </td><td>380</td><td> 75</td></tr>\n",
       "</tbody>\n",
       "</table>\n"
      ],
      "text/latex": [
       "A tibble: 5 × 3\n",
       "\\begin{tabular}{lll}\n",
       " scale & Voted & Not Voted\\\\\n",
       " <ord> & <int> & <int>\\\\\n",
       "\\hline\n",
       "\t Not at all & 342 & 185\\\\\n",
       "\t A little   & 346 & 124\\\\\n",
       "\t Somewhat   & 393 & 183\\\\\n",
       "\t Very       & 379 &  90\\\\\n",
       "\t Extremely  & 380 &  75\\\\\n",
       "\\end{tabular}\n"
      ],
      "text/markdown": [
       "\n",
       "A tibble: 5 × 3\n",
       "\n",
       "| scale &lt;ord&gt; | Voted &lt;int&gt; | Not Voted &lt;int&gt; |\n",
       "|---|---|---|\n",
       "| Not at all | 342 | 185 |\n",
       "| A little   | 346 | 124 |\n",
       "| Somewhat   | 393 | 183 |\n",
       "| Very       | 379 |  90 |\n",
       "| Extremely  | 380 |  75 |\n",
       "\n"
      ],
      "text/plain": [
       "  scale      Voted Not Voted\n",
       "1 Not at all 342   185      \n",
       "2 A little   346   124      \n",
       "3 Somewhat   393   183      \n",
       "4 Very       379    90      \n",
       "5 Extremely  380    75      "
      ]
     },
     "metadata": {},
     "output_type": "display_data"
    }
   ],
   "source": [
    "#setting up the wide format of df_anger to prep for chi-square test (association between anger and 2018 voter turnout)\n",
    "df_a = select(df_angry, voted18, scale, count)\n",
    "df_a = spread(df_a, voted18, count)\n",
    "df_a = head(df_a, -1) #remove \"NA\" row from analysis\n",
    "\n",
    "df_a"
   ]
  },
  {
   "cell_type": "code",
   "execution_count": 63,
   "metadata": {},
   "outputs": [
    {
     "data": {
      "text/plain": [
       "\n",
       "\tPearson's Chi-squared test\n",
       "\n",
       "data:  as.matrix(df_a[, -1])\n",
       "X-squared = 64.806, df = 4, p-value = 2.827e-13\n"
      ]
     },
     "metadata": {},
     "output_type": "display_data"
    }
   ],
   "source": [
    "#anger vs. turnout chi-square test and analysis\n",
    "anger_chi = chisq.test(as.matrix(df_a[, -1]))\n",
    "anger_chi"
   ]
  },
  {
   "cell_type": "code",
   "execution_count": 64,
   "metadata": {},
   "outputs": [
    {
     "data": {
      "text/html": [
       "<table>\n",
       "<caption>A data.frame: 5 × 3</caption>\n",
       "<thead>\n",
       "\t<tr><th scope=col>anger_scale</th><th scope=col>Voted</th><th scope=col>Not Voted</th></tr>\n",
       "\t<tr><th scope=col>&lt;chr&gt;</th><th scope=col>&lt;dbl&gt;</th><th scope=col>&lt;dbl&gt;</th></tr>\n",
       "</thead>\n",
       "<tbody>\n",
       "\t<tr><td>1-Not at all</td><td>-2.35</td><td> 3.94</td></tr>\n",
       "\t<tr><td>2-A little  </td><td>-0.02</td><td> 0.03</td></tr>\n",
       "\t<tr><td>3-Somewhat  </td><td>-1.53</td><td> 2.55</td></tr>\n",
       "\t<tr><td>4-Very      </td><td> 1.80</td><td>-3.01</td></tr>\n",
       "\t<tr><td>5-Extremely </td><td> 2.44</td><td>-4.09</td></tr>\n",
       "</tbody>\n",
       "</table>\n"
      ],
      "text/latex": [
       "A data.frame: 5 × 3\n",
       "\\begin{tabular}{lll}\n",
       " anger\\_scale & Voted & Not Voted\\\\\n",
       " <chr> & <dbl> & <dbl>\\\\\n",
       "\\hline\n",
       "\t 1-Not at all & -2.35 &  3.94\\\\\n",
       "\t 2-A little   & -0.02 &  0.03\\\\\n",
       "\t 3-Somewhat   & -1.53 &  2.55\\\\\n",
       "\t 4-Very       &  1.80 & -3.01\\\\\n",
       "\t 5-Extremely  &  2.44 & -4.09\\\\\n",
       "\\end{tabular}\n"
      ],
      "text/markdown": [
       "\n",
       "A data.frame: 5 × 3\n",
       "\n",
       "| anger_scale &lt;chr&gt; | Voted &lt;dbl&gt; | Not Voted &lt;dbl&gt; |\n",
       "|---|---|---|\n",
       "| 1-Not at all | -2.35 |  3.94 |\n",
       "| 2-A little   | -0.02 |  0.03 |\n",
       "| 3-Somewhat   | -1.53 |  2.55 |\n",
       "| 4-Very       |  1.80 | -3.01 |\n",
       "| 5-Extremely  |  2.44 | -4.09 |\n",
       "\n"
      ],
      "text/plain": [
       "  anger_scale  Voted Not Voted\n",
       "1 1-Not at all -2.35  3.94    \n",
       "2 2-A little   -0.02  0.03    \n",
       "3 3-Somewhat   -1.53  2.55    \n",
       "4 4-Very        1.80 -3.01    \n",
       "5 5-Extremely   2.44 -4.09    "
      ]
     },
     "metadata": {},
     "output_type": "display_data"
    },
    {
     "data": {
      "image/png": "[encoded data removed]",
      "text/plain": [
       "Plot with title \"\""
      ]
     },
     "metadata": {
      "image/png": {
       "height": 780,
       "width": 1320
      }
     },
     "output_type": "display_data"
    }
   ],
   "source": [
    "#anger chi square residuals\n",
    "anger_chi_res = as.data.frame(round(anger_chi$residuals,2))\n",
    "anger_chi_res$anger_scale = c(\"1-Not at all\", \"2-A little\", \"3-Somewhat\", \"4-Very\", \"5-Extremely\")\n",
    "anger_chi_res = anger_chi_res[c(3,1,2)]\n",
    "anger_chi_res\n",
    "\n",
    "corrplot(anger_chi$residuals, is.cor = FALSE)"
   ]
  },
  {
   "cell_type": "markdown",
   "metadata": {},
   "source": [
    ">The residuals tell us the most contributing cells to the total Chi-square score, which is also visualized in a plot by the size of the circle. The sign of the standardized residuals is important to interpret the association between fear scale and voting participation group. \n",
    ">- **Positive Residuals:** Positive values specify an attraction (positive association) between the each anger scale and each of the voter/non-voter group. This is shown as blue in the plot.\n",
    ">    - In the plot above, we can see that voters have a strong positive associaton with very and extreme levels of anger \n",
    ">- **Negative Residuals:** Negative values specify a repulsion (negative association) between the each anger scale and each of the voter/non-voter group. This is shown as red in the plot.\n",
    ">    - In the plot above, we can see that non-voters have a strong negative associaton with very and extreme levels of anger while they have a strong positive association with no fear (Not at all)"
   ]
  },
  {
   "cell_type": "code",
   "execution_count": 65,
   "metadata": {},
   "outputs": [
    {
     "data": {
      "text/html": [
       "<table>\n",
       "<caption>A tibble: 5 × 3</caption>\n",
       "<thead>\n",
       "\t<tr><th scope=col>scale</th><th scope=col>Voted</th><th scope=col>Not Voted</th></tr>\n",
       "\t<tr><th scope=col>&lt;ord&gt;</th><th scope=col>&lt;int&gt;</th><th scope=col>&lt;int&gt;</th></tr>\n",
       "</thead>\n",
       "<tbody>\n",
       "\t<tr><td>Not at all</td><td>418</td><td>189</td></tr>\n",
       "\t<tr><td>A little  </td><td>423</td><td>149</td></tr>\n",
       "\t<tr><td>Somewhat  </td><td>433</td><td>169</td></tr>\n",
       "\t<tr><td>Very      </td><td>343</td><td> 83</td></tr>\n",
       "\t<tr><td>Extremely </td><td>221</td><td> 66</td></tr>\n",
       "</tbody>\n",
       "</table>\n"
      ],
      "text/latex": [
       "A tibble: 5 × 3\n",
       "\\begin{tabular}{lll}\n",
       " scale & Voted & Not Voted\\\\\n",
       " <ord> & <int> & <int>\\\\\n",
       "\\hline\n",
       "\t Not at all & 418 & 189\\\\\n",
       "\t A little   & 423 & 149\\\\\n",
       "\t Somewhat   & 433 & 169\\\\\n",
       "\t Very       & 343 &  83\\\\\n",
       "\t Extremely  & 221 &  66\\\\\n",
       "\\end{tabular}\n"
      ],
      "text/markdown": [
       "\n",
       "A tibble: 5 × 3\n",
       "\n",
       "| scale &lt;ord&gt; | Voted &lt;int&gt; | Not Voted &lt;int&gt; |\n",
       "|---|---|---|\n",
       "| Not at all | 418 | 189 |\n",
       "| A little   | 423 | 149 |\n",
       "| Somewhat   | 433 | 169 |\n",
       "| Very       | 343 |  83 |\n",
       "| Extremely  | 221 |  66 |\n",
       "\n"
      ],
      "text/plain": [
       "  scale      Voted Not Voted\n",
       "1 Not at all 418   189      \n",
       "2 A little   423   149      \n",
       "3 Somewhat   433   169      \n",
       "4 Very       343    83      \n",
       "5 Extremely  221    66      "
      ]
     },
     "metadata": {},
     "output_type": "display_data"
    }
   ],
   "source": [
    "#setting up the wide format of df_fear to prep for chi-square test (association between fear and 2018 voter turnout)\n",
    "df_f = select(df_afraid, voted18, scale, count)\n",
    "df_f = spread(df_f, voted18, count)\n",
    "df_f = head(df_f, -1) #remove \"NA\" row from analysis\n",
    "\n",
    "df_f"
   ]
  },
  {
   "cell_type": "code",
   "execution_count": 66,
   "metadata": {},
   "outputs": [
    {
     "data": {
      "text/plain": [
       "\n",
       "\tPearson's Chi-squared test\n",
       "\n",
       "data:  as.matrix(df_f[, -1])\n",
       "X-squared = 20.147, df = 4, p-value = 0.0004671\n"
      ]
     },
     "metadata": {},
     "output_type": "display_data"
    }
   ],
   "source": [
    "#fear vs. turnout chi-square test and analysis\n",
    "fear_chi = chisq.test(as.matrix(df_f[, -1]))\n",
    "fear_chi"
   ]
  },
  {
   "cell_type": "code",
   "execution_count": 67,
   "metadata": {},
   "outputs": [
    {
     "data": {
      "text/html": [
       "<table>\n",
       "<caption>A data.frame: 5 × 3</caption>\n",
       "<thead>\n",
       "\t<tr><th scope=col>fear_scale</th><th scope=col>Voted</th><th scope=col>Not Voted</th></tr>\n",
       "\t<tr><th scope=col>&lt;chr&gt;</th><th scope=col>&lt;dbl&gt;</th><th scope=col>&lt;dbl&gt;</th></tr>\n",
       "</thead>\n",
       "<tbody>\n",
       "\t<tr><td>1-Not at all</td><td>-1.39</td><td> 2.32</td></tr>\n",
       "\t<tr><td>2-A little  </td><td> 0.07</td><td>-0.12</td></tr>\n",
       "\t<tr><td>3-Somewhat  </td><td>-0.51</td><td> 0.85</td></tr>\n",
       "\t<tr><td>4-Very      </td><td> 1.64</td><td>-2.74</td></tr>\n",
       "\t<tr><td>5-Extremely </td><td> 0.65</td><td>-1.09</td></tr>\n",
       "</tbody>\n",
       "</table>\n"
      ],
      "text/latex": [
       "A data.frame: 5 × 3\n",
       "\\begin{tabular}{lll}\n",
       " fear\\_scale & Voted & Not Voted\\\\\n",
       " <chr> & <dbl> & <dbl>\\\\\n",
       "\\hline\n",
       "\t 1-Not at all & -1.39 &  2.32\\\\\n",
       "\t 2-A little   &  0.07 & -0.12\\\\\n",
       "\t 3-Somewhat   & -0.51 &  0.85\\\\\n",
       "\t 4-Very       &  1.64 & -2.74\\\\\n",
       "\t 5-Extremely  &  0.65 & -1.09\\\\\n",
       "\\end{tabular}\n"
      ],
      "text/markdown": [
       "\n",
       "A data.frame: 5 × 3\n",
       "\n",
       "| fear_scale &lt;chr&gt; | Voted &lt;dbl&gt; | Not Voted &lt;dbl&gt; |\n",
       "|---|---|---|\n",
       "| 1-Not at all | -1.39 |  2.32 |\n",
       "| 2-A little   |  0.07 | -0.12 |\n",
       "| 3-Somewhat   | -0.51 |  0.85 |\n",
       "| 4-Very       |  1.64 | -2.74 |\n",
       "| 5-Extremely  |  0.65 | -1.09 |\n",
       "\n"
      ],
      "text/plain": [
       "  fear_scale   Voted Not Voted\n",
       "1 1-Not at all -1.39  2.32    \n",
       "2 2-A little    0.07 -0.12    \n",
       "3 3-Somewhat   -0.51  0.85    \n",
       "4 4-Very        1.64 -2.74    \n",
       "5 5-Extremely   0.65 -1.09    "
      ]
     },
     "metadata": {},
     "output_type": "display_data"
    },
    {
     "data": {
      "image/png": "[encoded data removed]",
      "text/plain": [
       "Plot with title \"\""
      ]
     },
     "metadata": {
      "image/png": {
       "height": 780,
       "width": 1320
      }
     },
     "output_type": "display_data"
    }
   ],
   "source": [
    "#fear chi square residuals\n",
    "fear_chi_res = as.data.frame(round(fear_chi$residuals,2))\n",
    "fear_chi_res$fear_scale = c(\"1-Not at all\", \"2-A little\", \"3-Somewhat\", \"4-Very\", \"5-Extremely\")\n",
    "fear_chi_res = fear_chi_res[c(3,1,2)]\n",
    "fear_chi_res\n",
    "\n",
    "corrplot(fear_chi$residuals, is.cor = FALSE)"
   ]
  },
  {
   "cell_type": "markdown",
   "metadata": {},
   "source": [
    ">Similar to the previous anger chi-square test, we observe an identical pattern in terms of association with fear, but to a lesser degree:\n",
    ">- **Voters:** In the plot above, there is a strong positive association with \"very\" level of fear and a moderate association with extreme level of fear\n",
    ">- **Non-Voters:** In the plot above, there is a strong positive association with no fear (Not at all) and a strong disassociation against very and extreme levels of fear."
   ]
  },
  {
   "cell_type": "markdown",
   "metadata": {},
   "source": [
    ">To assess for practical significance or the effect size of the chi-square tests, there are 3 options at our disposal:\n",
    ">1. Cramer's V\n",
    ">2. Phi ($\\phi$)\n",
    ">3. Odds ratio (OR) \n",
    ">\n",
    "> For the goodness of fit in 2 × 2 contingency tables, Phi is appropriate as it's equivalent to the correlation coefficient r, and a measure of effect size. However, our dataset is a not a 2x2 contingency table. Thus, we decided to leverage Cramer's V to assess for practical significance, which can be characterized in the equation below. We also referenced this [article from the National Center for Biotechnology Information](https://www.ncbi.nlm.nih.gov/pmc/articles/PMC5426219/).\n",
    ">\n",
    ">$$V = \\sqrt{\\frac{\\chi^2}{n * df}}$$ \n",
    "> df = min(r – 1, c – 1) and r = number of rows and c = number of columns in the contingency table.\n",
    ">\n",
    "> We will also be using the below table to interpret the computed effect size (based Jacob Cohen's [Statistical Power Analysis for the Behavioral Sciences](https://books.google.com/books?hl=en&lr=&id=rEe0BQAAQBAJ&oi=fnd&pg=PP1&ots=sv0TKsMPs6&sig=Rpfkd0H-EB0-ZhKjsdDdSDgTdx4#v=onepage&q&f=false)): \n",
    ">\n",
    ">|df   |Small   |Medium   |Large   |\n",
    "|---|---|---|---|\n",
    "|1  |.10   |.30   |.50   |\n",
    "|2 |.07   |.21   |.35   |\n",
    "|3   |.06   |.17   |.29   |\n",
    "|4   |.05   |.15   |.25   |\n",
    "|5   |.04   |.13   |.22   |"
   ]
  },
  {
   "cell_type": "code",
   "execution_count": 68,
   "metadata": {},
   "outputs": [
    {
     "data": {
      "text/html": [
       "'Degree of freedom is: 2'"
      ],
      "text/latex": [
       "'Degree of freedom is: 2'"
      ],
      "text/markdown": [
       "'Degree of freedom is: 2'"
      ],
      "text/plain": [
       "[1] \"Degree of freedom is: 2\""
      ]
     },
     "metadata": {},
     "output_type": "display_data"
    },
    {
     "data": {
      "text/html": [
       "'Anger V-value: 0.114'"
      ],
      "text/latex": [
       "'Anger V-value: 0.114'"
      ],
      "text/markdown": [
       "'Anger V-value: 0.114'"
      ],
      "text/plain": [
       "[1] \"Anger V-value: 0.114\""
      ]
     },
     "metadata": {},
     "output_type": "display_data"
    }
   ],
   "source": [
    "#anger effect size\n",
    "Cramers_V <- function(chi, n, df) round(sqrt((as.numeric(chi))/(n * df)),3) #custom Cramers_V function\n",
    "\n",
    "df = min(dim(df_a)) - 1 #degrees of freedom; min(r – 1, c – 1) and r = number of rows and c = number of columns in the contingency table.\n",
    "paste(\"Degree of freedom is:\", df)\n",
    "\n",
    "anger_effect = Cramers_V(chi = anger_chi$statistic, n = sum(colSums(df_a[,-1])), df = df) #V value calculation\n",
    "paste(\"Anger V-value:\", anger_effect)"
   ]
  },
  {
   "cell_type": "code",
   "execution_count": 69,
   "metadata": {},
   "outputs": [
    {
     "data": {
      "text/html": [
       "'Degree of freedom is: 2'"
      ],
      "text/latex": [
       "'Degree of freedom is: 2'"
      ],
      "text/markdown": [
       "'Degree of freedom is: 2'"
      ],
      "text/plain": [
       "[1] \"Degree of freedom is: 2\""
      ]
     },
     "metadata": {},
     "output_type": "display_data"
    },
    {
     "data": {
      "text/html": [
       "'Fear V-value: 0.064'"
      ],
      "text/latex": [
       "'Fear V-value: 0.064'"
      ],
      "text/markdown": [
       "'Fear V-value: 0.064'"
      ],
      "text/plain": [
       "[1] \"Fear V-value: 0.064\""
      ]
     },
     "metadata": {},
     "output_type": "display_data"
    }
   ],
   "source": [
    "#fear effect size\n",
    "df2 = min(dim(df_f)) - 1 #degrees of freedom; min(r – 1, c – 1) and r = number of rows and c = number of columns in the contingency table.\n",
    "paste(\"Degree of freedom is:\", df)\n",
    "\n",
    "fear_effect = Cramers_V(chi = fear_chi$statistic, n = sum(colSums(df_f[,-1])), df = df2) #V value calculation\n",
    "paste(\"Fear V-value:\", fear_effect)"
   ]
  },
  {
   "cell_type": "markdown",
   "metadata": {},
   "source": [
    "> #### Q4 Results Interpretation\n",
    ">- **Statistical significance:** Because both the anger and fear (afraid)'s chi-square test returned a very small p-value, we can reject the null hypothesis and support that both emtions are associated with increased voter turnout in 2018 midterm elections.\n",
    ">\n",
    ">- **Practical significance:** Because the V value for both emotions are quite small with the same degree of freedom, neither of them are practically significant. However, because anger's V-value is higher than fear, anger seems to be more influential with respect to voter turnout.\n",
    ">\n",
    ">In conclusion, the chi-square test indicates that if you want people to show up at the ballot box, anger is a compelling impetus."
   ]
  },
  {
   "cell_type": "markdown",
   "metadata": {},
   "source": [
    "## Question 5: Select a fifth question that you believe is important for understanding the behavior of voters"
   ]
  },
  {
   "cell_type": "markdown",
   "metadata": {},
   "source": [
    "### Clearly argue for the relevance of this question.  (10 points)\n",
    "In words, clearly state your research question and argue why it is important for understanding the recent voting behavior. Explain it as if you were presenting to an audience that includes technical and non technical members.\n",
    "\n",
    "Explain how your variables are operationalized.  Comment on any gaps that you can identify between your operational definitions and the concepts you are trying to study."
   ]
  },
  {
   "cell_type": "markdown",
   "metadata": {},
   "source": [
    "\n",
    "\n",
    "### Perform EDA and select your hypothesis test (5 points)\n",
    "\n",
    "Perform an exploratory data analysis (EDA) of the relevant variables.\n",
    "\n",
    "This should include a treatment of non-response and other special codes, basic sanity checks, and a justification for any values that are removed.  Use visual tools to assess the relationship among your variables and comment on any features you find.\n",
    "\n",
    "Based on your EDA, select an appropriate hypothesis test.\n",
    "Explain why your test is the most appropriate choice.  List and evaluate all assumptions for your test."
   ]
  },
  {
   "cell_type": "markdown",
   "metadata": {},
   "source": [
    ">- Is there a difference in respect level between self-identified Democrat or Republican voters on people of non-Caucasian descent?"
   ]
  },
  {
   "cell_type": "markdown",
   "metadata": {},
   "source": [
    "### Conduct your test. (2 points)\n",
    "Explain (1) the statistical significance of your result, and (2) the practical significance of your result."
   ]
  },
  {
   "cell_type": "code",
   "execution_count": null,
   "metadata": {},
   "outputs": [],
   "source": []
  },
  {
   "cell_type": "markdown",
   "metadata": {},
   "source": [
    "### Conclusion (3 points)\n",
    "Clearly state the conclusion of your hypothesis test and how it relates to your research question.\n",
    "\n",
    "Finally, briefly present your conclusion in words as if you were presenting to an audience that includes technical and non technical members."
   ]
  },
  {
   "cell_type": "code",
   "execution_count": null,
   "metadata": {},
   "outputs": [],
   "source": []
  }
 ],
 "metadata": {
  "kernelspec": {
   "display_name": "R",
   "language": "R",
   "name": "ir"
  },
  "language_info": {
   "codemirror_mode": "r",
   "file_extension": ".r",
   "mimetype": "text/x-r-source",
   "name": "R",
   "pygments_lexer": "r",
   "version": "4.0.1"
  },
  "toc": {
   "base_numbering": 1,
   "nav_menu": {},
   "number_sections": true,
   "sideBar": true,
   "skip_h1_title": false,
   "title_cell": "Table of Contents",
   "title_sidebar": "Contents",
   "toc_cell": true,
   "toc_position": {},
   "toc_section_display": true,
   "toc_window_display": false
  },
  "varInspector": {
   "cols": {
    "lenName": 16,
    "lenType": 16,
    "lenVar": 40
   },
   "kernels_config": {
    "python": {
     "delete_cmd_postfix": "",
     "delete_cmd_prefix": "del ",
     "library": "var_list.py",
     "varRefreshCmd": "print(var_dic_list())"
    },
    "r": {
     "delete_cmd_postfix": ") ",
     "delete_cmd_prefix": "rm(",
     "library": "var_list.r",
     "varRefreshCmd": "cat(var_dic_list()) "
    }
   },
   "types_to_exclude": [
    "module",
    "function",
    "builtin_function_or_method",
    "instance",
    "_Feature"
   ],
   "window_display": false
  }
 },
 "nbformat": 4,
 "nbformat_minor": 4
}
