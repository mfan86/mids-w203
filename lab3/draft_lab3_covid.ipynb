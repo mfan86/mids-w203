{
 "cells": [
  {
   "cell_type": "markdown",
   "metadata": {},
   "source": [
    "<h1 align=\"center\">W203 Lab 3: Covid 19</h1>\n",
    "<h4 align=\"center\">Blake Allen, Sam Shih, Mike Fan</h4>\n",
    "<h4 align=\"center\">Summer 2020 Section 1 </h4>"
   ]
  },
  {
   "cell_type": "markdown",
   "metadata": {},
   "source": [
    "# 1. Introduction"
   ]
  },
  {
   "cell_type": "markdown",
   "metadata": {},
   "source": [
    "The dataset includes (1) variables representing the spread of the disease, (2) variables representing state-level policy responses, and (3) general state-level characteristics."
   ]
  },
  {
   "cell_type": "markdown",
   "metadata": {},
   "source": [
    "## Research Question of Interest"
   ]
  },
  {
   "cell_type": "code",
   "execution_count": null,
   "metadata": {},
   "outputs": [],
   "source": []
  },
  {
   "cell_type": "markdown",
   "metadata": {},
   "source": [
    "# 2. Exploratory Data Analysis (EDA)"
   ]
  },
  {
   "cell_type": "markdown",
   "metadata": {},
   "source": [
    "## Data Review"
   ]
  },
  {
   "cell_type": "code",
   "execution_count": 5,
   "metadata": {},
   "outputs": [
    {
     "data": {
      "text/html": [
       "'C:/Users/micha/Desktop/lab_3-master'"
      ],
      "text/latex": [
       "'C:/Users/micha/Desktop/lab\\_3-master'"
      ],
      "text/markdown": [
       "'C:/Users/micha/Desktop/lab_3-master'"
      ],
      "text/plain": [
       "[1] \"C:/Users/micha/Desktop/lab_3-master\""
      ]
     },
     "metadata": {},
     "output_type": "display_data"
    }
   ],
   "source": [
    "getwd()"
   ]
  },
  {
   "cell_type": "code",
   "execution_count": 9,
   "metadata": {},
   "outputs": [
    {
     "name": "stderr",
     "output_type": "stream",
     "text": [
      "\n",
      "Attaching package: ‘dplyr’\n",
      "\n",
      "\n",
      "The following objects are masked from ‘package:plyr’:\n",
      "\n",
      "    arrange, count, desc, failwith, id, mutate, rename, summarise,\n",
      "    summarize\n",
      "\n",
      "\n",
      "The following objects are masked from ‘package:stats’:\n",
      "\n",
      "    filter, lag\n",
      "\n",
      "\n",
      "The following objects are masked from ‘package:base’:\n",
      "\n",
      "    intersect, setdiff, setequal, union\n",
      "\n",
      "\n"
     ]
    },
    {
     "ename": "ERROR",
     "evalue": "Error in library(summarytools): there is no package called ‘summarytools’\n",
     "output_type": "error",
     "traceback": [
      "Error in library(summarytools): there is no package called ‘summarytools’\nTraceback:\n",
      "1. library(summarytools)",
      "2. stop(txt, domain = NA)"
     ]
    }
   ],
   "source": [
    "library(plyr)\n",
    "library(dplyr)\n",
    "library(ggplot2)\n",
    "library(summarytools)\n",
    "library(coin)\n",
    "library(effsize)\n",
    "library(tidyverse)\n",
    "library(lsr)\n",
    "library(corrplot)\n",
    "library(rstatix)\n",
    "library(BSDA)\n",
    "library(cowplot)\n",
    "library(ggrepel)\n",
    "library(stargazer)\n",
    "library(knitr)\n",
    "library(kableExtra)\n",
    "library(corrr)\n",
    "library(ggcorrplot)\n",
    "library(ggfortify)\n",
    "library(lmtest)"
   ]
  },
  {
   "cell_type": "code",
   "execution_count": 23,
   "metadata": {},
   "outputs": [
    {
     "name": "stderr",
     "output_type": "stream",
     "text": [
      "Warning message:\n",
      "“package ‘latticeExtra’ is not available (for R version 3.5.2)”\n",
      "Warning message:\n",
      "“dependency ‘latticeExtra’ is not available”\n",
      "Warning message in install.packages(\"DAAG\"):\n",
      "“installation of package ‘DAAG’ had non-zero exit status”\n",
      "Updating HTML index of packages in '.Library'\n",
      "\n",
      "Warning message in file.create(f.tg):\n",
      "“cannot create file '/usr/local/Cellar/r/3.5.2_2/lib/R/doc/html/packages.html', reason 'Permission denied'”\n",
      "Warning message in make.packages.html(.Library):\n",
      "“cannot update HTML package index”\n"
     ]
    },
    {
     "ename": "ERROR",
     "evalue": "Error in library(DAAG): there is no package called ‘DAAG’\n",
     "output_type": "error",
     "traceback": [
      "Error in library(DAAG): there is no package called ‘DAAG’\nTraceback:\n",
      "1. library(DAAG)",
      "2. stop(txt, domain = NA)"
     ]
    }
   ],
   "source": [
    "install.packages(\"latticeExtra\")\n",
    "install.packages(\"DAAG\")\n",
    "library(DAAG)"
   ]
  },
  {
   "cell_type": "code",
   "execution_count": 75,
   "metadata": {},
   "outputs": [
    {
     "data": {
      "text/html": [
       "<table>\n",
       "<caption>A data.frame: 6 × 39</caption>\n",
       "<thead>\n",
       "\t<tr><th></th><th scope=col>party2016</th><th scope=col>party2016_votepercent</th><th scope=col>State</th><th scope=col>Total.Cases</th><th scope=col>Total.Death</th><th scope=col>Death_100k</th><th scope=col>CasesInLast7Days</th><th scope=col>CasesInLast7Days_100k</th><th scope=col>RatePer100000</th><th scope=col>totalTestResults</th><th scope=col>⋯</th><th scope=col>Percent_under_poverty_line</th><th scope=col>Percent.at.risk.for.serious.illness.due.to.COVID</th><th scope=col>All.cause.deaths.2018</th><th scope=col>all_death_rate18</th><th scope=col>Children.0.18</th><th scope=col>Adults.19.25</th><th scope=col>Adults.26.34</th><th scope=col>Adults.35.54</th><th scope=col>Adults.55.64</th><th scope=col>X65.</th></tr>\n",
       "\t<tr><th></th><th scope=col>&lt;fct&gt;</th><th scope=col>&lt;dbl&gt;</th><th scope=col>&lt;fct&gt;</th><th scope=col>&lt;int&gt;</th><th scope=col>&lt;int&gt;</th><th scope=col>&lt;dbl&gt;</th><th scope=col>&lt;int&gt;</th><th scope=col>&lt;dbl&gt;</th><th scope=col>&lt;dbl&gt;</th><th scope=col>&lt;int&gt;</th><th scope=col>⋯</th><th scope=col>&lt;dbl&gt;</th><th scope=col>&lt;dbl&gt;</th><th scope=col>&lt;int&gt;</th><th scope=col>&lt;dbl&gt;</th><th scope=col>&lt;dbl&gt;</th><th scope=col>&lt;dbl&gt;</th><th scope=col>&lt;dbl&gt;</th><th scope=col>&lt;dbl&gt;</th><th scope=col>&lt;dbl&gt;</th><th scope=col>&lt;dbl&gt;</th></tr>\n",
       "</thead>\n",
       "<tbody>\n",
       "\t<tr><th scope=row>1</th><td>Republican</td><td>0.6208</td><td>Alabama   </td><td> 44909</td><td>1009</td><td>20.6</td><td> 9804</td><td>200.6</td><td> 918.8</td><td> 449886</td><td>⋯</td><td>16.8</td><td>43.1</td><td> 54352</td><td>0.011119770</td><td>0.24</td><td>0.09</td><td>0.12</td><td>0.25</td><td>0.14</td><td>0.17</td></tr>\n",
       "\t<tr><th scope=row>2</th><td>Republican</td><td>0.5128</td><td>Alaska    </td><td>  1138</td><td>  16</td><td> 2.2</td><td>  284</td><td> 38.5</td><td> 154.3</td><td> 122732</td><td>⋯</td><td>10.9</td><td>32.8</td><td>  4453</td><td>0.006038474</td><td>0.27</td><td>0.09</td><td>0.13</td><td>0.26</td><td>0.13</td><td>0.12</td></tr>\n",
       "\t<tr><th scope=row>3</th><td>Republican</td><td>0.4867</td><td>Arizona   </td><td> 83376</td><td>1538</td><td>25.2</td><td>28038</td><td>391.0</td><td>1367.7</td><td> 604362</td><td>⋯</td><td>14.0</td><td>39.1</td><td> 59282</td><td>0.008266164</td><td>0.24</td><td>0.09</td><td>0.12</td><td>0.24</td><td>0.12</td><td>0.18</td></tr>\n",
       "\t<tr><th scope=row>4</th><td>Republican</td><td>0.4867</td><td>arizona   </td><td> 14713</td><td> 271</td><td>25.2</td><td>28038</td><td>391.0</td><td>1367.7</td><td> 604362</td><td>⋯</td><td>14.0</td><td>39.1</td><td> 59282</td><td>0.008266164</td><td>0.24</td><td>0.09</td><td>0.12</td><td>0.24</td><td>0.12</td><td>0.18</td></tr>\n",
       "\t<tr><th scope=row>5</th><td>Republican</td><td>0.6057</td><td>Arkansas  </td><td> 23814</td><td> 287</td><td> 9.5</td><td> 4504</td><td>149.4</td><td> 790.2</td><td> 338893</td><td>⋯</td><td>17.2</td><td>43.5</td><td> 32336</td><td>0.010729223</td><td>0.25</td><td>0.09</td><td>0.12</td><td>0.25</td><td>0.13</td><td>0.17</td></tr>\n",
       "\t<tr><th scope=row>6</th><td>Democrat  </td><td>0.6173</td><td>California</td><td>260155</td><td>6331</td><td>16.0</td><td>53722</td><td>135.8</td><td> 657.7</td><td>4680138</td><td>⋯</td><td>12.8</td><td>33.3</td><td>268818</td><td>0.006795705</td><td>0.24</td><td>0.09</td><td>0.14</td><td>0.26</td><td>0.12</td><td>0.14</td></tr>\n",
       "</tbody>\n",
       "</table>\n"
      ],
      "text/latex": [
       "A data.frame: 6 × 39\n",
       "\\begin{tabular}{r|lllllllllllllllllllll}\n",
       "  & party2016 & party2016\\_votepercent & State & Total.Cases & Total.Death & Death\\_100k & CasesInLast7Days & CasesInLast7Days\\_100k & RatePer100000 & totalTestResults & ⋯ & Percent\\_under\\_poverty\\_line & Percent.at.risk.for.serious.illness.due.to.COVID & All.cause.deaths.2018 & all\\_death\\_rate18 & Children.0.18 & Adults.19.25 & Adults.26.34 & Adults.35.54 & Adults.55.64 & X65.\\\\\n",
       "  & <fct> & <dbl> & <fct> & <int> & <int> & <dbl> & <int> & <dbl> & <dbl> & <int> & ⋯ & <dbl> & <dbl> & <int> & <dbl> & <dbl> & <dbl> & <dbl> & <dbl> & <dbl> & <dbl>\\\\\n",
       "\\hline\n",
       "\t1 & Republican & 0.6208 & Alabama    &  44909 & 1009 & 20.6 &  9804 & 200.6 &  918.8 &  449886 & ⋯ & 16.8 & 43.1 &  54352 & 0.011119770 & 0.24 & 0.09 & 0.12 & 0.25 & 0.14 & 0.17\\\\\n",
       "\t2 & Republican & 0.5128 & Alaska     &   1138 &   16 &  2.2 &   284 &  38.5 &  154.3 &  122732 & ⋯ & 10.9 & 32.8 &   4453 & 0.006038474 & 0.27 & 0.09 & 0.13 & 0.26 & 0.13 & 0.12\\\\\n",
       "\t3 & Republican & 0.4867 & Arizona    &  83376 & 1538 & 25.2 & 28038 & 391.0 & 1367.7 &  604362 & ⋯ & 14.0 & 39.1 &  59282 & 0.008266164 & 0.24 & 0.09 & 0.12 & 0.24 & 0.12 & 0.18\\\\\n",
       "\t4 & Republican & 0.4867 & arizona    &  14713 &  271 & 25.2 & 28038 & 391.0 & 1367.7 &  604362 & ⋯ & 14.0 & 39.1 &  59282 & 0.008266164 & 0.24 & 0.09 & 0.12 & 0.24 & 0.12 & 0.18\\\\\n",
       "\t5 & Republican & 0.6057 & Arkansas   &  23814 &  287 &  9.5 &  4504 & 149.4 &  790.2 &  338893 & ⋯ & 17.2 & 43.5 &  32336 & 0.010729223 & 0.25 & 0.09 & 0.12 & 0.25 & 0.13 & 0.17\\\\\n",
       "\t6 & Democrat   & 0.6173 & California & 260155 & 6331 & 16.0 & 53722 & 135.8 &  657.7 & 4680138 & ⋯ & 12.8 & 33.3 & 268818 & 0.006795705 & 0.24 & 0.09 & 0.14 & 0.26 & 0.12 & 0.14\\\\\n",
       "\\end{tabular}\n"
      ],
      "text/markdown": [
       "\n",
       "A data.frame: 6 × 39\n",
       "\n",
       "| <!--/--> | party2016 &lt;fct&gt; | party2016_votepercent &lt;dbl&gt; | State &lt;fct&gt; | Total.Cases &lt;int&gt; | Total.Death &lt;int&gt; | Death_100k &lt;dbl&gt; | CasesInLast7Days &lt;int&gt; | CasesInLast7Days_100k &lt;dbl&gt; | RatePer100000 &lt;dbl&gt; | totalTestResults &lt;int&gt; | ⋯ ⋯ | Percent_under_poverty_line &lt;dbl&gt; | Percent.at.risk.for.serious.illness.due.to.COVID &lt;dbl&gt; | All.cause.deaths.2018 &lt;int&gt; | all_death_rate18 &lt;dbl&gt; | Children.0.18 &lt;dbl&gt; | Adults.19.25 &lt;dbl&gt; | Adults.26.34 &lt;dbl&gt; | Adults.35.54 &lt;dbl&gt; | Adults.55.64 &lt;dbl&gt; | X65. &lt;dbl&gt; |\n",
       "|---|---|---|---|---|---|---|---|---|---|---|---|---|---|---|---|---|---|---|---|---|---|\n",
       "| 1 | Republican | 0.6208 | Alabama    |  44909 | 1009 | 20.6 |  9804 | 200.6 |  918.8 |  449886 | ⋯ | 16.8 | 43.1 |  54352 | 0.011119770 | 0.24 | 0.09 | 0.12 | 0.25 | 0.14 | 0.17 |\n",
       "| 2 | Republican | 0.5128 | Alaska     |   1138 |   16 |  2.2 |   284 |  38.5 |  154.3 |  122732 | ⋯ | 10.9 | 32.8 |   4453 | 0.006038474 | 0.27 | 0.09 | 0.13 | 0.26 | 0.13 | 0.12 |\n",
       "| 3 | Republican | 0.4867 | Arizona    |  83376 | 1538 | 25.2 | 28038 | 391.0 | 1367.7 |  604362 | ⋯ | 14.0 | 39.1 |  59282 | 0.008266164 | 0.24 | 0.09 | 0.12 | 0.24 | 0.12 | 0.18 |\n",
       "| 4 | Republican | 0.4867 | arizona    |  14713 |  271 | 25.2 | 28038 | 391.0 | 1367.7 |  604362 | ⋯ | 14.0 | 39.1 |  59282 | 0.008266164 | 0.24 | 0.09 | 0.12 | 0.24 | 0.12 | 0.18 |\n",
       "| 5 | Republican | 0.6057 | Arkansas   |  23814 |  287 |  9.5 |  4504 | 149.4 |  790.2 |  338893 | ⋯ | 17.2 | 43.5 |  32336 | 0.010729223 | 0.25 | 0.09 | 0.12 | 0.25 | 0.13 | 0.17 |\n",
       "| 6 | Democrat   | 0.6173 | California | 260155 | 6331 | 16.0 | 53722 | 135.8 |  657.7 | 4680138 | ⋯ | 12.8 | 33.3 | 268818 | 0.006795705 | 0.24 | 0.09 | 0.14 | 0.26 | 0.12 | 0.14 |\n",
       "\n"
      ],
      "text/plain": [
       "  party2016  party2016_votepercent State      Total.Cases Total.Death\n",
       "1 Republican 0.6208                Alabama     44909      1009       \n",
       "2 Republican 0.5128                Alaska       1138        16       \n",
       "3 Republican 0.4867                Arizona     83376      1538       \n",
       "4 Republican 0.4867                arizona     14713       271       \n",
       "5 Republican 0.6057                Arkansas    23814       287       \n",
       "6 Democrat   0.6173                California 260155      6331       \n",
       "  Death_100k CasesInLast7Days CasesInLast7Days_100k RatePer100000\n",
       "1 20.6        9804            200.6                  918.8       \n",
       "2  2.2         284             38.5                  154.3       \n",
       "3 25.2       28038            391.0                 1367.7       \n",
       "4 25.2       28038            391.0                 1367.7       \n",
       "5  9.5        4504            149.4                  790.2       \n",
       "6 16.0       53722            135.8                  657.7       \n",
       "  totalTestResults ⋯ Percent_under_poverty_line\n",
       "1  449886          ⋯ 16.8                      \n",
       "2  122732          ⋯ 10.9                      \n",
       "3  604362          ⋯ 14.0                      \n",
       "4  604362          ⋯ 14.0                      \n",
       "5  338893          ⋯ 17.2                      \n",
       "6 4680138          ⋯ 12.8                      \n",
       "  Percent.at.risk.for.serious.illness.due.to.COVID All.cause.deaths.2018\n",
       "1 43.1                                              54352               \n",
       "2 32.8                                               4453               \n",
       "3 39.1                                              59282               \n",
       "4 39.1                                              59282               \n",
       "5 43.5                                              32336               \n",
       "6 33.3                                             268818               \n",
       "  all_death_rate18 Children.0.18 Adults.19.25 Adults.26.34 Adults.35.54\n",
       "1 0.011119770      0.24          0.09         0.12         0.25        \n",
       "2 0.006038474      0.27          0.09         0.13         0.26        \n",
       "3 0.008266164      0.24          0.09         0.12         0.24        \n",
       "4 0.008266164      0.24          0.09         0.12         0.24        \n",
       "5 0.010729223      0.25          0.09         0.12         0.25        \n",
       "6 0.006795705      0.24          0.09         0.14         0.26        \n",
       "  Adults.55.64 X65.\n",
       "1 0.14         0.17\n",
       "2 0.13         0.12\n",
       "3 0.12         0.18\n",
       "4 0.12         0.18\n",
       "5 0.13         0.17\n",
       "6 0.12         0.14"
      ]
     },
     "metadata": {},
     "output_type": "display_data"
    },
    {
     "data": {
      "text/html": [
       "<table>\n",
       "<caption>A data.frame: 6 × 39</caption>\n",
       "<thead>\n",
       "\t<tr><th></th><th scope=col>party2016</th><th scope=col>party2016_votepercent</th><th scope=col>State</th><th scope=col>Total.Cases</th><th scope=col>Total.Death</th><th scope=col>Death_100k</th><th scope=col>CasesInLast7Days</th><th scope=col>CasesInLast7Days_100k</th><th scope=col>RatePer100000</th><th scope=col>totalTestResults</th><th scope=col>⋯</th><th scope=col>Percent_under_poverty_line</th><th scope=col>Percent.at.risk.for.serious.illness.due.to.COVID</th><th scope=col>All.cause.deaths.2018</th><th scope=col>all_death_rate18</th><th scope=col>Children.0.18</th><th scope=col>Adults.19.25</th><th scope=col>Adults.26.34</th><th scope=col>Adults.35.54</th><th scope=col>Adults.55.64</th><th scope=col>X65.</th></tr>\n",
       "\t<tr><th></th><th scope=col>&lt;fct&gt;</th><th scope=col>&lt;dbl&gt;</th><th scope=col>&lt;fct&gt;</th><th scope=col>&lt;int&gt;</th><th scope=col>&lt;int&gt;</th><th scope=col>&lt;dbl&gt;</th><th scope=col>&lt;int&gt;</th><th scope=col>&lt;dbl&gt;</th><th scope=col>&lt;dbl&gt;</th><th scope=col>&lt;int&gt;</th><th scope=col>⋯</th><th scope=col>&lt;dbl&gt;</th><th scope=col>&lt;dbl&gt;</th><th scope=col>&lt;int&gt;</th><th scope=col>&lt;dbl&gt;</th><th scope=col>&lt;dbl&gt;</th><th scope=col>&lt;dbl&gt;</th><th scope=col>&lt;dbl&gt;</th><th scope=col>&lt;dbl&gt;</th><th scope=col>&lt;dbl&gt;</th><th scope=col>&lt;dbl&gt;</th></tr>\n",
       "</thead>\n",
       "<tbody>\n",
       "\t<tr><th scope=row>1</th><td>Republican</td><td>0.6208</td><td>Alabama   </td><td> 44909</td><td>1009</td><td> 20.6</td><td> 9804</td><td>200.6</td><td> 918.8</td><td> 449886</td><td>⋯</td><td>16.8</td><td>43.1</td><td> 54352</td><td>0.011119770</td><td>0.24</td><td>0.09</td><td>0.12</td><td>0.25</td><td>0.14</td><td>0.17</td></tr>\n",
       "\t<tr><th scope=row>2</th><td>Republican</td><td>0.5128</td><td>Alaska    </td><td>  1138</td><td>  16</td><td>  2.2</td><td>  284</td><td> 38.5</td><td> 154.3</td><td> 122732</td><td>⋯</td><td>10.9</td><td>32.8</td><td>  4453</td><td>0.006038474</td><td>0.27</td><td>0.09</td><td>0.13</td><td>0.26</td><td>0.13</td><td>0.12</td></tr>\n",
       "\t<tr><th scope=row>3</th><td>Republican</td><td>0.4867</td><td>Arizona   </td><td> 98089</td><td>1809</td><td> 25.2</td><td>28038</td><td>391.0</td><td>1367.7</td><td> 604362</td><td>⋯</td><td>14.0</td><td>39.1</td><td> 59282</td><td>0.008266164</td><td>0.24</td><td>0.09</td><td>0.12</td><td>0.24</td><td>0.12</td><td>0.18</td></tr>\n",
       "\t<tr><th scope=row>5</th><td>Republican</td><td>0.6057</td><td>Arkansas  </td><td> 23814</td><td> 287</td><td>  9.5</td><td> 4504</td><td>149.4</td><td> 790.2</td><td> 338893</td><td>⋯</td><td>17.2</td><td>43.5</td><td> 32336</td><td>0.010729223</td><td>0.25</td><td>0.09</td><td>0.12</td><td>0.25</td><td>0.13</td><td>0.17</td></tr>\n",
       "\t<tr><th scope=row>6</th><td>Democrat  </td><td>0.6173</td><td>California</td><td>260155</td><td>6331</td><td> 16.0</td><td>53722</td><td>135.8</td><td> 657.7</td><td>4680138</td><td>⋯</td><td>12.8</td><td>33.3</td><td>268818</td><td>0.006795705</td><td>0.24</td><td>0.09</td><td>0.14</td><td>0.26</td><td>0.12</td><td>0.14</td></tr>\n",
       "\t<tr><th scope=row>7</th><td>Democrat  </td><td>0.4816</td><td>Colorado  </td><td> 34065</td><td>1701</td><td>299.0</td><td> 2043</td><td> 35.9</td><td> 598.1</td><td> 350717</td><td>⋯</td><td> 9.6</td><td>31.3</td><td> 38526</td><td>0.006764212</td><td>0.24</td><td>0.09</td><td>0.14</td><td>0.26</td><td>0.13</td><td>0.14</td></tr>\n",
       "</tbody>\n",
       "</table>\n"
      ],
      "text/latex": [
       "A data.frame: 6 × 39\n",
       "\\begin{tabular}{r|lllllllllllllllllllll}\n",
       "  & party2016 & party2016\\_votepercent & State & Total.Cases & Total.Death & Death\\_100k & CasesInLast7Days & CasesInLast7Days\\_100k & RatePer100000 & totalTestResults & ⋯ & Percent\\_under\\_poverty\\_line & Percent.at.risk.for.serious.illness.due.to.COVID & All.cause.deaths.2018 & all\\_death\\_rate18 & Children.0.18 & Adults.19.25 & Adults.26.34 & Adults.35.54 & Adults.55.64 & X65.\\\\\n",
       "  & <fct> & <dbl> & <fct> & <int> & <int> & <dbl> & <int> & <dbl> & <dbl> & <int> & ⋯ & <dbl> & <dbl> & <int> & <dbl> & <dbl> & <dbl> & <dbl> & <dbl> & <dbl> & <dbl>\\\\\n",
       "\\hline\n",
       "\t1 & Republican & 0.6208 & Alabama    &  44909 & 1009 &  20.6 &  9804 & 200.6 &  918.8 &  449886 & ⋯ & 16.8 & 43.1 &  54352 & 0.011119770 & 0.24 & 0.09 & 0.12 & 0.25 & 0.14 & 0.17\\\\\n",
       "\t2 & Republican & 0.5128 & Alaska     &   1138 &   16 &   2.2 &   284 &  38.5 &  154.3 &  122732 & ⋯ & 10.9 & 32.8 &   4453 & 0.006038474 & 0.27 & 0.09 & 0.13 & 0.26 & 0.13 & 0.12\\\\\n",
       "\t3 & Republican & 0.4867 & Arizona    &  98089 & 1809 &  25.2 & 28038 & 391.0 & 1367.7 &  604362 & ⋯ & 14.0 & 39.1 &  59282 & 0.008266164 & 0.24 & 0.09 & 0.12 & 0.24 & 0.12 & 0.18\\\\\n",
       "\t5 & Republican & 0.6057 & Arkansas   &  23814 &  287 &   9.5 &  4504 & 149.4 &  790.2 &  338893 & ⋯ & 17.2 & 43.5 &  32336 & 0.010729223 & 0.25 & 0.09 & 0.12 & 0.25 & 0.13 & 0.17\\\\\n",
       "\t6 & Democrat   & 0.6173 & California & 260155 & 6331 &  16.0 & 53722 & 135.8 &  657.7 & 4680138 & ⋯ & 12.8 & 33.3 & 268818 & 0.006795705 & 0.24 & 0.09 & 0.14 & 0.26 & 0.12 & 0.14\\\\\n",
       "\t7 & Democrat   & 0.4816 & Colorado   &  34065 & 1701 & 299.0 &  2043 &  35.9 &  598.1 &  350717 & ⋯ &  9.6 & 31.3 &  38526 & 0.006764212 & 0.24 & 0.09 & 0.14 & 0.26 & 0.13 & 0.14\\\\\n",
       "\\end{tabular}\n"
      ],
      "text/markdown": [
       "\n",
       "A data.frame: 6 × 39\n",
       "\n",
       "| <!--/--> | party2016 &lt;fct&gt; | party2016_votepercent &lt;dbl&gt; | State &lt;fct&gt; | Total.Cases &lt;int&gt; | Total.Death &lt;int&gt; | Death_100k &lt;dbl&gt; | CasesInLast7Days &lt;int&gt; | CasesInLast7Days_100k &lt;dbl&gt; | RatePer100000 &lt;dbl&gt; | totalTestResults &lt;int&gt; | ⋯ ⋯ | Percent_under_poverty_line &lt;dbl&gt; | Percent.at.risk.for.serious.illness.due.to.COVID &lt;dbl&gt; | All.cause.deaths.2018 &lt;int&gt; | all_death_rate18 &lt;dbl&gt; | Children.0.18 &lt;dbl&gt; | Adults.19.25 &lt;dbl&gt; | Adults.26.34 &lt;dbl&gt; | Adults.35.54 &lt;dbl&gt; | Adults.55.64 &lt;dbl&gt; | X65. &lt;dbl&gt; |\n",
       "|---|---|---|---|---|---|---|---|---|---|---|---|---|---|---|---|---|---|---|---|---|---|\n",
       "| 1 | Republican | 0.6208 | Alabama    |  44909 | 1009 |  20.6 |  9804 | 200.6 |  918.8 |  449886 | ⋯ | 16.8 | 43.1 |  54352 | 0.011119770 | 0.24 | 0.09 | 0.12 | 0.25 | 0.14 | 0.17 |\n",
       "| 2 | Republican | 0.5128 | Alaska     |   1138 |   16 |   2.2 |   284 |  38.5 |  154.3 |  122732 | ⋯ | 10.9 | 32.8 |   4453 | 0.006038474 | 0.27 | 0.09 | 0.13 | 0.26 | 0.13 | 0.12 |\n",
       "| 3 | Republican | 0.4867 | Arizona    |  98089 | 1809 |  25.2 | 28038 | 391.0 | 1367.7 |  604362 | ⋯ | 14.0 | 39.1 |  59282 | 0.008266164 | 0.24 | 0.09 | 0.12 | 0.24 | 0.12 | 0.18 |\n",
       "| 5 | Republican | 0.6057 | Arkansas   |  23814 |  287 |   9.5 |  4504 | 149.4 |  790.2 |  338893 | ⋯ | 17.2 | 43.5 |  32336 | 0.010729223 | 0.25 | 0.09 | 0.12 | 0.25 | 0.13 | 0.17 |\n",
       "| 6 | Democrat   | 0.6173 | California | 260155 | 6331 |  16.0 | 53722 | 135.8 |  657.7 | 4680138 | ⋯ | 12.8 | 33.3 | 268818 | 0.006795705 | 0.24 | 0.09 | 0.14 | 0.26 | 0.12 | 0.14 |\n",
       "| 7 | Democrat   | 0.4816 | Colorado   |  34065 | 1701 | 299.0 |  2043 |  35.9 |  598.1 |  350717 | ⋯ |  9.6 | 31.3 |  38526 | 0.006764212 | 0.24 | 0.09 | 0.14 | 0.26 | 0.13 | 0.14 |\n",
       "\n"
      ],
      "text/plain": [
       "  party2016  party2016_votepercent State      Total.Cases Total.Death\n",
       "1 Republican 0.6208                Alabama     44909      1009       \n",
       "2 Republican 0.5128                Alaska       1138        16       \n",
       "3 Republican 0.4867                Arizona     98089      1809       \n",
       "5 Republican 0.6057                Arkansas    23814       287       \n",
       "6 Democrat   0.6173                California 260155      6331       \n",
       "7 Democrat   0.4816                Colorado    34065      1701       \n",
       "  Death_100k CasesInLast7Days CasesInLast7Days_100k RatePer100000\n",
       "1  20.6       9804            200.6                  918.8       \n",
       "2   2.2        284             38.5                  154.3       \n",
       "3  25.2      28038            391.0                 1367.7       \n",
       "5   9.5       4504            149.4                  790.2       \n",
       "6  16.0      53722            135.8                  657.7       \n",
       "7 299.0       2043             35.9                  598.1       \n",
       "  totalTestResults ⋯ Percent_under_poverty_line\n",
       "1  449886          ⋯ 16.8                      \n",
       "2  122732          ⋯ 10.9                      \n",
       "3  604362          ⋯ 14.0                      \n",
       "5  338893          ⋯ 17.2                      \n",
       "6 4680138          ⋯ 12.8                      \n",
       "7  350717          ⋯  9.6                      \n",
       "  Percent.at.risk.for.serious.illness.due.to.COVID All.cause.deaths.2018\n",
       "1 43.1                                              54352               \n",
       "2 32.8                                               4453               \n",
       "3 39.1                                              59282               \n",
       "5 43.5                                              32336               \n",
       "6 33.3                                             268818               \n",
       "7 31.3                                              38526               \n",
       "  all_death_rate18 Children.0.18 Adults.19.25 Adults.26.34 Adults.35.54\n",
       "1 0.011119770      0.24          0.09         0.12         0.25        \n",
       "2 0.006038474      0.27          0.09         0.13         0.26        \n",
       "3 0.008266164      0.24          0.09         0.12         0.24        \n",
       "5 0.010729223      0.25          0.09         0.12         0.25        \n",
       "6 0.006795705      0.24          0.09         0.14         0.26        \n",
       "7 0.006764212      0.24          0.09         0.14         0.26        \n",
       "  Adults.55.64 X65.\n",
       "1 0.14         0.17\n",
       "2 0.13         0.12\n",
       "3 0.12         0.18\n",
       "5 0.13         0.17\n",
       "6 0.12         0.14\n",
       "7 0.13         0.14"
      ]
     },
     "metadata": {},
     "output_type": "display_data"
    },
    {
     "data": {
      "text/plain": [
       "      party2016  party2016_votepercent        State     Total.Cases    \n",
       " Democrat  :21   Min.   :0.4554        Alabama   : 1   Min.   :   939  \n",
       " Republican:30   1st Qu.:0.4979        Alaska    : 1   1st Qu.: 11415  \n",
       "                 Median :0.5545        Arizona   : 1   Median : 31353  \n",
       "                 Mean   :0.5560        Arkansas  : 1   Mean   : 56416  \n",
       "                 3rd Qu.:0.5979        California: 1   3rd Qu.: 68003  \n",
       "                 Max.   :0.9048        Colorado  : 1   Max.   :398828  \n",
       "                                       (Other)   :45                   \n",
       "  Total.Death        Death_100k     CasesInLast7Days CasesInLast7Days_100k\n",
       " Min.   :   16.0   Min.   :  1.30   Min.   :   51    Min.   :  8.10       \n",
       " 1st Qu.:  280.5   1st Qu.:  9.50   1st Qu.:  824    1st Qu.: 36.65       \n",
       " Median :  820.0   Median : 18.00   Median : 3175    Median : 51.80       \n",
       " Mean   : 2542.0   Mean   : 42.32   Mean   : 7463    Mean   : 91.56       \n",
       " 3rd Qu.: 2776.5   3rd Qu.: 46.45   3rd Qu.: 5718    3rd Qu.:136.70       \n",
       " Max.   :31906.0   Max.   :354.30   Max.   :66984    Max.   :391.00       \n",
       "                                                                          \n",
       " RatePer100000    totalTestResults  totalTestResults_100k infection_rate   \n",
       " Min.   :  66.1   Min.   :  35327   Min.   : 5936         Min.   :0.01000  \n",
       " 1st Qu.: 458.6   1st Qu.: 187374   1st Qu.: 8196         1st Qu.:0.05500  \n",
       " Median : 717.4   Median : 395647   Median : 9985         Median :0.07000  \n",
       " Mean   : 826.9   Mean   : 695646   Mean   :10803         Mean   :0.07196  \n",
       " 3rd Qu.:1013.2   3rd Qu.: 813577   3rd Qu.:12413         3rd Qu.:0.09500  \n",
       " Max.   :4220.4   Max.   :4680138   Max.   :23735         Max.   :0.16000  \n",
       "                                                                           \n",
       " State.of.emergency   soe_to_sip    Stay.at.home..shelter.in.place\n",
       " 3/13/2020:13       Min.   : 0.00   0        : 5                  \n",
       " 3/11/2020: 7       1st Qu.:12.00   3/24/2020: 5                  \n",
       " 3/12/2020: 6       Median :16.00   3/25/2020: 5                  \n",
       " 3/9/2020 : 6       Mean   :15.27   3/28/2020: 5                  \n",
       " 3/10/2020: 4       3rd Qu.:20.00   3/23/2020: 4                  \n",
       " 3/6/2020 : 4       Max.   :26.00   3/30/2020: 4                  \n",
       " (Other)  :11                       (Other)  :23                  \n",
       "   sip_binary    sip_start_end    End.relax.stay.at.home.shelter.in.place\n",
       " Min.   :0.000   Min.   :  0.00   0        :10                           \n",
       " 1st Qu.:1.000   1st Qu.: 29.00   5/1/2020 : 4                           \n",
       " Median :1.000   Median : 46.00   5/18/2020: 4                           \n",
       " Mean   :0.902   Mean   : 48.69   5/4/2020 : 4                           \n",
       " 3rd Qu.:1.000   3rd Qu.: 63.00   5/15/2020: 3                           \n",
       " Max.   :1.000   Max.   :128.00   5/29/2020: 3                           \n",
       "                                  (Other)  :23                           \n",
       " Closed.non.essential.businesses soe_biz_close   biz_close_binary\n",
       " 3/25/2020: 9                    Min.   : 0.00   Min.   :0.0000  \n",
       " 3/24/2020: 6                    1st Qu.:12.00   1st Qu.:1.0000  \n",
       " 3/19/2020: 5                    Median :15.00   Median :1.0000  \n",
       " 3/28/2020: 5                    Mean   :14.51   Mean   :0.7843  \n",
       " 3/23/2020: 4                    3rd Qu.:18.00   3rd Qu.:1.0000  \n",
       " 3/30/2020: 4                    Max.   :25.00   Max.   :1.0000  \n",
       " (Other)  :18                                                    \n",
       " biz_close_open  Began.to.reopen.businesses.statewide\n",
       " Min.   : 0.00   5/1/2020 :10                        \n",
       " 1st Qu.:35.50   5/15/2020: 5                        \n",
       " Median :43.00   5/18/2020: 5                        \n",
       " Mean   :43.33   5/4/2020 : 5                        \n",
       " 3rd Qu.:52.50   4/27/2020: 4                        \n",
       " Max.   :78.00   5/8/2020 : 4                        \n",
       "                 (Other)  :18                        \n",
       " Mandate.face.mask.use.by.employees.in.public.facing.businesses\n",
       " 0        :10                                                  \n",
       " 5/1/2020 : 7                                                  \n",
       " 5/11/2020: 4                                                  \n",
       " 5/4/2020 : 3                                                  \n",
       " 4/17/2020: 2                                                  \n",
       " 4/18/2020: 2                                                  \n",
       " (Other)  :23                                                  \n",
       " soe_face_mask    face_mask_binary unemployment_insurance\n",
       " Min.   :  0.00   Min.   :0.0000   Min.   :190.0         \n",
       " 1st Qu.: 35.00   1st Qu.:1.0000   1st Qu.:370.0         \n",
       " Median : 47.00   Median :1.0000   Median :450.0         \n",
       " Mean   : 42.04   Mean   :0.8039   Mean   :460.1         \n",
       " 3rd Qu.: 56.50   3rd Qu.:1.0000   3rd Qu.:530.0         \n",
       " Max.   :108.00   Max.   :1.0000   Max.   :823.0         \n",
       "                                                         \n",
       " Population.density.per.square.miles Population.2018   \n",
       " Min.   :    1.11                    Min.   :  577737  \n",
       " 1st Qu.:   48.66                    1st Qu.: 1780020  \n",
       " Median :   93.24                    Median : 4468402  \n",
       " Mean   :  392.64                    Mean   : 6415048  \n",
       " 3rd Qu.:  209.56                    3rd Qu.: 7353618  \n",
       " Max.   :11496.81                    Max.   :39557045  \n",
       "                                                       \n",
       " Percent_under_poverty_line Percent.at.risk.for.serious.illness.due.to.COVID\n",
       " Min.   : 7.60              Min.   :30.00                                   \n",
       " 1st Qu.:10.95              1st Qu.:35.95                                   \n",
       " Median :12.80              Median :38.30                                   \n",
       " Mean   :12.91              Mean   :38.15                                   \n",
       " 3rd Qu.:14.20              3rd Qu.:40.65                                   \n",
       " Max.   :19.70              Max.   :49.30                                   \n",
       "                                                                            \n",
       " All.cause.deaths.2018 all_death_rate18   Children.0.18     Adults.19.25    \n",
       " Min.   :  4453        Min.   :0.005806   Min.   :0.1900   Min.   :0.07000  \n",
       " 1st Qu.: 15810        1st Qu.:0.008144   1st Qu.:0.2200   1st Qu.:0.08000  \n",
       " Median : 40933        Median :0.009042   Median :0.2400   Median :0.09000  \n",
       " Mean   : 55671        Mean   :0.009053   Mean   :0.2363   Mean   :0.08706  \n",
       " 3rd Qu.: 67526        3rd Qu.:0.009888   3rd Qu.:0.2500   3rd Qu.:0.09000  \n",
       " Max.   :268818        Max.   :0.013001   Max.   :0.3100   Max.   :0.11000  \n",
       "                                                                            \n",
       "  Adults.26.34     Adults.35.54     Adults.55.64         X65.       \n",
       " Min.   :0.1100   Min.   :0.2300   Min.   :0.1000   Min.   :0.1100  \n",
       " 1st Qu.:0.1200   1st Qu.:0.2500   1st Qu.:0.1300   1st Qu.:0.1600  \n",
       " Median :0.1200   Median :0.2500   Median :0.1300   Median :0.1600  \n",
       " Mean   :0.1233   Mean   :0.2533   Mean   :0.1343   Mean   :0.1647  \n",
       " 3rd Qu.:0.1300   3rd Qu.:0.2600   3rd Qu.:0.1400   3rd Qu.:0.1750  \n",
       " Max.   :0.2100   Max.   :0.2700   Max.   :0.1600   Max.   :0.2100  \n",
       "                                                                    "
      ]
     },
     "metadata": {},
     "output_type": "display_data"
    },
    {
     "name": "stdout",
     "output_type": "stream",
     "text": [
      "'data.frame':\t51 obs. of  39 variables:\n",
      " $ party2016                                                     : Factor w/ 2 levels \"Democrat\",\"Republican\": 2 2 2 2 1 1 1 1 1 2 ...\n",
      " $ party2016_votepercent                                         : num  0.621 0.513 0.487 0.606 0.617 ...\n",
      " $ State                                                         : Factor w/ 52 levels \"Alabama\",\"Alaska\",..: 1 2 4 5 6 7 8 9 10 11 ...\n",
      " $ Total.Cases                                                   : int  44909 1138 98089 23814 260155 34065 46717 12348 10482 197076 ...\n",
      " $ Total.Death                                                   : int  1009 16 1809 287 6331 1701 4335 512 559 3731 ...\n",
      " $ Death_100k                                                    : num  20.6 2.2 25.2 9.5 16 ...\n",
      " $ CasesInLast7Days                                              : int  9804 284 28038 4504 53722 2043 511 1095 266 66984 ...\n",
      " $ CasesInLast7Days_100k                                         : num  200.6 38.5 391 149.4 135.8 ...\n",
      " $ RatePer100000                                                 : num  919 154 1368 790 658 ...\n",
      " $ totalTestResults                                              : int  449886 122732 604362 338893 4680138 350717 499669 123941 105993 2200199 ...\n",
      " $ totalTestResults_100k                                         : num  9204 16643 8427 11245 11831 ...\n",
      " $ infection_rate                                                : num  0.1 0.01 0.16 0.07 0.06 0.1 0.09 0.1 0.1 0.09 ...\n",
      " $ State.of.emergency                                            : Factor w/ 14 levels \"2/29/2020\",\"3/10/2020\",..: 5 3 3 3 9 3 2 5 3 14 ...\n",
      " $ soe_to_sip                                                    : int  22 17 20 0 15 15 10 11 21 25 ...\n",
      " $ Stay.at.home..shelter.in.place                                : Factor w/ 20 levels \"0\",\"3/19/2020\",..: 17 11 13 1 2 9 3 7 14 16 ...\n",
      " $ sip_binary                                                    : int  1 1 1 0 1 1 1 1 1 1 ...\n",
      " $ sip_start_end                                                 : int  26 27 46 0 110 32 61 69 58 45 ...\n",
      " $ End.relax.stay.at.home.shelter.in.place                       : Factor w/ 23 levels \"0\",\"4/24/2020\",..: 6 2 10 1 1 4 12 18 14 11 ...\n",
      " $ Closed.non.essential.businesses                               : Factor w/ 15 levels \"0\",\"3/17/2020\",..: 11 11 12 3 3 10 7 8 9 4 ...\n",
      " $ soe_biz_close                                                 : int  15 17 19 8 15 15 13 11 14 11 ...\n",
      " $ biz_close_binary                                              : int  1 1 1 0 1 1 1 1 1 0 ...\n",
      " $ biz_close_open                                                : int  33 27 39 46 50 36 58 45 65 59 ...\n",
      " $ Began.to.reopen.businesses.statewide                          : Factor w/ 18 levels \"0\",\"4/20/2020\",..: 5 3 16 13 16 6 10 16 12 9 ...\n",
      " $ Mandate.face.mask.use.by.employees.in.public.facing.businesses: Factor w/ 26 levels \"0\",\"4/10/2020\",..: 17 9 23 17 20 8 14 16 3 17 ...\n",
      " $ soe_face_mask                                                 : int  59 44 58 61 62 43 24 49 35 63 ...\n",
      " $ face_mask_binary                                              : int  1 1 1 1 1 1 1 1 1 1 ...\n",
      " $ unemployment_insurance                                        : int  275 370 240 451 450 618 649 400 444 275 ...\n",
      " $ Population.density.per.square.miles                           : num  93.24 1.11 62.91 56.67 241.65 ...\n",
      " $ Population.2018                                               : int  4887871 737438 7171646 3013825 39557045 5695564 3572665 967171 702455 21299325 ...\n",
      " $ Percent_under_poverty_line                                    : num  16.8 10.9 14 17.2 12.8 9.6 10.4 12.5 16.2 13.6 ...\n",
      " $ Percent.at.risk.for.serious.illness.due.to.COVID              : num  43.1 32.8 39.1 43.5 33.3 31.3 36 41.3 31.8 42.1 ...\n",
      " $ All.cause.deaths.2018                                         : int  54352 4453 59282 32336 268818 38526 31230 9433 5008 205426 ...\n",
      " $ all_death_rate18                                              : num  0.01112 0.00604 0.00827 0.01073 0.0068 ...\n",
      " $ Children.0.18                                                 : num  0.24 0.27 0.24 0.25 0.24 0.24 0.22 0.22 0.2 0.21 ...\n",
      " $ Adults.19.25                                                  : num  0.09 0.09 0.09 0.09 0.09 0.09 0.08 0.08 0.1 0.08 ...\n",
      " $ Adults.26.34                                                  : num  0.12 0.13 0.12 0.12 0.14 0.14 0.11 0.12 0.21 0.12 ...\n",
      " $ Adults.35.54                                                  : num  0.25 0.26 0.24 0.25 0.26 0.26 0.27 0.25 0.27 0.25 ...\n",
      " $ Adults.55.64                                                  : num  0.14 0.13 0.12 0.13 0.12 0.13 0.15 0.14 0.1 0.14 ...\n",
      " $ X65.                                                          : num  0.17 0.12 0.18 0.17 0.14 0.14 0.17 0.19 0.12 0.21 ...\n"
     ]
    }
   ],
   "source": [
    "df_covid = read.csv(\"covid-19_dist0720_enriched.csv\")\n",
    "\n",
    "#head(df_covid)\n",
    "\n",
    "#combine Arizona & arizona data\n",
    "for (i in 4:ncol(df_covid)){\n",
    "    a_val = df_covid[c(3), i]\n",
    "    b_val = df_covid[c(4), i]\n",
    "    if (a_val != b_val){\n",
    "        #print(i)\n",
    "        #combine when values differ such as Total cases, death, etc. \n",
    "         df_covid[c(3), i] = df_covid[c(3), i] + df_covid[c(4), i]\n",
    "    }\n",
    "}\n",
    "\n",
    "#remove extra arizona row\n",
    "df_covid <- df_covid[-c(4), ]\n",
    "\n",
    "head(df_covid)\n",
    "summary(df_covid)\n",
    "str(df_covid)"
   ]
  },
  {
   "cell_type": "markdown",
   "metadata": {},
   "source": [
    "## Introduction"
   ]
  },
  {
   "cell_type": "code",
   "execution_count": 49,
   "metadata": {},
   "outputs": [
    {
     "data": {
      "image/png": "[encoded data removed]",
      "text/plain": [
       "Plot with title “A ~ B”"
      ]
     },
     "metadata": {
      "image/png": {
       "height": 420,
       "width": 420
      },
      "text/plain": {
       "height": 420,
       "width": 420
      }
     },
     "output_type": "display_data"
    }
   ],
   "source": [
    "scatter.smooth(x=df_covid$soe_to_sip, y=df_covid$Total.Cases, main=\"A ~ B\")  # scatterplot\n"
   ]
  },
  {
   "cell_type": "code",
   "execution_count": 50,
   "metadata": {},
   "outputs": [
    {
     "name": "stdout",
     "output_type": "stream",
     "text": [
      "\n",
      "Call:\n",
      "lm(formula = Total.Cases ~ soe_face_mask + soe_to_sip, data = df_covid)\n",
      "\n",
      "Coefficients:\n",
      "  (Intercept)  soe_face_mask     soe_to_sip  \n",
      "       6734.7          563.5         1682.9  \n",
      "\n"
     ]
    },
    {
     "data": {
      "text/plain": [
       "\n",
       "Call:\n",
       "lm(formula = Total.Cases ~ soe_face_mask + soe_to_sip, data = df_covid)\n",
       "\n",
       "Residuals:\n",
       "   Min     1Q Median     3Q    Max \n",
       "-65366 -42383 -21108   9595 343748 \n",
       "\n",
       "Coefficients:\n",
       "              Estimate Std. Error t value Pr(>|t|)\n",
       "(Intercept)     6734.7    30282.2   0.222    0.825\n",
       "soe_face_mask    563.5      426.5   1.321    0.193\n",
       "soe_to_sip      1682.9     1556.9   1.081    0.285\n",
       "\n",
       "Residual standard error: 74160 on 48 degrees of freedom\n",
       "Multiple R-squared:  0.06252,\tAdjusted R-squared:  0.02346 \n",
       "F-statistic:   1.6 on 2 and 48 DF,  p-value: 0.2124\n"
      ]
     },
     "metadata": {},
     "output_type": "display_data"
    }
   ],
   "source": [
    "linearMod <- lm(Total.Cases ~ soe_face_mask + soe_to_sip, data=df_covid)  # build linear regression model on full data\n",
    "print(linearMod)\n",
    "summary(linearMod)  # model summary\n"
   ]
  },
  {
   "cell_type": "code",
   "execution_count": 51,
   "metadata": {},
   "outputs": [
    {
     "ename": "ERROR",
     "evalue": "Error in modelCoeffs[\"Total.Cases\", \"Estimate\"]: subscript out of bounds\n",
     "output_type": "error",
     "traceback": [
      "Error in modelCoeffs[\"Total.Cases\", \"Estimate\"]: subscript out of bounds\nTraceback:\n"
     ]
    }
   ],
   "source": [
    "modelSummary <- summary(linearMod)  # capture model summary as an object\n",
    "modelCoeffs <- modelSummary$coefficients  # model coefficients\n",
    "beta.estimate <- modelCoeffs[\"Total.Cases\", \"Estimate\"]  # get beta estimate for speed\n",
    "std.error <- modelCoeffs[\"Total.Cases\", \"Std. Error\"]  # get std.error for speed\n",
    "t_value <- beta.estimate/std.error  # calc t statistic\n",
    "p_value <- 2*pt(-abs(t_value), df=nrow(cars)-ncol(df_covid))  # calc p Value\n",
    "f_statistic <- linearMod$fstatistic[1]  # fstatistic\n",
    "f <- summary(linearMod)$fstatistic  # parameters for model p-value calc\n",
    "model_p <- pf(f[1], f[2], f[3], lower=FALSE)\n",
    "t_value\n",
    "p_value\n",
    "f_statistic\n",
    "model_p"
   ]
  },
  {
   "cell_type": "markdown",
   "metadata": {},
   "source": [
    "# 3. Modeling Process"
   ]
  },
  {
   "cell_type": "markdown",
   "metadata": {},
   "source": [
    "## Overview"
   ]
  },
  {
   "cell_type": "markdown",
   "metadata": {},
   "source": [
    "## Dependent Variable"
   ]
  },
  {
   "cell_type": "markdown",
   "metadata": {},
   "source": [
    "## Model 1"
   ]
  },
  {
   "cell_type": "markdown",
   "metadata": {},
   "source": [
    "### Independent Variable Selection"
   ]
  },
  {
   "cell_type": "markdown",
   "metadata": {},
   "source": [
    "### Model Execution and Interpretation"
   ]
  },
  {
   "cell_type": "markdown",
   "metadata": {},
   "source": [
    "### Model Diagnostics"
   ]
  },
  {
   "cell_type": "markdown",
   "metadata": {},
   "source": [
    "## Model 2"
   ]
  },
  {
   "cell_type": "markdown",
   "metadata": {},
   "source": [
    "### Independent Variable Selection"
   ]
  },
  {
   "cell_type": "markdown",
   "metadata": {},
   "source": [
    "### Model Execution and Interpretation"
   ]
  },
  {
   "cell_type": "markdown",
   "metadata": {},
   "source": [
    "### Model Diagnostics"
   ]
  },
  {
   "cell_type": "markdown",
   "metadata": {},
   "source": [
    "## Model 3"
   ]
  },
  {
   "cell_type": "markdown",
   "metadata": {},
   "source": [
    "### Independent Variable Selection"
   ]
  },
  {
   "cell_type": "markdown",
   "metadata": {},
   "source": [
    "### Model Execution and Interpretation"
   ]
  },
  {
   "cell_type": "markdown",
   "metadata": {},
   "source": [
    "### Model Diagnostics"
   ]
  },
  {
   "cell_type": "markdown",
   "metadata": {},
   "source": [
    "# 4. Assessment of the CLM Assumptions"
   ]
  },
  {
   "cell_type": "markdown",
   "metadata": {},
   "source": [
    "## MLR.1: Linearity in Parameters"
   ]
  },
  {
   "cell_type": "markdown",
   "metadata": {},
   "source": [
    "## MLR.2: Random Sampling"
   ]
  },
  {
   "cell_type": "markdown",
   "metadata": {},
   "source": [
    "## MLR.3: No Perfect Collinearity"
   ]
  },
  {
   "cell_type": "markdown",
   "metadata": {},
   "source": [
    "## MLR.4: Zero Conditional Mean"
   ]
  },
  {
   "cell_type": "markdown",
   "metadata": {},
   "source": [
    "## MLR.5: Homoskedasticity"
   ]
  },
  {
   "cell_type": "markdown",
   "metadata": {},
   "source": [
    "## MLR.6: Normality of Errors"
   ]
  },
  {
   "cell_type": "markdown",
   "metadata": {},
   "source": [
    "# 5. Regression Table"
   ]
  },
  {
   "cell_type": "markdown",
   "metadata": {},
   "source": [
    "## Model Comparison Summary"
   ]
  },
  {
   "cell_type": "markdown",
   "metadata": {},
   "source": [
    "# 6. Omitted Variables Discussion"
   ]
  },
  {
   "cell_type": "markdown",
   "metadata": {},
   "source": [
    "# 7. Conclusion"
   ]
  }
 ],
 "metadata": {
  "kernelspec": {
   "display_name": "R",
   "language": "R",
   "name": "ir"
  },
  "language_info": {
   "codemirror_mode": "r",
   "file_extension": ".r",
   "mimetype": "text/x-r-source",
   "name": "R",
   "pygments_lexer": "r",
   "version": "3.5.2"
  }
 },
 "nbformat": 4,
 "nbformat_minor": 4
}
