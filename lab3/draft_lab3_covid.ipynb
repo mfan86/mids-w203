{
 "cells": [
  {
   "cell_type": "markdown",
   "metadata": {},
   "source": [
    "<h1 align=\"center\">W203 Lab 3: Covid 19</h1>\n",
    "<h4 align=\"center\">Blake Allen, Sam Shih, Mike Fan</h4>\n",
    "<h4 align=\"center\">Summer 2020 Section 1 </h4>"
   ]
  },
  {
   "cell_type": "markdown",
   "metadata": {},
   "source": [
    "# 1. Introduction"
   ]
  },
  {
   "cell_type": "markdown",
   "metadata": {},
   "source": [
    "The dataset includes (1) variables representing the spread of the disease, (2) variables representing state-level policy responses, and (3) general state-level characteristics."
   ]
  },
  {
   "cell_type": "markdown",
   "metadata": {},
   "source": [
    "## Research Question of Interest"
   ]
  },
  {
   "cell_type": "markdown",
   "metadata": {},
   "source": [
    "1. Which response policy has been the most effective in reducing COVID case count (or death count)?\n",
    "    - **Dependent variable:** Case count (or death count)\n",
    "    - **Potential predictors:** # of days between state of emergency and shelter in place (SIP); # of days between SIP and end of SIP; # of days between state of emergency and non-essential business closure; # of days between non-essential business closure and business re-opening; # of days between face mask mandate by employees of public-facing employees and business re-opening. Other contributing predicators could be population density per square mile, total_test, % living under the federal poverty line, % at risk of serious illness due to COVID, % of state population between age 19 - 54 . If we want to examine death, then we can look at fatality specific metrics, which some we need to derive ourselves: death_100k (death / 100k), fatality rate (total death / total cases), All cause deaths 2018, and % of state population between age 55+\n",
    "2. What are the key factors that contribute to increases in COVID case count?\n",
    "    - **Dependent variable:** Case count\n",
    "    - **Potential predictors:** Identical to those in question 1 except fatality specific variables\n",
    "3. What are the key factors that contribute to higher fatality rate of COVID 19?\n",
    "    - **Dependent variable:** Fatality rate\n",
    "    - **Potential predictors:** Identical to those in question 1 minus the case count specific ones"
   ]
  },
  {
   "cell_type": "markdown",
   "metadata": {},
   "source": [
    "#### Notes\n",
    "- Data was pulled on July 5, 2020 (corroborated totalTestResults with Alabama's [historical data](https://covidtracking.com/data/state/alabama#historical) that's tracked and made available by [The COVID Tracking Project](https://covidtracking.com/)\n",
    "- 2 records of Arizona (one with a capital A and the other with lower case a) appears in the dataset. All variable values are the same except for total cases and total death. Checking the data against CDC, it seems like we should combine the total cases and total death value to form a single record for the state of Arizona\n",
    "- Kentucky's totalTestResults is missing, but it's available [covidtracking.com](https://covidtracking.com/data/state/kentucky#historical), which is 395,647 cumulative at the end of July 5th, 2020"
   ]
  },
  {
   "cell_type": "markdown",
   "metadata": {},
   "source": [
    "# 2. Exploratory Data Analysis (EDA)"
   ]
  },
  {
   "cell_type": "markdown",
   "metadata": {},
   "source": [
    "## Data Review"
   ]
  },
  {
   "cell_type": "code",
   "execution_count": 12,
   "metadata": {},
   "outputs": [],
   "source": [
    "library(plyr)\n",
    "library(dplyr)\n",
    "library(ggplot2)\n",
    "library(summarytools)\n",
    "library(coin)\n",
    "library(effsize)\n",
    "library(tidyverse)\n",
    "library(lsr)\n",
    "library(corrplot)\n",
    "library(rstatix)\n",
    "library(BSDA)\n",
    "library(cowplot)\n",
    "library(ggrepel)\n",
    "library(stargazer)\n",
    "library(knitr)\n",
    "library(kableExtra)\n",
    "library(corrr)\n",
    "library(ggcorrplot)\n",
    "library(ggfortify)\n",
    "library(lmtest)"
   ]
  },
  {
   "cell_type": "code",
   "execution_count": 11,
   "metadata": {},
   "outputs": [
    {
     "data": {
      "text/html": [
       "<table>\n",
       "<caption>A data.frame: 6 × 25</caption>\n",
       "<thead>\n",
       "\t<tr><th></th><th scope=col>State</th><th scope=col>Total.Cases</th><th scope=col>Total.Death</th><th scope=col>Death_100k</th><th scope=col>CasesInLast7Days</th><th scope=col>RatePer100000</th><th scope=col>totalTestResults</th><th scope=col>State.of.emergency</th><th scope=col>Stay.at.home..shelter.in.place</th><th scope=col>End.relax.stay.at.home.shelter.in.place</th><th scope=col>...</th><th scope=col>Population.2018</th><th scope=col>Percent.living.under.the.federal.poverty.line..2018.</th><th scope=col>Percent.at.risk.for.serious.illness.due.to.COVID</th><th scope=col>All.cause.deaths.2018</th><th scope=col>Children.0.18</th><th scope=col>Adults.19.25</th><th scope=col>Adults.26.34</th><th scope=col>Adults.35.54</th><th scope=col>Adults.55.64</th><th scope=col>X65.</th></tr>\n",
       "\t<tr><th></th><th scope=col>&lt;chr&gt;</th><th scope=col>&lt;int&gt;</th><th scope=col>&lt;int&gt;</th><th scope=col>&lt;dbl&gt;</th><th scope=col>&lt;int&gt;</th><th scope=col>&lt;dbl&gt;</th><th scope=col>&lt;int&gt;</th><th scope=col>&lt;chr&gt;</th><th scope=col>&lt;chr&gt;</th><th scope=col>&lt;chr&gt;</th><th scope=col>...</th><th scope=col>&lt;int&gt;</th><th scope=col>&lt;dbl&gt;</th><th scope=col>&lt;dbl&gt;</th><th scope=col>&lt;int&gt;</th><th scope=col>&lt;dbl&gt;</th><th scope=col>&lt;dbl&gt;</th><th scope=col>&lt;dbl&gt;</th><th scope=col>&lt;dbl&gt;</th><th scope=col>&lt;dbl&gt;</th><th scope=col>&lt;dbl&gt;</th></tr>\n",
       "</thead>\n",
       "<tbody>\n",
       "\t<tr><th scope=row>1</th><td>Alabama   </td><td> 44909</td><td>1009</td><td>20.6</td><td> 9804</td><td> 918.8</td><td> 449886</td><td>3/13/2020</td><td>4/4/2020 </td><td>4/30/2020</td><td>...</td><td> 4887871</td><td>16.8</td><td>43.1</td><td> 54352</td><td>0.24</td><td>0.09</td><td>0.12</td><td>0.25</td><td>0.14</td><td>0.17</td></tr>\n",
       "\t<tr><th scope=row>2</th><td>Alaska    </td><td>  1138</td><td>  16</td><td> 2.2</td><td>  284</td><td> 154.3</td><td> 122732</td><td>3/11/2020</td><td>3/28/2020</td><td>4/24/2020</td><td>...</td><td>  737438</td><td>10.9</td><td>32.8</td><td>  4453</td><td>0.27</td><td>0.09</td><td>0.13</td><td>0.26</td><td>0.13</td><td>0.12</td></tr>\n",
       "\t<tr><th scope=row>3</th><td>Arizona   </td><td> 83376</td><td>1538</td><td>25.2</td><td>28038</td><td>1367.7</td><td> 604362</td><td>3/11/2020</td><td>3/31/2020</td><td>5/16/2020</td><td>...</td><td> 7171646</td><td>14.0</td><td>39.1</td><td> 59282</td><td>0.24</td><td>0.09</td><td>0.12</td><td>0.24</td><td>0.12</td><td>0.18</td></tr>\n",
       "\t<tr><th scope=row>4</th><td>arizona   </td><td> 14713</td><td> 271</td><td>25.2</td><td>28038</td><td>1367.7</td><td> 604362</td><td>3/11/2020</td><td>3/31/2020</td><td>5/16/2020</td><td>...</td><td> 7171646</td><td>14.0</td><td>39.1</td><td> 59282</td><td>0.24</td><td>0.09</td><td>0.12</td><td>0.24</td><td>0.12</td><td>0.18</td></tr>\n",
       "\t<tr><th scope=row>5</th><td>Arkansas  </td><td> 23814</td><td> 287</td><td> 9.5</td><td> 4504</td><td> 790.2</td><td> 338893</td><td>3/11/2020</td><td>0        </td><td>0        </td><td>...</td><td> 3013825</td><td>17.2</td><td>43.5</td><td> 32336</td><td>0.25</td><td>0.09</td><td>0.12</td><td>0.25</td><td>0.13</td><td>0.17</td></tr>\n",
       "\t<tr><th scope=row>6</th><td>California</td><td>260155</td><td>6331</td><td>16.0</td><td>53722</td><td> 657.7</td><td>4680138</td><td>3/4/2020 </td><td>3/19/2020</td><td>0        </td><td>...</td><td>39557045</td><td>12.8</td><td>33.3</td><td>268818</td><td>0.24</td><td>0.09</td><td>0.14</td><td>0.26</td><td>0.12</td><td>0.14</td></tr>\n",
       "</tbody>\n",
       "</table>\n"
      ],
      "text/latex": [
       "A data.frame: 6 × 25\n",
       "\\begin{tabular}{r|lllllllllllllllllllll}\n",
       "  & State & Total.Cases & Total.Death & Death\\_100k & CasesInLast7Days & RatePer100000 & totalTestResults & State.of.emergency & Stay.at.home..shelter.in.place & End.relax.stay.at.home.shelter.in.place & ... & Population.2018 & Percent.living.under.the.federal.poverty.line..2018. & Percent.at.risk.for.serious.illness.due.to.COVID & All.cause.deaths.2018 & Children.0.18 & Adults.19.25 & Adults.26.34 & Adults.35.54 & Adults.55.64 & X65.\\\\\n",
       "  & <chr> & <int> & <int> & <dbl> & <int> & <dbl> & <int> & <chr> & <chr> & <chr> & ... & <int> & <dbl> & <dbl> & <int> & <dbl> & <dbl> & <dbl> & <dbl> & <dbl> & <dbl>\\\\\n",
       "\\hline\n",
       "\t1 & Alabama    &  44909 & 1009 & 20.6 &  9804 &  918.8 &  449886 & 3/13/2020 & 4/4/2020  & 4/30/2020 & ... &  4887871 & 16.8 & 43.1 &  54352 & 0.24 & 0.09 & 0.12 & 0.25 & 0.14 & 0.17\\\\\n",
       "\t2 & Alaska     &   1138 &   16 &  2.2 &   284 &  154.3 &  122732 & 3/11/2020 & 3/28/2020 & 4/24/2020 & ... &   737438 & 10.9 & 32.8 &   4453 & 0.27 & 0.09 & 0.13 & 0.26 & 0.13 & 0.12\\\\\n",
       "\t3 & Arizona    &  83376 & 1538 & 25.2 & 28038 & 1367.7 &  604362 & 3/11/2020 & 3/31/2020 & 5/16/2020 & ... &  7171646 & 14.0 & 39.1 &  59282 & 0.24 & 0.09 & 0.12 & 0.24 & 0.12 & 0.18\\\\\n",
       "\t4 & arizona    &  14713 &  271 & 25.2 & 28038 & 1367.7 &  604362 & 3/11/2020 & 3/31/2020 & 5/16/2020 & ... &  7171646 & 14.0 & 39.1 &  59282 & 0.24 & 0.09 & 0.12 & 0.24 & 0.12 & 0.18\\\\\n",
       "\t5 & Arkansas   &  23814 &  287 &  9.5 &  4504 &  790.2 &  338893 & 3/11/2020 & 0         & 0         & ... &  3013825 & 17.2 & 43.5 &  32336 & 0.25 & 0.09 & 0.12 & 0.25 & 0.13 & 0.17\\\\\n",
       "\t6 & California & 260155 & 6331 & 16.0 & 53722 &  657.7 & 4680138 & 3/4/2020  & 3/19/2020 & 0         & ... & 39557045 & 12.8 & 33.3 & 268818 & 0.24 & 0.09 & 0.14 & 0.26 & 0.12 & 0.14\\\\\n",
       "\\end{tabular}\n"
      ],
      "text/markdown": [
       "\n",
       "A data.frame: 6 × 25\n",
       "\n",
       "| <!--/--> | State &lt;chr&gt; | Total.Cases &lt;int&gt; | Total.Death &lt;int&gt; | Death_100k &lt;dbl&gt; | CasesInLast7Days &lt;int&gt; | RatePer100000 &lt;dbl&gt; | totalTestResults &lt;int&gt; | State.of.emergency &lt;chr&gt; | Stay.at.home..shelter.in.place &lt;chr&gt; | End.relax.stay.at.home.shelter.in.place &lt;chr&gt; | ... ... | Population.2018 &lt;int&gt; | Percent.living.under.the.federal.poverty.line..2018. &lt;dbl&gt; | Percent.at.risk.for.serious.illness.due.to.COVID &lt;dbl&gt; | All.cause.deaths.2018 &lt;int&gt; | Children.0.18 &lt;dbl&gt; | Adults.19.25 &lt;dbl&gt; | Adults.26.34 &lt;dbl&gt; | Adults.35.54 &lt;dbl&gt; | Adults.55.64 &lt;dbl&gt; | X65. &lt;dbl&gt; |\n",
       "|---|---|---|---|---|---|---|---|---|---|---|---|---|---|---|---|---|---|---|---|---|---|\n",
       "| 1 | Alabama    |  44909 | 1009 | 20.6 |  9804 |  918.8 |  449886 | 3/13/2020 | 4/4/2020  | 4/30/2020 | ... |  4887871 | 16.8 | 43.1 |  54352 | 0.24 | 0.09 | 0.12 | 0.25 | 0.14 | 0.17 |\n",
       "| 2 | Alaska     |   1138 |   16 |  2.2 |   284 |  154.3 |  122732 | 3/11/2020 | 3/28/2020 | 4/24/2020 | ... |   737438 | 10.9 | 32.8 |   4453 | 0.27 | 0.09 | 0.13 | 0.26 | 0.13 | 0.12 |\n",
       "| 3 | Arizona    |  83376 | 1538 | 25.2 | 28038 | 1367.7 |  604362 | 3/11/2020 | 3/31/2020 | 5/16/2020 | ... |  7171646 | 14.0 | 39.1 |  59282 | 0.24 | 0.09 | 0.12 | 0.24 | 0.12 | 0.18 |\n",
       "| 4 | arizona    |  14713 |  271 | 25.2 | 28038 | 1367.7 |  604362 | 3/11/2020 | 3/31/2020 | 5/16/2020 | ... |  7171646 | 14.0 | 39.1 |  59282 | 0.24 | 0.09 | 0.12 | 0.24 | 0.12 | 0.18 |\n",
       "| 5 | Arkansas   |  23814 |  287 |  9.5 |  4504 |  790.2 |  338893 | 3/11/2020 | 0         | 0         | ... |  3013825 | 17.2 | 43.5 |  32336 | 0.25 | 0.09 | 0.12 | 0.25 | 0.13 | 0.17 |\n",
       "| 6 | California | 260155 | 6331 | 16.0 | 53722 |  657.7 | 4680138 | 3/4/2020  | 3/19/2020 | 0         | ... | 39557045 | 12.8 | 33.3 | 268818 | 0.24 | 0.09 | 0.14 | 0.26 | 0.12 | 0.14 |\n",
       "\n"
      ],
      "text/plain": [
       "  State      Total.Cases Total.Death Death_100k CasesInLast7Days RatePer100000\n",
       "1 Alabama     44909      1009        20.6        9804             918.8       \n",
       "2 Alaska       1138        16         2.2         284             154.3       \n",
       "3 Arizona     83376      1538        25.2       28038            1367.7       \n",
       "4 arizona     14713       271        25.2       28038            1367.7       \n",
       "5 Arkansas    23814       287         9.5        4504             790.2       \n",
       "6 California 260155      6331        16.0       53722             657.7       \n",
       "  totalTestResults State.of.emergency Stay.at.home..shelter.in.place\n",
       "1  449886          3/13/2020          4/4/2020                      \n",
       "2  122732          3/11/2020          3/28/2020                     \n",
       "3  604362          3/11/2020          3/31/2020                     \n",
       "4  604362          3/11/2020          3/31/2020                     \n",
       "5  338893          3/11/2020          0                             \n",
       "6 4680138          3/4/2020           3/19/2020                     \n",
       "  End.relax.stay.at.home.shelter.in.place ... Population.2018\n",
       "1 4/30/2020                               ...  4887871       \n",
       "2 4/24/2020                               ...   737438       \n",
       "3 5/16/2020                               ...  7171646       \n",
       "4 5/16/2020                               ...  7171646       \n",
       "5 0                                       ...  3013825       \n",
       "6 0                                       ... 39557045       \n",
       "  Percent.living.under.the.federal.poverty.line..2018.\n",
       "1 16.8                                                \n",
       "2 10.9                                                \n",
       "3 14.0                                                \n",
       "4 14.0                                                \n",
       "5 17.2                                                \n",
       "6 12.8                                                \n",
       "  Percent.at.risk.for.serious.illness.due.to.COVID All.cause.deaths.2018\n",
       "1 43.1                                              54352               \n",
       "2 32.8                                               4453               \n",
       "3 39.1                                              59282               \n",
       "4 39.1                                              59282               \n",
       "5 43.5                                              32336               \n",
       "6 33.3                                             268818               \n",
       "  Children.0.18 Adults.19.25 Adults.26.34 Adults.35.54 Adults.55.64 X65.\n",
       "1 0.24          0.09         0.12         0.25         0.14         0.17\n",
       "2 0.27          0.09         0.13         0.26         0.13         0.12\n",
       "3 0.24          0.09         0.12         0.24         0.12         0.18\n",
       "4 0.24          0.09         0.12         0.24         0.12         0.18\n",
       "5 0.25          0.09         0.12         0.25         0.13         0.17\n",
       "6 0.24          0.09         0.14         0.26         0.12         0.14"
      ]
     },
     "metadata": {},
     "output_type": "display_data"
    },
    {
     "data": {
      "text/plain": [
       "    State            Total.Cases      Total.Death        Death_100k    \n",
       " Length:52          Min.   :   939   Min.   :   16.0   Min.   :  1.30  \n",
       " Class :character   1st Qu.: 11882   1st Qu.:  275.5   1st Qu.:  9.50  \n",
       " Mode  :character   Median : 31305   Median :  811.5   Median : 18.20  \n",
       "                    Mean   : 55332   Mean   : 2493.1   Mean   : 41.99  \n",
       "                    3rd Qu.: 67053   3rd Qu.: 2734.8   3rd Qu.: 43.33  \n",
       "                    Max.   :398828   Max.   :31906.0   Max.   :354.30  \n",
       "                                                                       \n",
       " CasesInLast7Days  RatePer100000    totalTestResults  State.of.emergency\n",
       " Min.   :   51.0   Min.   :  66.1   Min.   :  35327   Length:52         \n",
       " 1st Qu.:  959.5   1st Qu.: 467.5   1st Qu.: 187374   Class :character  \n",
       " Median : 3218.5   Median : 723.9   Median : 419509   Mode  :character  \n",
       " Mean   : 7858.6   Mean   : 837.3   Mean   : 699739                     \n",
       " 3rd Qu.: 6113.2   3rd Qu.:1036.4   3rd Qu.: 813577                     \n",
       " Max.   :66984.0   Max.   :4220.4   Max.   :4680138                     \n",
       "                                    NA's   :1                           \n",
       " Stay.at.home..shelter.in.place End.relax.stay.at.home.shelter.in.place\n",
       " Length:52                      Length:52                              \n",
       " Class :character               Class :character                       \n",
       " Mode  :character               Mode  :character                       \n",
       "                                                                       \n",
       "                                                                       \n",
       "                                                                       \n",
       "                                                                       \n",
       " Closed.non.essential.businesses Began.to.reopen.businesses.statewide\n",
       " Length:52                       Length:52                           \n",
       " Class :character                Class :character                    \n",
       " Mode  :character                Mode  :character                    \n",
       "                                                                     \n",
       "                                                                     \n",
       "                                                                     \n",
       "                                                                     \n",
       " Mandate.face.mask.use.by.employees.in.public.facing.businesses\n",
       " Length:52                                                     \n",
       " Class :character                                              \n",
       " Mode  :character                                              \n",
       "                                                               \n",
       "                                                               \n",
       "                                                               \n",
       "                                                               \n",
       " Weekly.unemployment.insurance.maximum.amount..dollars.\n",
       " Min.   :190.0                                         \n",
       " 1st Qu.:368.8                                         \n",
       " Median :449.0                                         \n",
       " Mean   :455.8                                         \n",
       " 3rd Qu.:525.5                                         \n",
       " Max.   :823.0                                         \n",
       "                                                       \n",
       " Population.density.per.square.miles Population.2018   \n",
       " Min.   :    1.11                    Min.   :  577737  \n",
       " 1st Qu.:   51.69                    1st Qu.: 1792926  \n",
       " Median :   91.11                    Median : 4564190  \n",
       " Mean   :  386.30                    Mean   : 6429598  \n",
       " 3rd Qu.:  204.35                    3rd Qu.: 7262632  \n",
       " Max.   :11496.81                    Max.   :39557045  \n",
       "                                                       \n",
       " Percent.living.under.the.federal.poverty.line..2018.\n",
       " Min.   : 7.60                                       \n",
       " 1st Qu.:10.97                                       \n",
       " Median :12.85                                       \n",
       " Mean   :12.93                                       \n",
       " 3rd Qu.:14.15                                       \n",
       " Max.   :19.70                                       \n",
       "                                                     \n",
       " Percent.at.risk.for.serious.illness.due.to.COVID All.cause.deaths.2018\n",
       " Min.   :30.00                                    Min.   :  4453       \n",
       " 1st Qu.:35.98                                    1st Qu.: 16357       \n",
       " Median :38.65                                    Median : 42839       \n",
       " Mean   :38.16                                    Mean   : 55740       \n",
       " 3rd Qu.:40.58                                    3rd Qu.: 66610       \n",
       " Max.   :49.30                                    Max.   :268818       \n",
       "                                                                       \n",
       " Children.0.18     Adults.19.25      Adults.26.34     Adults.35.54   \n",
       " Min.   :0.1900   Min.   :0.07000   Min.   :0.1100   Min.   :0.2300  \n",
       " 1st Qu.:0.2250   1st Qu.:0.08000   1st Qu.:0.1200   1st Qu.:0.2500  \n",
       " Median :0.2400   Median :0.09000   Median :0.1200   Median :0.2500  \n",
       " Mean   :0.2367   Mean   :0.08712   Mean   :0.1231   Mean   :0.2531  \n",
       " 3rd Qu.:0.2500   3rd Qu.:0.09000   3rd Qu.:0.1300   3rd Qu.:0.2600  \n",
       " Max.   :0.3100   Max.   :0.11000   Max.   :0.2100   Max.   :0.2700  \n",
       " NA's   :1                          NA's   :1                        \n",
       "  Adults.55.64         X65.      \n",
       " Min.   :0.1000   Min.   :0.110  \n",
       " 1st Qu.:0.1300   1st Qu.:0.160  \n",
       " Median :0.1300   Median :0.160  \n",
       " Mean   :0.1339   Mean   :0.165  \n",
       " 3rd Qu.:0.1400   3rd Qu.:0.180  \n",
       " Max.   :0.1600   Max.   :0.210  \n",
       " NA's   :1                       "
      ]
     },
     "metadata": {},
     "output_type": "display_data"
    },
    {
     "name": "stdout",
     "output_type": "stream",
     "text": [
      "'data.frame':\t52 obs. of  25 variables:\n",
      " $ State                                                         : chr  \"Alabama\" \"Alaska\" \"Arizona\" \"arizona\" ...\n",
      " $ Total.Cases                                                   : int  44909 1138 83376 14713 23814 260155 34065 46717 12348 10482 ...\n",
      " $ Total.Death                                                   : int  1009 16 1538 271 287 6331 1701 4335 512 559 ...\n",
      " $ Death_100k                                                    : num  20.6 2.2 25.2 25.2 9.5 ...\n",
      " $ CasesInLast7Days                                              : int  9804 284 28038 28038 4504 53722 2043 511 1095 266 ...\n",
      " $ RatePer100000                                                 : num  919 154 1368 1368 790 ...\n",
      " $ totalTestResults                                              : int  449886 122732 604362 604362 338893 4680138 350717 499669 123941 105993 ...\n",
      " $ State.of.emergency                                            : chr  \"3/13/2020\" \"3/11/2020\" \"3/11/2020\" \"3/11/2020\" ...\n",
      " $ Stay.at.home..shelter.in.place                                : chr  \"4/4/2020\" \"3/28/2020\" \"3/31/2020\" \"3/31/2020\" ...\n",
      " $ End.relax.stay.at.home.shelter.in.place                       : chr  \"4/30/2020\" \"4/24/2020\" \"5/16/2020\" \"5/16/2020\" ...\n",
      " $ Closed.non.essential.businesses                               : chr  \"3/28/2020\" \"3/28/2020\" \"3/30/2020\" \"3/30/2020\" ...\n",
      " $ Began.to.reopen.businesses.statewide                          : chr  \"4/30/2020\" \"4/24/2020\" \"5/8/2020\" \"5/8/2020\" ...\n",
      " $ Mandate.face.mask.use.by.employees.in.public.facing.businesses: chr  \"5/11/2020\" \"4/24/2020\" \"5/8/2020\" \"5/8/2020\" ...\n",
      " $ Weekly.unemployment.insurance.maximum.amount..dollars.        : int  275 370 240 240 451 450 618 649 400 444 ...\n",
      " $ Population.density.per.square.miles                           : num  93.24 1.11 62.91 62.91 56.67 ...\n",
      " $ Population.2018                                               : int  4887871 737438 7171646 7171646 3013825 39557045 5695564 3572665 967171 702455 ...\n",
      " $ Percent.living.under.the.federal.poverty.line..2018.          : num  16.8 10.9 14 14 17.2 12.8 9.6 10.4 12.5 16.2 ...\n",
      " $ Percent.at.risk.for.serious.illness.due.to.COVID              : num  43.1 32.8 39.1 39.1 43.5 33.3 31.3 36 41.3 31.8 ...\n",
      " $ All.cause.deaths.2018                                         : int  54352 4453 59282 59282 32336 268818 38526 31230 9433 5008 ...\n",
      " $ Children.0.18                                                 : num  0.24 0.27 0.24 0.24 0.25 0.24 0.24 0.22 0.22 0.2 ...\n",
      " $ Adults.19.25                                                  : num  0.09 0.09 0.09 0.09 0.09 0.09 0.09 0.08 0.08 0.1 ...\n",
      " $ Adults.26.34                                                  : num  0.12 0.13 0.12 0.12 0.12 0.14 0.14 0.11 0.12 0.21 ...\n",
      " $ Adults.35.54                                                  : num  0.25 0.26 0.24 0.24 0.25 0.26 0.26 0.27 0.25 0.27 ...\n",
      " $ Adults.55.64                                                  : num  0.14 0.13 0.12 0.12 0.13 0.12 0.13 0.15 0.14 0.1 ...\n",
      " $ X65.                                                          : num  0.17 0.12 0.18 0.18 0.17 0.14 0.14 0.17 0.19 0.12 ...\n"
     ]
    }
   ],
   "source": [
    "df_covid = read.csv(\"covid-19_dist0720.csv\")\n",
    "\n",
    "head(df_covid)\n",
    "summary(df_covid)\n",
    "str(df_covid)"
   ]
  },
  {
   "cell_type": "markdown",
   "metadata": {},
   "source": [
    "## Data Cleansing"
   ]
  },
  {
   "cell_type": "markdown",
   "metadata": {},
   "source": [
    "# 3. Modeling Process"
   ]
  },
  {
   "cell_type": "markdown",
   "metadata": {},
   "source": [
    "## Overview"
   ]
  },
  {
   "cell_type": "markdown",
   "metadata": {},
   "source": [
    "## Dependent Variable"
   ]
  },
  {
   "cell_type": "markdown",
   "metadata": {},
   "source": [
    "## Model 1"
   ]
  },
  {
   "cell_type": "markdown",
   "metadata": {},
   "source": [
    "### Independent Variable Selection"
   ]
  },
  {
   "cell_type": "markdown",
   "metadata": {},
   "source": [
    "### Model Execution and Interpretation"
   ]
  },
  {
   "cell_type": "markdown",
   "metadata": {},
   "source": [
    "### Model Diagnostics"
   ]
  },
  {
   "cell_type": "markdown",
   "metadata": {},
   "source": [
    "## Model 2"
   ]
  },
  {
   "cell_type": "markdown",
   "metadata": {},
   "source": [
    "### Independent Variable Selection"
   ]
  },
  {
   "cell_type": "markdown",
   "metadata": {},
   "source": [
    "### Model Execution and Interpretation"
   ]
  },
  {
   "cell_type": "markdown",
   "metadata": {},
   "source": [
    "### Model Diagnostics"
   ]
  },
  {
   "cell_type": "markdown",
   "metadata": {},
   "source": [
    "## Model 3"
   ]
  },
  {
   "cell_type": "markdown",
   "metadata": {},
   "source": [
    "### Independent Variable Selection"
   ]
  },
  {
   "cell_type": "markdown",
   "metadata": {},
   "source": [
    "### Model Execution and Interpretation"
   ]
  },
  {
   "cell_type": "markdown",
   "metadata": {},
   "source": [
    "### Model Diagnostics"
   ]
  },
  {
   "cell_type": "markdown",
   "metadata": {},
   "source": [
    "# 4. Assessment of the CLM Assumptions"
   ]
  },
  {
   "cell_type": "markdown",
   "metadata": {},
   "source": [
    "## MLR.1: Linearity in Parameters"
   ]
  },
  {
   "cell_type": "markdown",
   "metadata": {},
   "source": [
    "## MLR.2: Random Sampling"
   ]
  },
  {
   "cell_type": "markdown",
   "metadata": {},
   "source": [
    "## MLR.3: No Perfect Collinearity"
   ]
  },
  {
   "cell_type": "markdown",
   "metadata": {},
   "source": [
    "## MLR.4: Zero Conditional Mean"
   ]
  },
  {
   "cell_type": "markdown",
   "metadata": {},
   "source": [
    "## MLR.5: Homoskedasticity"
   ]
  },
  {
   "cell_type": "markdown",
   "metadata": {},
   "source": [
    "## MLR.6: Normality of Errors"
   ]
  },
  {
   "cell_type": "markdown",
   "metadata": {},
   "source": [
    "# 5. Regression Table"
   ]
  },
  {
   "cell_type": "markdown",
   "metadata": {},
   "source": [
    "### Statistical Significance"
   ]
  },
  {
   "cell_type": "markdown",
   "metadata": {},
   "source": [
    "### Practical Significance"
   ]
  },
  {
   "cell_type": "markdown",
   "metadata": {},
   "source": [
    "# 6. Omitted Variables Discussion"
   ]
  },
  {
   "cell_type": "markdown",
   "metadata": {},
   "source": [
    "# 7. Conclusion"
   ]
  }
 ],
 "metadata": {
  "kernelspec": {
   "display_name": "R",
   "language": "R",
   "name": "ir"
  },
  "language_info": {
   "codemirror_mode": "r",
   "file_extension": ".r",
   "mimetype": "text/x-r-source",
   "name": "R",
   "pygments_lexer": "r",
   "version": "4.0.1"
  }
 },
 "nbformat": 4,
 "nbformat_minor": 4
}
